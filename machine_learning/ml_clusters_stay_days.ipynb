{
 "cells": [
  {
   "cell_type": "markdown",
   "metadata": {},
   "source": [
    "## Stay Days Analysis\n",
    "\n",
    "What is the relationship between the patient data and the stay days in ICU?"
   ]
  },
  {
   "cell_type": "code",
   "execution_count": 51,
   "metadata": {},
   "outputs": [],
   "source": [
    "# Import Libraries\n",
    "from pathlib import Path\n",
    "import matplotlib.pyplot as plt\n",
    "import pandas as pd\n",
    "import numpy as np\n",
    "# Pre-processing\n",
    "import kardiasclean\n",
    "from sklearn.preprocessing import StandardScaler\n",
    "from sklearn.model_selection import train_test_split\n",
    "from sklearn.decomposition import PCA\n",
    "# Linear Regression\n",
    "from sklearn.linear_model import LinearRegression\n",
    "from sklearn.metrics import mean_squared_error, r2_score\n",
    "# KMeans Cluster\n",
    "from sklearn.cluster import KMeans"
   ]
  },
  {
   "cell_type": "code",
   "execution_count": 52,
   "metadata": {},
   "outputs": [
    {
     "data": {
      "text/html": [
       "<div>\n",
       "<style scoped>\n",
       "    .dataframe tbody tr th:only-of-type {\n",
       "        vertical-align: middle;\n",
       "    }\n",
       "\n",
       "    .dataframe tbody tr th {\n",
       "        vertical-align: top;\n",
       "    }\n",
       "\n",
       "    .dataframe thead th {\n",
       "        text-align: right;\n",
       "    }\n",
       "</style>\n",
       "<table border=\"1\" class=\"dataframe\">\n",
       "  <thead>\n",
       "    <tr style=\"text-align: right;\">\n",
       "      <th></th>\n",
       "      <th>patient_id</th>\n",
       "      <th>gender</th>\n",
       "      <th>age_days</th>\n",
       "      <th>weight_kg</th>\n",
       "      <th>height_cm</th>\n",
       "      <th>cx_previous</th>\n",
       "      <th>date_birth</th>\n",
       "      <th>date_procedure</th>\n",
       "      <th>rachs</th>\n",
       "      <th>stay_days</th>\n",
       "      <th>expired</th>\n",
       "    </tr>\n",
       "  </thead>\n",
       "  <tbody>\n",
       "    <tr>\n",
       "      <th>0</th>\n",
       "      <td>0</td>\n",
       "      <td>0</td>\n",
       "      <td>3942</td>\n",
       "      <td>35.0</td>\n",
       "      <td>134.0</td>\n",
       "      <td>0</td>\n",
       "      <td>2001-08-22</td>\n",
       "      <td>2012-04-08</td>\n",
       "      <td>1</td>\n",
       "      <td>2</td>\n",
       "      <td>0</td>\n",
       "    </tr>\n",
       "    <tr>\n",
       "      <th>1</th>\n",
       "      <td>1</td>\n",
       "      <td>1</td>\n",
       "      <td>3202</td>\n",
       "      <td>18.0</td>\n",
       "      <td>117.0</td>\n",
       "      <td>0</td>\n",
       "      <td>2003-09-19</td>\n",
       "      <td>2012-11-08</td>\n",
       "      <td>1</td>\n",
       "      <td>2</td>\n",
       "      <td>0</td>\n",
       "    </tr>\n",
       "    <tr>\n",
       "      <th>2</th>\n",
       "      <td>2</td>\n",
       "      <td>0</td>\n",
       "      <td>3147</td>\n",
       "      <td>22.0</td>\n",
       "      <td>120.0</td>\n",
       "      <td>0</td>\n",
       "      <td>2003-11-21</td>\n",
       "      <td>2012-08-18</td>\n",
       "      <td>1</td>\n",
       "      <td>2</td>\n",
       "      <td>0</td>\n",
       "    </tr>\n",
       "    <tr>\n",
       "      <th>3</th>\n",
       "      <td>3</td>\n",
       "      <td>0</td>\n",
       "      <td>4005</td>\n",
       "      <td>42.0</td>\n",
       "      <td>147.0</td>\n",
       "      <td>0</td>\n",
       "      <td>2001-10-07</td>\n",
       "      <td>2012-08-25</td>\n",
       "      <td>1</td>\n",
       "      <td>2</td>\n",
       "      <td>0</td>\n",
       "    </tr>\n",
       "    <tr>\n",
       "      <th>4</th>\n",
       "      <td>4</td>\n",
       "      <td>0</td>\n",
       "      <td>5289</td>\n",
       "      <td>40.0</td>\n",
       "      <td>157.0</td>\n",
       "      <td>0</td>\n",
       "      <td>1997-12-22</td>\n",
       "      <td>2012-01-09</td>\n",
       "      <td>1</td>\n",
       "      <td>3</td>\n",
       "      <td>0</td>\n",
       "    </tr>\n",
       "  </tbody>\n",
       "</table>\n",
       "</div>"
      ],
      "text/plain": [
       "   patient_id  gender  age_days  weight_kg  height_cm  cx_previous  \\\n",
       "0           0       0      3942       35.0      134.0            0   \n",
       "1           1       1      3202       18.0      117.0            0   \n",
       "2           2       0      3147       22.0      120.0            0   \n",
       "3           3       0      4005       42.0      147.0            0   \n",
       "4           4       0      5289       40.0      157.0            0   \n",
       "\n",
       "   date_birth date_procedure  rachs  stay_days  expired  \n",
       "0  2001-08-22     2012-04-08      1          2        0  \n",
       "1  2003-09-19     2012-11-08      1          2        0  \n",
       "2  2003-11-21     2012-08-18      1          2        0  \n",
       "3  2001-10-07     2012-08-25      1          2        0  \n",
       "4  1997-12-22     2012-01-09      1          3        0  "
      ]
     },
     "execution_count": 52,
     "metadata": {},
     "output_type": "execute_result"
    }
   ],
   "source": [
    "# Load Data\n",
    "path2 = Path(\"../database/clean2\")\n",
    "df = pd.read_csv(path2 / \"db_patient.csv\")\n",
    "df.head()"
   ]
  },
  {
   "cell_type": "markdown",
   "metadata": {},
   "source": [
    "### Attempt to use One-to-One Linear Regression"
   ]
  },
  {
   "cell_type": "code",
   "execution_count": 53,
   "metadata": {},
   "outputs": [
    {
     "data": {
      "text/html": [
       "<div>\n",
       "<style scoped>\n",
       "    .dataframe tbody tr th:only-of-type {\n",
       "        vertical-align: middle;\n",
       "    }\n",
       "\n",
       "    .dataframe tbody tr th {\n",
       "        vertical-align: top;\n",
       "    }\n",
       "\n",
       "    .dataframe thead th {\n",
       "        text-align: right;\n",
       "    }\n",
       "</style>\n",
       "<table border=\"1\" class=\"dataframe\">\n",
       "  <thead>\n",
       "    <tr style=\"text-align: right;\">\n",
       "      <th></th>\n",
       "      <th>rachs</th>\n",
       "      <th>stay_days</th>\n",
       "    </tr>\n",
       "  </thead>\n",
       "  <tbody>\n",
       "    <tr>\n",
       "      <th>0</th>\n",
       "      <td>1</td>\n",
       "      <td>2</td>\n",
       "    </tr>\n",
       "    <tr>\n",
       "      <th>1</th>\n",
       "      <td>1</td>\n",
       "      <td>2</td>\n",
       "    </tr>\n",
       "    <tr>\n",
       "      <th>2</th>\n",
       "      <td>1</td>\n",
       "      <td>2</td>\n",
       "    </tr>\n",
       "    <tr>\n",
       "      <th>3</th>\n",
       "      <td>1</td>\n",
       "      <td>2</td>\n",
       "    </tr>\n",
       "    <tr>\n",
       "      <th>4</th>\n",
       "      <td>1</td>\n",
       "      <td>3</td>\n",
       "    </tr>\n",
       "    <tr>\n",
       "      <th>...</th>\n",
       "      <td>...</td>\n",
       "      <td>...</td>\n",
       "    </tr>\n",
       "    <tr>\n",
       "      <th>998</th>\n",
       "      <td>3</td>\n",
       "      <td>14</td>\n",
       "    </tr>\n",
       "    <tr>\n",
       "      <th>999</th>\n",
       "      <td>1</td>\n",
       "      <td>2</td>\n",
       "    </tr>\n",
       "    <tr>\n",
       "      <th>1000</th>\n",
       "      <td>3</td>\n",
       "      <td>15</td>\n",
       "    </tr>\n",
       "    <tr>\n",
       "      <th>1001</th>\n",
       "      <td>4</td>\n",
       "      <td>10</td>\n",
       "    </tr>\n",
       "    <tr>\n",
       "      <th>1002</th>\n",
       "      <td>3</td>\n",
       "      <td>10</td>\n",
       "    </tr>\n",
       "  </tbody>\n",
       "</table>\n",
       "<p>1003 rows × 2 columns</p>\n",
       "</div>"
      ],
      "text/plain": [
       "      rachs  stay_days\n",
       "0         1          2\n",
       "1         1          2\n",
       "2         1          2\n",
       "3         1          2\n",
       "4         1          3\n",
       "...     ...        ...\n",
       "998       3         14\n",
       "999       1          2\n",
       "1000      3         15\n",
       "1001      4         10\n",
       "1002      3         10\n",
       "\n",
       "[1003 rows x 2 columns]"
      ]
     },
     "execution_count": 53,
     "metadata": {},
     "output_type": "execute_result"
    }
   ],
   "source": [
    "# Feature and Target\n",
    "rachs_stay_days_gp = df[[\"rachs\", \"stay_days\"]]\n",
    "rachs_stay_days_gp"
   ]
  },
  {
   "cell_type": "code",
   "execution_count": 54,
   "metadata": {},
   "outputs": [
    {
     "data": {
      "text/plain": [
       "Text(0, 0.5, 'Stay Days')"
      ]
     },
     "execution_count": 54,
     "metadata": {},
     "output_type": "execute_result"
    },
    {
     "data": {
      "image/png": "[encoded data removed]",
      "text/plain": [
       "<Figure size 432x288 with 1 Axes>"
      ]
     },
     "metadata": {
      "needs_background": "light"
     },
     "output_type": "display_data"
    }
   ],
   "source": [
    "# Plot data\n",
    "plt.scatter(df['rachs'], df['stay_days'])\n",
    "plt.title(f\"Rachs vs Stay Days\")\n",
    "plt.xlabel(\"Rachs\")\n",
    "plt.ylabel(\"Stay Days\")"
   ]
  },
  {
   "cell_type": "code",
   "execution_count": 55,
   "metadata": {},
   "outputs": [
    {
     "name": "stdout",
     "output_type": "stream",
     "text": [
      "r-squared: 0.06663137495024785\n",
      "mean-squared error: 482.18769946239297\n",
      "0.71%\n"
     ]
    }
   ],
   "source": [
    "# Linear Regression Attempt (Fail)\n",
    "X = df[\"rachs\"].values.reshape(-1, 1)\n",
    "y = df[\"stay_days\"].values.reshape(-1, 1)\n",
    "X_train, X_test, y_train, y_test = train_test_split(X, y, random_state=1)\n",
    "X.shape, y.shape\n",
    "\n",
    "# Create Model\n",
    "model = LinearRegression()\n",
    "model.fit(X_train, y_train)\n",
    "y_pred = model.predict(X)\n",
    "# Evaluate Model\n",
    "r2 = r2_score(y, y_pred)\n",
    "mse = mean_squared_error(y, y_pred)\n",
    "print(\"r-squared:\", r2)\n",
    "print(\"mean-squared error:\", mse)\n",
    "score = model.score(X_test, y_test)\n",
    "print(f\"{100*score:.2f}%\")"
   ]
  },
  {
   "cell_type": "code",
   "execution_count": 56,
   "metadata": {},
   "outputs": [
    {
     "data": {
      "text/plain": [
       "[<matplotlib.lines.Line2D at 0x13ad2cb10>]"
      ]
     },
     "execution_count": 56,
     "metadata": {},
     "output_type": "execute_result"
    },
    {
     "data": {
      "image/png": "[encoded data removed]",
      "text/plain": [
       "<Figure size 432x288 with 1 Axes>"
      ]
     },
     "metadata": {
      "needs_background": "light"
     },
     "output_type": "display_data"
    }
   ],
   "source": [
    "# Visualize Failed Linear Regression\n",
    "plt.scatter(df['rachs'], df['stay_days'])\n",
    "plt.title(f\"Rachs vs Stay Days\")\n",
    "plt.xlabel(\"Rachs\")\n",
    "plt.ylabel(\"Stay Days\")\n",
    "plt.plot(X, y_pred, color='red')"
   ]
  },
  {
   "cell_type": "markdown",
   "metadata": {},
   "source": [
    "### Exploratory Analysis\n",
    "\n",
    "What are the averages of other variables by rachs score?\n",
    "\n",
    "Note: Rachs score 0 represents records that had no Rach Score."
   ]
  },
  {
   "cell_type": "code",
   "execution_count": 57,
   "metadata": {},
   "outputs": [
    {
     "data": {
      "text/html": [
       "<div>\n",
       "<style scoped>\n",
       "    .dataframe tbody tr th:only-of-type {\n",
       "        vertical-align: middle;\n",
       "    }\n",
       "\n",
       "    .dataframe tbody tr th {\n",
       "        vertical-align: top;\n",
       "    }\n",
       "\n",
       "    .dataframe thead th {\n",
       "        text-align: right;\n",
       "    }\n",
       "</style>\n",
       "<table border=\"1\" class=\"dataframe\">\n",
       "  <thead>\n",
       "    <tr style=\"text-align: right;\">\n",
       "      <th></th>\n",
       "      <th>stay_days</th>\n",
       "      <th>patients</th>\n",
       "      <th>mortality</th>\n",
       "      <th>mortality_rate</th>\n",
       "    </tr>\n",
       "    <tr>\n",
       "      <th>rachs</th>\n",
       "      <th></th>\n",
       "      <th></th>\n",
       "      <th></th>\n",
       "      <th></th>\n",
       "    </tr>\n",
       "  </thead>\n",
       "  <tbody>\n",
       "    <tr>\n",
       "      <th>0</th>\n",
       "      <td>17.100000</td>\n",
       "      <td>20</td>\n",
       "      <td>2</td>\n",
       "      <td>10.00%</td>\n",
       "    </tr>\n",
       "    <tr>\n",
       "      <th>1</th>\n",
       "      <td>2.932039</td>\n",
       "      <td>206</td>\n",
       "      <td>0</td>\n",
       "      <td>0.00%</td>\n",
       "    </tr>\n",
       "    <tr>\n",
       "      <th>2</th>\n",
       "      <td>8.591880</td>\n",
       "      <td>468</td>\n",
       "      <td>10</td>\n",
       "      <td>2.14%</td>\n",
       "    </tr>\n",
       "    <tr>\n",
       "      <th>3</th>\n",
       "      <td>13.316964</td>\n",
       "      <td>224</td>\n",
       "      <td>19</td>\n",
       "      <td>8.48%</td>\n",
       "    </tr>\n",
       "    <tr>\n",
       "      <th>4</th>\n",
       "      <td>18.767123</td>\n",
       "      <td>73</td>\n",
       "      <td>11</td>\n",
       "      <td>15.07%</td>\n",
       "    </tr>\n",
       "    <tr>\n",
       "      <th>5</th>\n",
       "      <td>34.000000</td>\n",
       "      <td>1</td>\n",
       "      <td>0</td>\n",
       "      <td>0.00%</td>\n",
       "    </tr>\n",
       "    <tr>\n",
       "      <th>6</th>\n",
       "      <td>67.909091</td>\n",
       "      <td>11</td>\n",
       "      <td>4</td>\n",
       "      <td>36.36%</td>\n",
       "    </tr>\n",
       "  </tbody>\n",
       "</table>\n",
       "</div>"
      ],
      "text/plain": [
       "       stay_days  patients  mortality mortality_rate\n",
       "rachs                                               \n",
       "0      17.100000        20          2         10.00%\n",
       "1       2.932039       206          0          0.00%\n",
       "2       8.591880       468         10          2.14%\n",
       "3      13.316964       224         19          8.48%\n",
       "4      18.767123        73         11         15.07%\n",
       "5      34.000000         1          0          0.00%\n",
       "6      67.909091        11          4         36.36%"
      ]
     },
     "execution_count": 57,
     "metadata": {},
     "output_type": "execute_result"
    }
   ],
   "source": [
    "# Exploratory Group Bys\n",
    "rachs_stay_days_gp = df[[\"rachs\", \"stay_days\"]].groupby(\"rachs\")\n",
    "rachs = rachs_stay_days_gp.mean()\n",
    "\n",
    "rachs_mortality = df[[\"rachs\", \"expired\"]].groupby(\"rachs\").sum()\n",
    "# stay_days_rachs = pd.merge(stay_days_rachs, df[\"rachs\"].value_counts())\n",
    "rachs_count = df[\"rachs\"].value_counts().sort_index()\n",
    "rachs[\"patients\"] = df[\"rachs\"].value_counts().sort_values()\n",
    "rachs[\"mortality\"] = rachs_mortality\n",
    "rachs[\"mortality_rate\"] = (rachs[\"mortality\"] / rachs[\"patients\"]).map(lambda x: f\"{100*x:,.2f}%\")\n",
    "# stay_days_rachs\n",
    "rachs"
   ]
  },
  {
   "cell_type": "code",
   "execution_count": 58,
   "metadata": {},
   "outputs": [
    {
     "data": {
      "text/html": [
       "<div>\n",
       "<style scoped>\n",
       "    .dataframe tbody tr th:only-of-type {\n",
       "        vertical-align: middle;\n",
       "    }\n",
       "\n",
       "    .dataframe tbody tr th {\n",
       "        vertical-align: top;\n",
       "    }\n",
       "\n",
       "    .dataframe thead th {\n",
       "        text-align: right;\n",
       "    }\n",
       "</style>\n",
       "<table border=\"1\" class=\"dataframe\">\n",
       "  <thead>\n",
       "    <tr style=\"text-align: right;\">\n",
       "      <th></th>\n",
       "      <th>patient_id</th>\n",
       "      <th>gender</th>\n",
       "      <th>age_days</th>\n",
       "      <th>weight_kg</th>\n",
       "      <th>height_cm</th>\n",
       "      <th>cx_previous</th>\n",
       "      <th>rachs</th>\n",
       "      <th>stay_days</th>\n",
       "    </tr>\n",
       "  </thead>\n",
       "  <tbody>\n",
       "    <tr>\n",
       "      <th>0</th>\n",
       "      <td>0</td>\n",
       "      <td>0</td>\n",
       "      <td>3942</td>\n",
       "      <td>35.0</td>\n",
       "      <td>134.0</td>\n",
       "      <td>0</td>\n",
       "      <td>1</td>\n",
       "      <td>2</td>\n",
       "    </tr>\n",
       "    <tr>\n",
       "      <th>1</th>\n",
       "      <td>1</td>\n",
       "      <td>1</td>\n",
       "      <td>3202</td>\n",
       "      <td>18.0</td>\n",
       "      <td>117.0</td>\n",
       "      <td>0</td>\n",
       "      <td>1</td>\n",
       "      <td>2</td>\n",
       "    </tr>\n",
       "    <tr>\n",
       "      <th>2</th>\n",
       "      <td>2</td>\n",
       "      <td>0</td>\n",
       "      <td>3147</td>\n",
       "      <td>22.0</td>\n",
       "      <td>120.0</td>\n",
       "      <td>0</td>\n",
       "      <td>1</td>\n",
       "      <td>2</td>\n",
       "    </tr>\n",
       "    <tr>\n",
       "      <th>3</th>\n",
       "      <td>3</td>\n",
       "      <td>0</td>\n",
       "      <td>4005</td>\n",
       "      <td>42.0</td>\n",
       "      <td>147.0</td>\n",
       "      <td>0</td>\n",
       "      <td>1</td>\n",
       "      <td>2</td>\n",
       "    </tr>\n",
       "    <tr>\n",
       "      <th>4</th>\n",
       "      <td>4</td>\n",
       "      <td>0</td>\n",
       "      <td>5289</td>\n",
       "      <td>40.0</td>\n",
       "      <td>157.0</td>\n",
       "      <td>0</td>\n",
       "      <td>1</td>\n",
       "      <td>3</td>\n",
       "    </tr>\n",
       "  </tbody>\n",
       "</table>\n",
       "</div>"
      ],
      "text/plain": [
       "   patient_id  gender  age_days  weight_kg  height_cm  cx_previous  rachs  \\\n",
       "0           0       0      3942       35.0      134.0            0      1   \n",
       "1           1       1      3202       18.0      117.0            0      1   \n",
       "2           2       0      3147       22.0      120.0            0      1   \n",
       "3           3       0      4005       42.0      147.0            0      1   \n",
       "4           4       0      5289       40.0      157.0            0      1   \n",
       "\n",
       "   stay_days  \n",
       "0          2  \n",
       "1          2  \n",
       "2          2  \n",
       "3          2  \n",
       "4          3  "
      ]
     },
     "execution_count": 58,
     "metadata": {},
     "output_type": "execute_result"
    }
   ],
   "source": [
    "# Select feature columns for clustering\n",
    "columns = [\n",
    "    \"patient_id\",\n",
    "    \"gender\",\n",
    "    \"age_days\", \n",
    "    \"weight_kg\", \n",
    "    \"height_cm\", \n",
    "    \"cx_previous\",\n",
    "    \"rachs\",\n",
    "    \"stay_days\",\n",
    "]\n",
    "df = df[columns]\n",
    "df.head()"
   ]
  },
  {
   "cell_type": "markdown",
   "metadata": {},
   "source": [
    "Include the Diagnosis Data"
   ]
  },
  {
   "cell_type": "code",
   "execution_count": 59,
   "metadata": {},
   "outputs": [
    {
     "data": {
      "text/html": [
       "<div>\n",
       "<style scoped>\n",
       "    .dataframe tbody tr th:only-of-type {\n",
       "        vertical-align: middle;\n",
       "    }\n",
       "\n",
       "    .dataframe tbody tr th {\n",
       "        vertical-align: top;\n",
       "    }\n",
       "\n",
       "    .dataframe thead th {\n",
       "        text-align: right;\n",
       "    }\n",
       "</style>\n",
       "<table border=\"1\" class=\"dataframe\">\n",
       "  <thead>\n",
       "    <tr style=\"text-align: right;\">\n",
       "      <th></th>\n",
       "      <th>patient_id</th>\n",
       "      <th>diagnosis_main</th>\n",
       "      <th>categories</th>\n",
       "    </tr>\n",
       "  </thead>\n",
       "  <tbody>\n",
       "    <tr>\n",
       "      <th>0</th>\n",
       "      <td>0</td>\n",
       "      <td>Comunicacion interauricular secundum</td>\n",
       "      <td>CIA</td>\n",
       "    </tr>\n",
       "    <tr>\n",
       "      <th>1</th>\n",
       "      <td>1</td>\n",
       "      <td>Comunicacion interauricular secundum</td>\n",
       "      <td>CIA</td>\n",
       "    </tr>\n",
       "    <tr>\n",
       "      <th>2</th>\n",
       "      <td>2</td>\n",
       "      <td>Comunicacion interauricular secundum</td>\n",
       "      <td>CIA</td>\n",
       "    </tr>\n",
       "    <tr>\n",
       "      <th>3</th>\n",
       "      <td>3</td>\n",
       "      <td>Comunicacion interauricular secundum</td>\n",
       "      <td>CIA</td>\n",
       "    </tr>\n",
       "    <tr>\n",
       "      <th>4</th>\n",
       "      <td>4</td>\n",
       "      <td>Comunicacion interauricular secundum</td>\n",
       "      <td>CIA</td>\n",
       "    </tr>\n",
       "  </tbody>\n",
       "</table>\n",
       "</div>"
      ],
      "text/plain": [
       "   patient_id                        diagnosis_main categories\n",
       "0           0  Comunicacion interauricular secundum        CIA\n",
       "1           1  Comunicacion interauricular secundum        CIA\n",
       "2           2  Comunicacion interauricular secundum        CIA\n",
       "3           3  Comunicacion interauricular secundum        CIA\n",
       "4           4  Comunicacion interauricular secundum        CIA"
      ]
     },
     "execution_count": 59,
     "metadata": {},
     "output_type": "execute_result"
    }
   ],
   "source": [
    "# Load additional columns: DIAGNOSIS\n",
    "df2 = pd.read_csv(\"../database/clean3/main_diagnosis_categories.csv\")\n",
    "df2.dropna(inplace=True)\n",
    "df2.head()"
   ]
  },
  {
   "cell_type": "code",
   "execution_count": 60,
   "metadata": {},
   "outputs": [
    {
     "name": "stdout",
     "output_type": "stream",
     "text": [
      "Total data (repeated): 1997\n",
      "--------------------\n",
      "Unique high frequency data: 9\n",
      "Unique low frequency data: 336\n",
      "--------------------\n",
      "Total high frequency data: 1331\n",
      "Total low frequency data: 666\n",
      "--------------------\n",
      "Percentage of high data: 66.65%\n",
      "Percentage of low data: 33.35%\n",
      "--------------------\n",
      "Summary\n",
      "--------------------\n",
      "From 1997 data, 9 account for 66.65% of the total count.\n",
      "\n"
     ]
    },
    {
     "data": {
      "text/html": [
       "<div>\n",
       "<style scoped>\n",
       "    .dataframe tbody tr th:only-of-type {\n",
       "        vertical-align: middle;\n",
       "    }\n",
       "\n",
       "    .dataframe tbody tr th {\n",
       "        vertical-align: top;\n",
       "    }\n",
       "\n",
       "    .dataframe thead th {\n",
       "        text-align: right;\n",
       "    }\n",
       "</style>\n",
       "<table border=\"1\" class=\"dataframe\">\n",
       "  <thead>\n",
       "    <tr style=\"text-align: right;\">\n",
       "      <th></th>\n",
       "      <th>patient_id</th>\n",
       "      <th>CIA</th>\n",
       "      <th>CIV</th>\n",
       "      <th>Estenosis</th>\n",
       "      <th>PCA</th>\n",
       "      <th>Other</th>\n",
       "      <th>Coartacion Aortica</th>\n",
       "      <th>Tetralogia de Fallot</th>\n",
       "      <th>Atresia</th>\n",
       "      <th>Post-Surgical Procedure</th>\n",
       "      <th>Hipoplasia</th>\n",
       "    </tr>\n",
       "  </thead>\n",
       "  <tbody>\n",
       "    <tr>\n",
       "      <th>0</th>\n",
       "      <td>0</td>\n",
       "      <td>1</td>\n",
       "      <td>0</td>\n",
       "      <td>0</td>\n",
       "      <td>0</td>\n",
       "      <td>0</td>\n",
       "      <td>0</td>\n",
       "      <td>0</td>\n",
       "      <td>0</td>\n",
       "      <td>0</td>\n",
       "      <td>0</td>\n",
       "    </tr>\n",
       "    <tr>\n",
       "      <th>1</th>\n",
       "      <td>1</td>\n",
       "      <td>1</td>\n",
       "      <td>0</td>\n",
       "      <td>0</td>\n",
       "      <td>0</td>\n",
       "      <td>0</td>\n",
       "      <td>0</td>\n",
       "      <td>0</td>\n",
       "      <td>0</td>\n",
       "      <td>0</td>\n",
       "      <td>0</td>\n",
       "    </tr>\n",
       "    <tr>\n",
       "      <th>2</th>\n",
       "      <td>2</td>\n",
       "      <td>1</td>\n",
       "      <td>0</td>\n",
       "      <td>0</td>\n",
       "      <td>0</td>\n",
       "      <td>0</td>\n",
       "      <td>0</td>\n",
       "      <td>0</td>\n",
       "      <td>0</td>\n",
       "      <td>0</td>\n",
       "      <td>0</td>\n",
       "    </tr>\n",
       "    <tr>\n",
       "      <th>3</th>\n",
       "      <td>3</td>\n",
       "      <td>1</td>\n",
       "      <td>0</td>\n",
       "      <td>0</td>\n",
       "      <td>0</td>\n",
       "      <td>0</td>\n",
       "      <td>0</td>\n",
       "      <td>0</td>\n",
       "      <td>0</td>\n",
       "      <td>0</td>\n",
       "      <td>0</td>\n",
       "    </tr>\n",
       "    <tr>\n",
       "      <th>4</th>\n",
       "      <td>4</td>\n",
       "      <td>1</td>\n",
       "      <td>0</td>\n",
       "      <td>0</td>\n",
       "      <td>0</td>\n",
       "      <td>0</td>\n",
       "      <td>0</td>\n",
       "      <td>0</td>\n",
       "      <td>0</td>\n",
       "      <td>0</td>\n",
       "      <td>0</td>\n",
       "    </tr>\n",
       "  </tbody>\n",
       "</table>\n",
       "</div>"
      ],
      "text/plain": [
       "   patient_id  CIA  CIV  Estenosis  PCA  Other  Coartacion Aortica  \\\n",
       "0           0    1    0          0    0      0                   0   \n",
       "1           1    1    0          0    0      0                   0   \n",
       "2           2    1    0          0    0      0                   0   \n",
       "3           3    1    0          0    0      0                   0   \n",
       "4           4    1    0          0    0      0                   0   \n",
       "\n",
       "   Tetralogia de Fallot  Atresia  Post-Surgical Procedure  Hipoplasia  \n",
       "0                     0        0                        0           0  \n",
       "1                     0        0                        0           0  \n",
       "2                     0        0                        0           0  \n",
       "3                     0        0                        0           0  \n",
       "4                     0        0                        0           0  "
      ]
     },
     "execution_count": 60,
     "metadata": {},
     "output_type": "execute_result"
    }
   ],
   "source": [
    "# BIN ALL COLUMNS THAT ARE UNDER A QUANTILE THRESHOLD\n",
    "THRESHOLD = 0.975\n",
    "low, high = kardiasclean.perform_frequency_split_quantile(df2['categories'], THRESHOLD)\n",
    "print(kardiasclean.evaluate_distribution(high, low))\n",
    "\n",
    "df2[\"categories\"] = kardiasclean.perform_binning_quantile(df2[\"categories\"], THRESHOLD)\n",
    "encoded_df = kardiasclean.perform_matrix_encoding(df2[\"categories\"], df2[\"patient_id\"], append_name=False)\n",
    "encoded_df.head()"
   ]
  },
  {
   "cell_type": "code",
   "execution_count": 61,
   "metadata": {},
   "outputs": [
    {
     "data": {
      "text/html": [
       "<div>\n",
       "<style scoped>\n",
       "    .dataframe tbody tr th:only-of-type {\n",
       "        vertical-align: middle;\n",
       "    }\n",
       "\n",
       "    .dataframe tbody tr th {\n",
       "        vertical-align: top;\n",
       "    }\n",
       "\n",
       "    .dataframe thead th {\n",
       "        text-align: right;\n",
       "    }\n",
       "</style>\n",
       "<table border=\"1\" class=\"dataframe\">\n",
       "  <thead>\n",
       "    <tr style=\"text-align: right;\">\n",
       "      <th></th>\n",
       "      <th>patient_id</th>\n",
       "      <th>gender</th>\n",
       "      <th>age_days</th>\n",
       "      <th>weight_kg</th>\n",
       "      <th>height_cm</th>\n",
       "      <th>cx_previous</th>\n",
       "      <th>rachs</th>\n",
       "      <th>stay_days</th>\n",
       "      <th>CIA</th>\n",
       "      <th>CIV</th>\n",
       "      <th>Estenosis</th>\n",
       "      <th>PCA</th>\n",
       "      <th>Other</th>\n",
       "      <th>Coartacion Aortica</th>\n",
       "      <th>Tetralogia de Fallot</th>\n",
       "      <th>Atresia</th>\n",
       "      <th>Post-Surgical Procedure</th>\n",
       "      <th>Hipoplasia</th>\n",
       "    </tr>\n",
       "  </thead>\n",
       "  <tbody>\n",
       "    <tr>\n",
       "      <th>0</th>\n",
       "      <td>0</td>\n",
       "      <td>0</td>\n",
       "      <td>3942</td>\n",
       "      <td>35.0</td>\n",
       "      <td>134.0</td>\n",
       "      <td>0</td>\n",
       "      <td>1</td>\n",
       "      <td>2</td>\n",
       "      <td>1</td>\n",
       "      <td>0</td>\n",
       "      <td>0</td>\n",
       "      <td>0</td>\n",
       "      <td>0</td>\n",
       "      <td>0</td>\n",
       "      <td>0</td>\n",
       "      <td>0</td>\n",
       "      <td>0</td>\n",
       "      <td>0</td>\n",
       "    </tr>\n",
       "    <tr>\n",
       "      <th>1</th>\n",
       "      <td>1</td>\n",
       "      <td>1</td>\n",
       "      <td>3202</td>\n",
       "      <td>18.0</td>\n",
       "      <td>117.0</td>\n",
       "      <td>0</td>\n",
       "      <td>1</td>\n",
       "      <td>2</td>\n",
       "      <td>1</td>\n",
       "      <td>0</td>\n",
       "      <td>0</td>\n",
       "      <td>0</td>\n",
       "      <td>0</td>\n",
       "      <td>0</td>\n",
       "      <td>0</td>\n",
       "      <td>0</td>\n",
       "      <td>0</td>\n",
       "      <td>0</td>\n",
       "    </tr>\n",
       "    <tr>\n",
       "      <th>2</th>\n",
       "      <td>2</td>\n",
       "      <td>0</td>\n",
       "      <td>3147</td>\n",
       "      <td>22.0</td>\n",
       "      <td>120.0</td>\n",
       "      <td>0</td>\n",
       "      <td>1</td>\n",
       "      <td>2</td>\n",
       "      <td>1</td>\n",
       "      <td>0</td>\n",
       "      <td>0</td>\n",
       "      <td>0</td>\n",
       "      <td>0</td>\n",
       "      <td>0</td>\n",
       "      <td>0</td>\n",
       "      <td>0</td>\n",
       "      <td>0</td>\n",
       "      <td>0</td>\n",
       "    </tr>\n",
       "    <tr>\n",
       "      <th>3</th>\n",
       "      <td>3</td>\n",
       "      <td>0</td>\n",
       "      <td>4005</td>\n",
       "      <td>42.0</td>\n",
       "      <td>147.0</td>\n",
       "      <td>0</td>\n",
       "      <td>1</td>\n",
       "      <td>2</td>\n",
       "      <td>1</td>\n",
       "      <td>0</td>\n",
       "      <td>0</td>\n",
       "      <td>0</td>\n",
       "      <td>0</td>\n",
       "      <td>0</td>\n",
       "      <td>0</td>\n",
       "      <td>0</td>\n",
       "      <td>0</td>\n",
       "      <td>0</td>\n",
       "    </tr>\n",
       "    <tr>\n",
       "      <th>4</th>\n",
       "      <td>4</td>\n",
       "      <td>0</td>\n",
       "      <td>5289</td>\n",
       "      <td>40.0</td>\n",
       "      <td>157.0</td>\n",
       "      <td>0</td>\n",
       "      <td>1</td>\n",
       "      <td>3</td>\n",
       "      <td>1</td>\n",
       "      <td>0</td>\n",
       "      <td>0</td>\n",
       "      <td>0</td>\n",
       "      <td>0</td>\n",
       "      <td>0</td>\n",
       "      <td>0</td>\n",
       "      <td>0</td>\n",
       "      <td>0</td>\n",
       "      <td>0</td>\n",
       "    </tr>\n",
       "  </tbody>\n",
       "</table>\n",
       "</div>"
      ],
      "text/plain": [
       "   patient_id  gender  age_days  weight_kg  height_cm  cx_previous  rachs  \\\n",
       "0           0       0      3942       35.0      134.0            0      1   \n",
       "1           1       1      3202       18.0      117.0            0      1   \n",
       "2           2       0      3147       22.0      120.0            0      1   \n",
       "3           3       0      4005       42.0      147.0            0      1   \n",
       "4           4       0      5289       40.0      157.0            0      1   \n",
       "\n",
       "   stay_days  CIA  CIV  Estenosis  PCA  Other  Coartacion Aortica  \\\n",
       "0          2    1    0          0    0      0                   0   \n",
       "1          2    1    0          0    0      0                   0   \n",
       "2          2    1    0          0    0      0                   0   \n",
       "3          2    1    0          0    0      0                   0   \n",
       "4          3    1    0          0    0      0                   0   \n",
       "\n",
       "   Tetralogia de Fallot  Atresia  Post-Surgical Procedure  Hipoplasia  \n",
       "0                     0        0                        0           0  \n",
       "1                     0        0                        0           0  \n",
       "2                     0        0                        0           0  \n",
       "3                     0        0                        0           0  \n",
       "4                     0        0                        0           0  "
      ]
     },
     "execution_count": 61,
     "metadata": {},
     "output_type": "execute_result"
    }
   ],
   "source": [
    "# Merge encoded data with original\n",
    "merged_df = pd.merge(df, encoded_df)\n",
    "merged_df.head()"
   ]
  },
  {
   "cell_type": "markdown",
   "metadata": {},
   "source": [
    "## Principal Component Analysis\n",
    "\n",
    "Do we have a good amount of features to make a preiction?\n",
    "\n",
    "(Change the Binning Threshold depending on PCA evaluation)"
   ]
  },
  {
   "cell_type": "code",
   "execution_count": 62,
   "metadata": {},
   "outputs": [
    {
     "data": {
      "text/plain": [
       "(1003, 17)"
      ]
     },
     "execution_count": 62,
     "metadata": {},
     "output_type": "execute_result"
    }
   ],
   "source": [
    "y = merged_df[\"stay_days\"]\n",
    "X = merged_df.drop(columns=[\"stay_days\"])\n",
    "X_scaled = StandardScaler().fit_transform(X)\n",
    "X_scaled.shape"
   ]
  },
  {
   "cell_type": "code",
   "execution_count": 63,
   "metadata": {},
   "outputs": [
    {
     "data": {
      "text/plain": [
       "0.9859264801935533"
      ]
     },
     "execution_count": 63,
     "metadata": {},
     "output_type": "execute_result"
    },
    {
     "data": {
      "image/png": "[encoded data removed]",
      "text/plain": [
       "<Figure size 432x288 with 1 Axes>"
      ]
     },
     "metadata": {
      "needs_background": "light"
     },
     "output_type": "display_data"
    }
   ],
   "source": [
    "# Evaluate PCA\n",
    "def get_explained_variance_ratio(df: pd.DataFrame, n_components: int):\n",
    "    pca = PCA(n_components=n_components)\n",
    "    data = pca.fit_transform(df)\n",
    "    return data, np.asarray(pca.explained_variance_ratio_)\n",
    "\n",
    "N_COMPONENTS = 15\n",
    "data, evr = get_explained_variance_ratio(X_scaled, N_COMPONENTS)\n",
    "X_pca = pd.DataFrame(data, columns=[f\"PC{x+1}\" for x in range(N_COMPONENTS)])\n",
    "\n",
    "plt.plot(np.cumsum(evr))\n",
    "plt.title(\"Explained Variance Ratio Cumulative\")\n",
    "plt.xlabel(\"PCA\")\n",
    "plt.ylabel(\"Percentage\")\n",
    "sum(evr)"
   ]
  },
  {
   "cell_type": "markdown",
   "metadata": {},
   "source": [
    "**CONCLUSION:** We are not going to use the PCA, because the cleaning was good."
   ]
  },
  {
   "cell_type": "markdown",
   "metadata": {},
   "source": [
    "## KMeans Clustering\n",
    "\n",
    "Apply a Clustering Algorithm."
   ]
  },
  {
   "cell_type": "code",
   "execution_count": 64,
   "metadata": {},
   "outputs": [
    {
     "data": {
      "text/plain": [
       "[<matplotlib.lines.Line2D at 0x13ae6de90>]"
      ]
     },
     "execution_count": 64,
     "metadata": {},
     "output_type": "execute_result"
    },
    {
     "data": {
      "image/png": "[encoded data removed]",
      "text/plain": [
       "<Figure size 432x288 with 1 Axes>"
      ]
     },
     "metadata": {
      "needs_background": "light"
     },
     "output_type": "display_data"
    }
   ],
   "source": [
    "# Plot the Elbow curve\n",
    "sse = pd.Series({k: KMeans(n_clusters=k).fit(X_scaled).inertia_ for k in range(1, 15)})\n",
    "N_CLUSTERS = 10\n",
    "plt.scatter(N_CLUSTERS, sse[N_CLUSTERS], color=\"red\")\n",
    "plt.plot(sse.index, sse.values)"
   ]
  },
  {
   "cell_type": "code",
   "execution_count": 65,
   "metadata": {},
   "outputs": [
    {
     "name": "stdout",
     "output_type": "stream",
     "text": [
      "Patients per Cluster\n"
     ]
    },
    {
     "data": {
      "text/plain": [
       "0     64\n",
       "1    131\n",
       "2     58\n",
       "3     70\n",
       "4     95\n",
       "5     77\n",
       "6    182\n",
       "7    134\n",
       "8     46\n",
       "9    146\n",
       "dtype: int64"
      ]
     },
     "execution_count": 65,
     "metadata": {},
     "output_type": "execute_result"
    }
   ],
   "source": [
    "# Create Clusters\n",
    "model = KMeans(n_clusters=N_CLUSTERS, random_state=1).fit(X_scaled)\n",
    "clusters = pd.Series(model.predict(X_scaled))\n",
    "print(\"Patients per Cluster\")\n",
    "clusters.value_counts().sort_index()"
   ]
  },
  {
   "cell_type": "code",
   "execution_count": 66,
   "metadata": {},
   "outputs": [
    {
     "data": {
      "text/html": [
       "<div>\n",
       "<style scoped>\n",
       "    .dataframe tbody tr th:only-of-type {\n",
       "        vertical-align: middle;\n",
       "    }\n",
       "\n",
       "    .dataframe tbody tr th {\n",
       "        vertical-align: top;\n",
       "    }\n",
       "\n",
       "    .dataframe thead th {\n",
       "        text-align: right;\n",
       "    }\n",
       "</style>\n",
       "<table border=\"1\" class=\"dataframe\">\n",
       "  <thead>\n",
       "    <tr style=\"text-align: right;\">\n",
       "      <th></th>\n",
       "      <th>patient_id</th>\n",
       "      <th>gender</th>\n",
       "      <th>age_days</th>\n",
       "      <th>weight_kg</th>\n",
       "      <th>height_cm</th>\n",
       "      <th>cx_previous</th>\n",
       "      <th>rachs</th>\n",
       "      <th>stay_days</th>\n",
       "      <th>CIA</th>\n",
       "      <th>CIV</th>\n",
       "      <th>Estenosis</th>\n",
       "      <th>PCA</th>\n",
       "      <th>Other</th>\n",
       "      <th>Coartacion Aortica</th>\n",
       "      <th>Tetralogia de Fallot</th>\n",
       "      <th>Atresia</th>\n",
       "      <th>Post-Surgical Procedure</th>\n",
       "      <th>Hipoplasia</th>\n",
       "      <th>cluster</th>\n",
       "    </tr>\n",
       "  </thead>\n",
       "  <tbody>\n",
       "    <tr>\n",
       "      <th>0</th>\n",
       "      <td>0</td>\n",
       "      <td>0</td>\n",
       "      <td>3942</td>\n",
       "      <td>35.0</td>\n",
       "      <td>134.0</td>\n",
       "      <td>0</td>\n",
       "      <td>1</td>\n",
       "      <td>2</td>\n",
       "      <td>1</td>\n",
       "      <td>0</td>\n",
       "      <td>0</td>\n",
       "      <td>0</td>\n",
       "      <td>0</td>\n",
       "      <td>0</td>\n",
       "      <td>0</td>\n",
       "      <td>0</td>\n",
       "      <td>0</td>\n",
       "      <td>0</td>\n",
       "      <td>7</td>\n",
       "    </tr>\n",
       "    <tr>\n",
       "      <th>1</th>\n",
       "      <td>1</td>\n",
       "      <td>1</td>\n",
       "      <td>3202</td>\n",
       "      <td>18.0</td>\n",
       "      <td>117.0</td>\n",
       "      <td>0</td>\n",
       "      <td>1</td>\n",
       "      <td>2</td>\n",
       "      <td>1</td>\n",
       "      <td>0</td>\n",
       "      <td>0</td>\n",
       "      <td>0</td>\n",
       "      <td>0</td>\n",
       "      <td>0</td>\n",
       "      <td>0</td>\n",
       "      <td>0</td>\n",
       "      <td>0</td>\n",
       "      <td>0</td>\n",
       "      <td>7</td>\n",
       "    </tr>\n",
       "    <tr>\n",
       "      <th>2</th>\n",
       "      <td>2</td>\n",
       "      <td>0</td>\n",
       "      <td>3147</td>\n",
       "      <td>22.0</td>\n",
       "      <td>120.0</td>\n",
       "      <td>0</td>\n",
       "      <td>1</td>\n",
       "      <td>2</td>\n",
       "      <td>1</td>\n",
       "      <td>0</td>\n",
       "      <td>0</td>\n",
       "      <td>0</td>\n",
       "      <td>0</td>\n",
       "      <td>0</td>\n",
       "      <td>0</td>\n",
       "      <td>0</td>\n",
       "      <td>0</td>\n",
       "      <td>0</td>\n",
       "      <td>7</td>\n",
       "    </tr>\n",
       "    <tr>\n",
       "      <th>3</th>\n",
       "      <td>3</td>\n",
       "      <td>0</td>\n",
       "      <td>4005</td>\n",
       "      <td>42.0</td>\n",
       "      <td>147.0</td>\n",
       "      <td>0</td>\n",
       "      <td>1</td>\n",
       "      <td>2</td>\n",
       "      <td>1</td>\n",
       "      <td>0</td>\n",
       "      <td>0</td>\n",
       "      <td>0</td>\n",
       "      <td>0</td>\n",
       "      <td>0</td>\n",
       "      <td>0</td>\n",
       "      <td>0</td>\n",
       "      <td>0</td>\n",
       "      <td>0</td>\n",
       "      <td>0</td>\n",
       "    </tr>\n",
       "    <tr>\n",
       "      <th>4</th>\n",
       "      <td>4</td>\n",
       "      <td>0</td>\n",
       "      <td>5289</td>\n",
       "      <td>40.0</td>\n",
       "      <td>157.0</td>\n",
       "      <td>0</td>\n",
       "      <td>1</td>\n",
       "      <td>3</td>\n",
       "      <td>1</td>\n",
       "      <td>0</td>\n",
       "      <td>0</td>\n",
       "      <td>0</td>\n",
       "      <td>0</td>\n",
       "      <td>0</td>\n",
       "      <td>0</td>\n",
       "      <td>0</td>\n",
       "      <td>0</td>\n",
       "      <td>0</td>\n",
       "      <td>0</td>\n",
       "    </tr>\n",
       "  </tbody>\n",
       "</table>\n",
       "</div>"
      ],
      "text/plain": [
       "   patient_id  gender  age_days  weight_kg  height_cm  cx_previous  rachs  \\\n",
       "0           0       0      3942       35.0      134.0            0      1   \n",
       "1           1       1      3202       18.0      117.0            0      1   \n",
       "2           2       0      3147       22.0      120.0            0      1   \n",
       "3           3       0      4005       42.0      147.0            0      1   \n",
       "4           4       0      5289       40.0      157.0            0      1   \n",
       "\n",
       "   stay_days  CIA  CIV  Estenosis  PCA  Other  Coartacion Aortica  \\\n",
       "0          2    1    0          0    0      0                   0   \n",
       "1          2    1    0          0    0      0                   0   \n",
       "2          2    1    0          0    0      0                   0   \n",
       "3          2    1    0          0    0      0                   0   \n",
       "4          3    1    0          0    0      0                   0   \n",
       "\n",
       "   Tetralogia de Fallot  Atresia  Post-Surgical Procedure  Hipoplasia  cluster  \n",
       "0                     0        0                        0           0        7  \n",
       "1                     0        0                        0           0        7  \n",
       "2                     0        0                        0           0        7  \n",
       "3                     0        0                        0           0        0  \n",
       "4                     0        0                        0           0        0  "
      ]
     },
     "execution_count": 66,
     "metadata": {},
     "output_type": "execute_result"
    }
   ],
   "source": [
    "# Merge with ORIGINAL DATA\n",
    "clustered_df = merged_df.copy(deep=True)\n",
    "clustered_df[\"cluster\"] = clusters\n",
    "clustered_df.head()"
   ]
  },
  {
   "cell_type": "code",
   "execution_count": 67,
   "metadata": {},
   "outputs": [
    {
     "data": {
      "text/plain": [
       "Text(0, 0.5, 'Average Stay Days')"
      ]
     },
     "execution_count": 67,
     "metadata": {},
     "output_type": "execute_result"
    },
    {
     "data": {
      "image/png": "[encoded data removed]",
      "text/plain": [
       "<Figure size 432x288 with 1 Axes>"
      ]
     },
     "metadata": {
      "needs_background": "light"
     },
     "output_type": "display_data"
    }
   ],
   "source": [
    "# Look at clusters\n",
    "plot_data = clustered_df.groupby(\"cluster\").mean()[\"stay_days\"]\n",
    "plot_x = plot_data.index\n",
    "plot_y = plot_data.values\n",
    "plt.bar(plot_x, plot_y)\n",
    "plt.title(\"Average Stay Days per Cluster\")\n",
    "plt.xlabel(\"Cluster\")\n",
    "plt.ylabel(\"Average Stay Days\")"
   ]
  },
  {
   "cell_type": "code",
   "execution_count": 68,
   "metadata": {},
   "outputs": [
    {
     "name": "stdout",
     "output_type": "stream",
     "text": [
      "Table of Cluster x Mean Values\n"
     ]
    },
    {
     "data": {
      "text/html": [
       "<div>\n",
       "<style scoped>\n",
       "    .dataframe tbody tr th:only-of-type {\n",
       "        vertical-align: middle;\n",
       "    }\n",
       "\n",
       "    .dataframe tbody tr th {\n",
       "        vertical-align: top;\n",
       "    }\n",
       "\n",
       "    .dataframe thead th {\n",
       "        text-align: right;\n",
       "    }\n",
       "</style>\n",
       "<table border=\"1\" class=\"dataframe\">\n",
       "  <thead>\n",
       "    <tr style=\"text-align: right;\">\n",
       "      <th></th>\n",
       "      <th>n_patients</th>\n",
       "      <th>stay_days</th>\n",
       "      <th>rachs</th>\n",
       "      <th>cx_previous</th>\n",
       "      <th>age_days</th>\n",
       "    </tr>\n",
       "  </thead>\n",
       "  <tbody>\n",
       "    <tr>\n",
       "      <th>Cluster 8</th>\n",
       "      <td>134.0</td>\n",
       "      <td>2.582090</td>\n",
       "      <td>1.037313</td>\n",
       "      <td>0.007463</td>\n",
       "      <td>2209.835821</td>\n",
       "    </tr>\n",
       "    <tr>\n",
       "      <th>Cluster 1</th>\n",
       "      <td>64.0</td>\n",
       "      <td>3.468750</td>\n",
       "      <td>1.703125</td>\n",
       "      <td>0.140625</td>\n",
       "      <td>5221.500000</td>\n",
       "    </tr>\n",
       "    <tr>\n",
       "      <th>Cluster 2</th>\n",
       "      <td>131.0</td>\n",
       "      <td>8.320611</td>\n",
       "      <td>2.045802</td>\n",
       "      <td>0.007634</td>\n",
       "      <td>1112.000000</td>\n",
       "    </tr>\n",
       "    <tr>\n",
       "      <th>Cluster 10</th>\n",
       "      <td>146.0</td>\n",
       "      <td>9.328767</td>\n",
       "      <td>1.849315</td>\n",
       "      <td>0.027397</td>\n",
       "      <td>832.095890</td>\n",
       "    </tr>\n",
       "    <tr>\n",
       "      <th>Cluster 6</th>\n",
       "      <td>77.0</td>\n",
       "      <td>10.168831</td>\n",
       "      <td>2.376623</td>\n",
       "      <td>0.077922</td>\n",
       "      <td>1533.324675</td>\n",
       "    </tr>\n",
       "    <tr>\n",
       "      <th>Cluster 4</th>\n",
       "      <td>70.0</td>\n",
       "      <td>10.214286</td>\n",
       "      <td>2.585714</td>\n",
       "      <td>1.585714</td>\n",
       "      <td>2059.657143</td>\n",
       "    </tr>\n",
       "    <tr>\n",
       "      <th>Cluster 5</th>\n",
       "      <td>95.0</td>\n",
       "      <td>10.642105</td>\n",
       "      <td>2.105263</td>\n",
       "      <td>0.084211</td>\n",
       "      <td>948.157895</td>\n",
       "    </tr>\n",
       "    <tr>\n",
       "      <th>Cluster 7</th>\n",
       "      <td>182.0</td>\n",
       "      <td>13.857143</td>\n",
       "      <td>2.571429</td>\n",
       "      <td>0.126374</td>\n",
       "      <td>602.983516</td>\n",
       "    </tr>\n",
       "    <tr>\n",
       "      <th>Cluster 9</th>\n",
       "      <td>46.0</td>\n",
       "      <td>17.413043</td>\n",
       "      <td>2.586957</td>\n",
       "      <td>0.434783</td>\n",
       "      <td>534.978261</td>\n",
       "    </tr>\n",
       "    <tr>\n",
       "      <th>Cluster 3</th>\n",
       "      <td>58.0</td>\n",
       "      <td>21.534483</td>\n",
       "      <td>4.137931</td>\n",
       "      <td>0.051724</td>\n",
       "      <td>621.568966</td>\n",
       "    </tr>\n",
       "  </tbody>\n",
       "</table>\n",
       "</div>"
      ],
      "text/plain": [
       "            n_patients  stay_days     rachs  cx_previous     age_days\n",
       "Cluster 8        134.0   2.582090  1.037313     0.007463  2209.835821\n",
       "Cluster 1         64.0   3.468750  1.703125     0.140625  5221.500000\n",
       "Cluster 2        131.0   8.320611  2.045802     0.007634  1112.000000\n",
       "Cluster 10       146.0   9.328767  1.849315     0.027397   832.095890\n",
       "Cluster 6         77.0  10.168831  2.376623     0.077922  1533.324675\n",
       "Cluster 4         70.0  10.214286  2.585714     1.585714  2059.657143\n",
       "Cluster 5         95.0  10.642105  2.105263     0.084211   948.157895\n",
       "Cluster 7        182.0  13.857143  2.571429     0.126374   602.983516\n",
       "Cluster 9         46.0  17.413043  2.586957     0.434783   534.978261\n",
       "Cluster 3         58.0  21.534483  4.137931     0.051724   621.568966"
      ]
     },
     "execution_count": 68,
     "metadata": {},
     "output_type": "execute_result"
    }
   ],
   "source": [
    "# Create a Table of mean values per cluster\n",
    "cluster_mean_df = pd.DataFrame()\n",
    "target_names = [\"stay_days\", \"rachs\", \"cx_previous\", \"age_days\"]\n",
    "\n",
    "# Process each cluster's data\n",
    "for i in range(N_CLUSTERS):\n",
    "    c_df = clustered_df[clustered_df[\"cluster\"] == i]\n",
    "    targets = [c_df[t].mean() for t in target_names]\n",
    "    cluster_mean_df[f\"Cluster {i+1}\"] = [c_df.count()[0], *targets]\n",
    "\n",
    "# Rename Index\n",
    "cluster_mean_df.index = [\"n_patients\", *target_names]\n",
    "# Transpose and Sort Data\n",
    "sort_by = \"stay_days\"\n",
    "cluster_mean_df = cluster_mean_df.transpose().sort_values(by=sort_by)\n",
    "print(\"Table of Cluster x Mean Values\")\n",
    "cluster_mean_df"
   ]
  },
  {
   "cell_type": "code",
   "execution_count": 69,
   "metadata": {},
   "outputs": [
    {
     "name": "stdout",
     "output_type": "stream",
     "text": [
      "CLUSTER: 0\n",
      "      stay_days     rachs  cx_previous      age_days\n",
      "mean   3.468750  1.703125     0.140625   5221.500000\n",
      "std    3.265834  0.770069     0.431578   2197.913838\n",
      "min    0.000000  0.000000     0.000000   2440.000000\n",
      "max   22.000000  3.000000     2.000000  16378.000000\n",
      "CLUSTER: 1\n",
      "       stay_days     rachs  cx_previous     age_days\n",
      "mean    8.320611  2.045802     0.007634  1112.000000\n",
      "std    34.030590  0.347797     0.087370   898.174713\n",
      "min     1.000000  0.000000     0.000000    62.000000\n",
      "max   364.000000  4.000000     1.000000  3869.000000\n",
      "CLUSTER: 2\n",
      "       stay_days     rachs  cx_previous     age_days\n",
      "mean   21.534483  4.137931     0.051724   621.568966\n",
      "std    32.743134  0.944945     0.291542  1259.488452\n",
      "min     1.000000  2.000000     0.000000     1.000000\n",
      "max   173.000000  6.000000     2.000000  5295.000000\n",
      "CLUSTER: 3\n",
      "      stay_days     rachs  cx_previous     age_days\n",
      "mean  10.214286  2.585714     1.585714  2059.657143\n",
      "std   10.323595  0.985296     0.751672  1156.694815\n",
      "min    0.000000  0.000000     1.000000   173.000000\n",
      "max   48.000000  4.000000     4.000000  5691.000000\n",
      "CLUSTER: 4\n",
      "       stay_days     rachs  cx_previous     age_days\n",
      "mean   10.642105  2.105263     0.084211   948.157895\n",
      "std    21.982544  0.308520     0.279177   817.865207\n",
      "min     1.000000  2.000000     0.000000     5.000000\n",
      "max   213.000000  3.000000     1.000000  4305.000000\n",
      "CLUSTER: 5\n",
      "       stay_days     rachs  cx_previous     age_days\n",
      "mean   10.168831  2.376623     0.077922  1533.324675\n",
      "std    16.761801  0.811739     0.269807  1246.682708\n",
      "min     1.000000  1.000000     0.000000     3.000000\n",
      "max   119.000000  6.000000     1.000000  4460.000000\n",
      "CLUSTER: 6\n",
      "       stay_days     rachs  cx_previous     age_days\n",
      "mean   13.857143  2.571429     0.126374   602.983516\n",
      "std    16.662441  0.868642     0.333187   699.359616\n",
      "min     1.000000  0.000000     0.000000     2.000000\n",
      "max   100.000000  5.000000     1.000000  2866.000000\n",
      "CLUSTER: 7\n",
      "      stay_days     rachs  cx_previous     age_days\n",
      "mean   2.582090  1.037313     0.007463  2209.835821\n",
      "std    1.071142  0.190240     0.086387   981.592662\n",
      "min    1.000000  1.000000     0.000000   264.000000\n",
      "max    7.000000  2.000000     1.000000  4751.000000\n",
      "CLUSTER: 8\n",
      "      stay_days     rachs  cx_previous     age_days\n",
      "mean  17.413043  2.586957     0.434783   534.978261\n",
      "std   21.119318  0.832028     0.543739   546.772042\n",
      "min    0.000000  0.000000     0.000000     3.000000\n",
      "max   93.000000  4.000000     2.000000  1964.000000\n",
      "CLUSTER: 9\n",
      "       stay_days     rachs  cx_previous    age_days\n",
      "mean    9.328767  1.849315     0.027397   832.09589\n",
      "std    30.815381  0.717683     0.163800   726.84822\n",
      "min     1.000000  0.000000     0.000000     6.00000\n",
      "max   362.000000  4.000000     1.000000  3402.00000\n"
     ]
    }
   ],
   "source": [
    "# Getting More stats per Column, spread in different tables\n",
    "target_stats = [\"mean\", \"std\", \"min\", \"max\"]\n",
    "for i in range(N_CLUSTERS):\n",
    "    print(\"CLUSTER:\", i)\n",
    "    d = clustered_df[clustered_df[\"cluster\"] == i]\n",
    "    print(d[target_names].describe().loc[target_stats])"
   ]
  },
  {
   "cell_type": "code",
   "execution_count": 70,
   "metadata": {},
   "outputs": [
    {
     "data": {
      "text/plain": [
       "Text(0.5, 1.0, 'Clusters Stay Days vs Rachs')"
      ]
     },
     "execution_count": 70,
     "metadata": {},
     "output_type": "execute_result"
    },
    {
     "data": {
      "image/png": "[encoded data removed]",
      "text/plain": [
       "<Figure size 432x288 with 1 Axes>"
      ]
     },
     "metadata": {
      "needs_background": "light"
     },
     "output_type": "display_data"
    }
   ],
   "source": [
    "# Visualize stay days and rachs by cluster\n",
    "plt.scatter(cluster_mean_df['rachs'], cluster_mean_df['stay_days'])\n",
    "plt.xlabel(\"Average Rachs Score\")\n",
    "plt.ylabel(\"Average Stay Days\")\n",
    "plt.title(\"Clusters Stay Days vs Rachs\")"
   ]
  },
  {
   "cell_type": "code",
   "execution_count": 71,
   "metadata": {},
   "outputs": [],
   "source": [
    "# Format Results so they look better (They become strings)\n",
    "formated_df = cluster_mean_df.applymap(lambda x: f\"{x:.2f}\")\n",
    "formated_df.to_csv(\"../visualization/csv/clusters_diagnosis_main.csv\", index=False)"
   ]
  },
  {
   "cell_type": "markdown",
   "metadata": {},
   "source": [
    "## Linear Regression\n",
    "\n",
    "Apply Linear Regression on Clusters."
   ]
  },
  {
   "cell_type": "code",
   "execution_count": 72,
   "metadata": {},
   "outputs": [
    {
     "data": {
      "text/plain": [
       "((10, 1), (10, 1))"
      ]
     },
     "execution_count": 72,
     "metadata": {},
     "output_type": "execute_result"
    }
   ],
   "source": [
    "# Select Feature and Target\n",
    "X = cluster_mean_df[\"rachs\"].values.reshape(-1, 1)\n",
    "y = cluster_mean_df[\"stay_days\"].values.reshape(-1, 1)\n",
    "X_train, X_test, y_train, y_test = train_test_split(X, y, random_state=1)\n",
    "X.shape, y.shape"
   ]
  },
  {
   "cell_type": "code",
   "execution_count": 73,
   "metadata": {},
   "outputs": [
    {
     "data": {
      "text/plain": [
       "array([[7.64886862]])"
      ]
     },
     "execution_count": 73,
     "metadata": {},
     "output_type": "execute_result"
    }
   ],
   "source": [
    "# Train Model\n",
    "model = LinearRegression()\n",
    "model.fit(X_train, y_train)\n",
    "model.coef_"
   ]
  },
  {
   "cell_type": "code",
   "execution_count": 74,
   "metadata": {},
   "outputs": [
    {
     "name": "stdout",
     "output_type": "stream",
     "text": [
      "r-squared: 0.8073998973212863\n",
      "mean-squared error: 5.751906712029428\n",
      "0.8507812305723801\n"
     ]
    }
   ],
   "source": [
    "# Predict and Evaluate Model\n",
    "y_pred = model.predict(X)\n",
    "r2 = r2_score(y, y_pred)\n",
    "mse = mean_squared_error(y, y_pred)\n",
    "print(\"r-squared:\", r2)\n",
    "print(\"mean-squared error:\", mse)\n",
    "score = model.score(X_test, y_test)\n",
    "print(score)"
   ]
  },
  {
   "cell_type": "code",
   "execution_count": 75,
   "metadata": {},
   "outputs": [
    {
     "data": {
      "text/plain": [
       "Text(0, 0.5, 'Average Stay Days')"
      ]
     },
     "execution_count": 75,
     "metadata": {},
     "output_type": "execute_result"
    },
    {
     "data": {
      "image/png": "[encoded data removed]",
      "text/plain": [
       "<Figure size 432x288 with 1 Axes>"
      ]
     },
     "metadata": {
      "needs_background": "light"
     },
     "output_type": "display_data"
    }
   ],
   "source": [
    "# Visualize Linear Regression on Clusters\n",
    "plt.scatter(X, y)\n",
    "plt.plot(X, y_pred, color='red')\n",
    "plt.title(f\"Clusters ({N_CLUSTERS}) Rachs to Stay Days\")\n",
    "plt.xlabel(\"Average Rachs\")\n",
    "plt.ylabel(\"Average Stay Days\")"
   ]
  }
 ],
 "metadata": {
  "kernelspec": {
   "display_name": "Python 3.7.13 64-bit ('3.7.13')",
   "language": "python",
   "name": "python3"
  },
  "language_info": {
   "codemirror_mode": {
    "name": "ipython",
    "version": 3
   },
   "file_extension": ".py",
   "mimetype": "text/x-python",
   "name": "python",
   "nbconvert_exporter": "python",
   "pygments_lexer": "ipython3",
   "version": "3.7.13"
  },
  "orig_nbformat": 4,
  "vscode": {
   "interpreter": {
    "hash": "23fb88e34c1ec3c1e958019bb84aff6dc366f349f9c11c1fa2216e8b6fa6a029"
   }
  }
 },
 "nbformat": 4,
 "nbformat_minor": 2
}
