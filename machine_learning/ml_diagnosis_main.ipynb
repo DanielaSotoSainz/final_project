{
 "cells": [
  {
   "cell_type": "markdown",
   "metadata": {},
   "source": [
    "### Part 1: Data Pre-processing\n",
    "\n",
    "```shell\n",
    "pip install -U kardiasclean\n",
    "```"
   ]
  },
  {
   "cell_type": "markdown",
   "metadata": {},
   "source": [
    "#### Step 1: Load Data from CSV\n",
    "\n",
    "Load csv and merge them with pandas to create a dataframe with repeated patient data but unique surgical procedure per patient."
   ]
  },
  {
   "cell_type": "code",
   "execution_count": 20,
   "metadata": {},
   "outputs": [],
   "source": [
    "import pandas as pd\n",
    "import kardiasclean\n",
    "import tensorflow as tf\n",
    "import matplotlib.pyplot as plt\n",
    "from sklearn.preprocessing import StandardScaler\n",
    "from sklearn.model_selection import train_test_split"
   ]
  },
  {
   "cell_type": "code",
   "execution_count": 21,
   "metadata": {},
   "outputs": [
    {
     "data": {
      "text/plain": [
       "patient_id        1999\n",
       "diagnosis_main    1997\n",
       "categories        1997\n",
       "dtype: int64"
      ]
     },
     "execution_count": 21,
     "metadata": {},
     "output_type": "execute_result"
    }
   ],
   "source": [
    "# load\n",
    "patient_df = pd.read_csv(\"../database/clean2/db_patient.csv\")\n",
    "diagnosis_per_patient_df = pd.read_csv(\"../database/clean3/other_final_main_diag.csv\")\n",
    "diagnosis_per_patient_df.count()"
   ]
  },
  {
   "cell_type": "code",
   "execution_count": 22,
   "metadata": {},
   "outputs": [
    {
     "data": {
      "text/html": [
       "<div>\n",
       "<style scoped>\n",
       "    .dataframe tbody tr th:only-of-type {\n",
       "        vertical-align: middle;\n",
       "    }\n",
       "\n",
       "    .dataframe tbody tr th {\n",
       "        vertical-align: top;\n",
       "    }\n",
       "\n",
       "    .dataframe thead th {\n",
       "        text-align: right;\n",
       "    }\n",
       "</style>\n",
       "<table border=\"1\" class=\"dataframe\">\n",
       "  <thead>\n",
       "    <tr style=\"text-align: right;\">\n",
       "      <th></th>\n",
       "      <th>patient_id</th>\n",
       "      <th>diagnosis_main</th>\n",
       "      <th>categories</th>\n",
       "    </tr>\n",
       "  </thead>\n",
       "  <tbody>\n",
       "    <tr>\n",
       "      <th>0</th>\n",
       "      <td>0</td>\n",
       "      <td>Comunicacion interauricular secundum</td>\n",
       "      <td>CIA</td>\n",
       "    </tr>\n",
       "    <tr>\n",
       "      <th>1</th>\n",
       "      <td>1</td>\n",
       "      <td>Comunicacion interauricular secundum</td>\n",
       "      <td>CIA</td>\n",
       "    </tr>\n",
       "    <tr>\n",
       "      <th>2</th>\n",
       "      <td>2</td>\n",
       "      <td>Comunicacion interauricular secundum</td>\n",
       "      <td>CIA</td>\n",
       "    </tr>\n",
       "    <tr>\n",
       "      <th>3</th>\n",
       "      <td>3</td>\n",
       "      <td>Comunicacion interauricular secundum</td>\n",
       "      <td>CIA</td>\n",
       "    </tr>\n",
       "    <tr>\n",
       "      <th>4</th>\n",
       "      <td>4</td>\n",
       "      <td>Comunicacion interauricular secundum</td>\n",
       "      <td>CIA</td>\n",
       "    </tr>\n",
       "    <tr>\n",
       "      <th>...</th>\n",
       "      <td>...</td>\n",
       "      <td>...</td>\n",
       "      <td>...</td>\n",
       "    </tr>\n",
       "    <tr>\n",
       "      <th>1994</th>\n",
       "      <td>1035</td>\n",
       "      <td>Conducto arterioso permeable</td>\n",
       "      <td>PCA</td>\n",
       "    </tr>\n",
       "    <tr>\n",
       "      <th>1995</th>\n",
       "      <td>1037</td>\n",
       "      <td>Tetralogia de Fallot TOF -Sindrome de valvula ...</td>\n",
       "      <td>Tetralogia de Fallot</td>\n",
       "    </tr>\n",
       "    <tr>\n",
       "      <th>1996</th>\n",
       "      <td>1037</td>\n",
       "      <td>Estenosis de la arteria pulmonar</td>\n",
       "      <td>Estenosis</td>\n",
       "    </tr>\n",
       "    <tr>\n",
       "      <th>1997</th>\n",
       "      <td>1037</td>\n",
       "      <td>Comunicacion interventricular</td>\n",
       "      <td>CIV</td>\n",
       "    </tr>\n",
       "    <tr>\n",
       "      <th>1998</th>\n",
       "      <td>1037</td>\n",
       "      <td>Comunicacion interauricular</td>\n",
       "      <td>CIA</td>\n",
       "    </tr>\n",
       "  </tbody>\n",
       "</table>\n",
       "<p>1997 rows × 3 columns</p>\n",
       "</div>"
      ],
      "text/plain": [
       "      patient_id                                     diagnosis_main  \\\n",
       "0              0               Comunicacion interauricular secundum   \n",
       "1              1               Comunicacion interauricular secundum   \n",
       "2              2               Comunicacion interauricular secundum   \n",
       "3              3               Comunicacion interauricular secundum   \n",
       "4              4               Comunicacion interauricular secundum   \n",
       "...          ...                                                ...   \n",
       "1994        1035                       Conducto arterioso permeable   \n",
       "1995        1037  Tetralogia de Fallot TOF -Sindrome de valvula ...   \n",
       "1996        1037                   Estenosis de la arteria pulmonar   \n",
       "1997        1037                      Comunicacion interventricular   \n",
       "1998        1037                        Comunicacion interauricular   \n",
       "\n",
       "                categories  \n",
       "0                      CIA  \n",
       "1                      CIA  \n",
       "2                      CIA  \n",
       "3                      CIA  \n",
       "4                      CIA  \n",
       "...                    ...  \n",
       "1994                   PCA  \n",
       "1995  Tetralogia de Fallot  \n",
       "1996             Estenosis  \n",
       "1997                   CIV  \n",
       "1998                   CIA  \n",
       "\n",
       "[1997 rows x 3 columns]"
      ]
     },
     "execution_count": 22,
     "metadata": {},
     "output_type": "execute_result"
    }
   ],
   "source": [
    "# drop null values\n",
    "diagnosis_per_patient_df.dropna(inplace=True)\n",
    "diagnosis_per_patient_df"
   ]
  },
  {
   "cell_type": "code",
   "execution_count": 23,
   "metadata": {},
   "outputs": [
    {
     "data": {
      "text/plain": [
       "patient_id        1997\n",
       "diagnosis_main    1997\n",
       "categories        1997\n",
       "dtype: int64"
      ]
     },
     "execution_count": 23,
     "metadata": {},
     "output_type": "execute_result"
    }
   ],
   "source": [
    "diagnosis_per_patient_df.count()"
   ]
  },
  {
   "cell_type": "code",
   "execution_count": 24,
   "metadata": {},
   "outputs": [
    {
     "name": "stdout",
     "output_type": "stream",
     "text": [
      "Index(['patient_id', 'gender', 'age_days', 'weight_kg', 'height_cm',\n",
      "       'cx_previous', 'date_birth', 'date_procedure', 'rachs', 'stay_days',\n",
      "       'expired', 'diagnosis_main', 'categories'],\n",
      "      dtype='object')\n"
     ]
    },
    {
     "data": {
      "text/html": [
       "<div>\n",
       "<style scoped>\n",
       "    .dataframe tbody tr th:only-of-type {\n",
       "        vertical-align: middle;\n",
       "    }\n",
       "\n",
       "    .dataframe tbody tr th {\n",
       "        vertical-align: top;\n",
       "    }\n",
       "\n",
       "    .dataframe thead th {\n",
       "        text-align: right;\n",
       "    }\n",
       "</style>\n",
       "<table border=\"1\" class=\"dataframe\">\n",
       "  <thead>\n",
       "    <tr style=\"text-align: right;\">\n",
       "      <th></th>\n",
       "      <th>patient_id</th>\n",
       "      <th>gender</th>\n",
       "      <th>age_days</th>\n",
       "      <th>weight_kg</th>\n",
       "      <th>height_cm</th>\n",
       "      <th>cx_previous</th>\n",
       "      <th>date_birth</th>\n",
       "      <th>date_procedure</th>\n",
       "      <th>rachs</th>\n",
       "      <th>stay_days</th>\n",
       "      <th>expired</th>\n",
       "      <th>diagnosis_main</th>\n",
       "      <th>categories</th>\n",
       "    </tr>\n",
       "  </thead>\n",
       "  <tbody>\n",
       "    <tr>\n",
       "      <th>5</th>\n",
       "      <td>5</td>\n",
       "      <td>1</td>\n",
       "      <td>2888</td>\n",
       "      <td>34.4</td>\n",
       "      <td>134.0</td>\n",
       "      <td>0</td>\n",
       "      <td>2004-08-31</td>\n",
       "      <td>2012-08-09</td>\n",
       "      <td>2</td>\n",
       "      <td>2</td>\n",
       "      <td>0</td>\n",
       "      <td>Comunicacion interventricular Tipo 2 perimembr...</td>\n",
       "      <td>CIV</td>\n",
       "    </tr>\n",
       "    <tr>\n",
       "      <th>6</th>\n",
       "      <td>5</td>\n",
       "      <td>1</td>\n",
       "      <td>2888</td>\n",
       "      <td>34.4</td>\n",
       "      <td>134.0</td>\n",
       "      <td>0</td>\n",
       "      <td>2004-08-31</td>\n",
       "      <td>2012-08-09</td>\n",
       "      <td>2</td>\n",
       "      <td>2</td>\n",
       "      <td>0</td>\n",
       "      <td>Estenosis aortica subvalvular</td>\n",
       "      <td>Estenosis</td>\n",
       "    </tr>\n",
       "    <tr>\n",
       "      <th>7</th>\n",
       "      <td>6</td>\n",
       "      <td>0</td>\n",
       "      <td>3828</td>\n",
       "      <td>37.0</td>\n",
       "      <td>141.0</td>\n",
       "      <td>0</td>\n",
       "      <td>2002-04-02</td>\n",
       "      <td>2012-09-22</td>\n",
       "      <td>2</td>\n",
       "      <td>2</td>\n",
       "      <td>0</td>\n",
       "      <td>Comunicacion interventricular Tipo 2 perimembr...</td>\n",
       "      <td>CIV</td>\n",
       "    </tr>\n",
       "    <tr>\n",
       "      <th>8</th>\n",
       "      <td>7</td>\n",
       "      <td>0</td>\n",
       "      <td>1583</td>\n",
       "      <td>13.5</td>\n",
       "      <td>102.0</td>\n",
       "      <td>0</td>\n",
       "      <td>2008-06-05</td>\n",
       "      <td>2012-09-29</td>\n",
       "      <td>1</td>\n",
       "      <td>2</td>\n",
       "      <td>0</td>\n",
       "      <td>Comunicacion interauricular secundum</td>\n",
       "      <td>CIA</td>\n",
       "    </tr>\n",
       "    <tr>\n",
       "      <th>9</th>\n",
       "      <td>8</td>\n",
       "      <td>1</td>\n",
       "      <td>3549</td>\n",
       "      <td>37.0</td>\n",
       "      <td>137.0</td>\n",
       "      <td>0</td>\n",
       "      <td>2002-04-12</td>\n",
       "      <td>2012-10-13</td>\n",
       "      <td>2</td>\n",
       "      <td>5</td>\n",
       "      <td>0</td>\n",
       "      <td>Comunicacion interventricular Tipo 1 infundibular</td>\n",
       "      <td>CIV</td>\n",
       "    </tr>\n",
       "  </tbody>\n",
       "</table>\n",
       "</div>"
      ],
      "text/plain": [
       "   patient_id  gender  age_days  weight_kg  height_cm  cx_previous  \\\n",
       "5           5       1      2888       34.4      134.0            0   \n",
       "6           5       1      2888       34.4      134.0            0   \n",
       "7           6       0      3828       37.0      141.0            0   \n",
       "8           7       0      1583       13.5      102.0            0   \n",
       "9           8       1      3549       37.0      137.0            0   \n",
       "\n",
       "   date_birth date_procedure  rachs  stay_days  expired  \\\n",
       "5  2004-08-31     2012-08-09      2          2        0   \n",
       "6  2004-08-31     2012-08-09      2          2        0   \n",
       "7  2002-04-02     2012-09-22      2          2        0   \n",
       "8  2008-06-05     2012-09-29      1          2        0   \n",
       "9  2002-04-12     2012-10-13      2          5        0   \n",
       "\n",
       "                                      diagnosis_main categories  \n",
       "5  Comunicacion interventricular Tipo 2 perimembr...        CIV  \n",
       "6                      Estenosis aortica subvalvular  Estenosis  \n",
       "7  Comunicacion interventricular Tipo 2 perimembr...        CIV  \n",
       "8               Comunicacion interauricular secundum        CIA  \n",
       "9  Comunicacion interventricular Tipo 1 infundibular        CIV  "
      ]
     },
     "execution_count": 24,
     "metadata": {},
     "output_type": "execute_result"
    }
   ],
   "source": [
    "# merge\n",
    "df = pd.merge(patient_df, diagnosis_per_patient_df)\n",
    "print(df.columns)\n",
    "df[5:10]\n"
   ]
  },
  {
   "cell_type": "markdown",
   "metadata": {},
   "source": [
    "#### Step 2: High and Low Frequency Categories (Exploratory)\n",
    "\n",
    "We can play with the QUANTILE variable to find a good signal to noise ratio (assuming that the low frequency values can add noise to the model). This is only so we can get an idea of how much data is binned in the next step."
   ]
  },
  {
   "cell_type": "code",
   "execution_count": 25,
   "metadata": {},
   "outputs": [],
   "source": [
    "# QUANTILE = 0.85\n",
    "# low, high = kardiasclean.perform_frequency_split_quantile(df['categories'], QUANTILE)\n",
    "# print(kardiasclean.evaluate_distribution(high, low))"
   ]
  },
  {
   "cell_type": "markdown",
   "metadata": {},
   "source": [
    "#### Step 3: Bin Low Frequency Data\n",
    "\n",
    "Convert all low frequency categorical variables to \"Other\"."
   ]
  },
  {
   "cell_type": "code",
   "execution_count": 36,
   "metadata": {},
   "outputs": [
    {
     "data": {
      "text/plain": [
       "0       Comunicacion interauricular secundum\n",
       "1       Comunicacion interauricular secundum\n",
       "2       Comunicacion interauricular secundum\n",
       "3       Comunicacion interauricular secundum\n",
       "4       Comunicacion interauricular secundum\n",
       "                        ...                 \n",
       "1992            Conducto arterioso permeable\n",
       "1993                                   Other\n",
       "1994                                   Other\n",
       "1995           Comunicacion interventricular\n",
       "1996             Comunicacion interauricular\n",
       "Name: diagnosis_main, Length: 1997, dtype: object"
      ]
     },
     "execution_count": 36,
     "metadata": {},
     "output_type": "execute_result"
    }
   ],
   "source": [
    "df['diagnosis_main'] = kardiasclean.perform_binning_quantile(df['diagnosis_main'], QUANTILE)\n",
    "df['diagnosis_main']"
   ]
  },
  {
   "cell_type": "markdown",
   "metadata": {},
   "source": [
    "#### Step 4: Deal with dates\n",
    "We are going to replace the date of birth and date of procedure with a new value that will be the difference of the two so we can use it as a number in our model.\n",
    "\n",
    "**NOTE**: The age_days and date_delta have a linear relationship so maybe we can drop one in favor of the other."
   ]
  },
  {
   "cell_type": "code",
   "execution_count": 26,
   "metadata": {},
   "outputs": [
    {
     "data": {
      "text/html": [
       "<div>\n",
       "<style scoped>\n",
       "    .dataframe tbody tr th:only-of-type {\n",
       "        vertical-align: middle;\n",
       "    }\n",
       "\n",
       "    .dataframe tbody tr th {\n",
       "        vertical-align: top;\n",
       "    }\n",
       "\n",
       "    .dataframe thead th {\n",
       "        text-align: right;\n",
       "    }\n",
       "</style>\n",
       "<table border=\"1\" class=\"dataframe\">\n",
       "  <thead>\n",
       "    <tr style=\"text-align: right;\">\n",
       "      <th></th>\n",
       "      <th>age_days</th>\n",
       "      <th>date_delta</th>\n",
       "    </tr>\n",
       "  </thead>\n",
       "  <tbody>\n",
       "    <tr>\n",
       "      <th>0</th>\n",
       "      <td>3942</td>\n",
       "      <td>3882</td>\n",
       "    </tr>\n",
       "    <tr>\n",
       "      <th>1</th>\n",
       "      <td>3202</td>\n",
       "      <td>3338</td>\n",
       "    </tr>\n",
       "    <tr>\n",
       "      <th>2</th>\n",
       "      <td>3147</td>\n",
       "      <td>3193</td>\n",
       "    </tr>\n",
       "    <tr>\n",
       "      <th>3</th>\n",
       "      <td>4005</td>\n",
       "      <td>3975</td>\n",
       "    </tr>\n",
       "    <tr>\n",
       "      <th>4</th>\n",
       "      <td>5289</td>\n",
       "      <td>5131</td>\n",
       "    </tr>\n",
       "  </tbody>\n",
       "</table>\n",
       "</div>"
      ],
      "text/plain": [
       "   age_days  date_delta\n",
       "0      3942        3882\n",
       "1      3202        3338\n",
       "2      3147        3193\n",
       "3      4005        3975\n",
       "4      5289        5131"
      ]
     },
     "execution_count": 26,
     "metadata": {},
     "output_type": "execute_result"
    },
    {
     "data": {
      "image/png": "[encoded data removed]",
      "text/plain": [
       "<Figure size 640x480 with 1 Axes>"
      ]
     },
     "metadata": {},
     "output_type": "display_data"
    }
   ],
   "source": [
    "df['date_delta'] = (\n",
    "    pd.to_datetime(df['date_procedure']) - pd.to_datetime(df['date_birth'])\n",
    ").dt.days\n",
    "plt.scatter(df['age_days'], df['date_delta'])\n",
    "df[0:5][['age_days', 'date_delta']]"
   ]
  },
  {
   "cell_type": "code",
   "execution_count": 27,
   "metadata": {},
   "outputs": [
    {
     "data": {
      "text/html": [
       "<div>\n",
       "<style scoped>\n",
       "    .dataframe tbody tr th:only-of-type {\n",
       "        vertical-align: middle;\n",
       "    }\n",
       "\n",
       "    .dataframe tbody tr th {\n",
       "        vertical-align: top;\n",
       "    }\n",
       "\n",
       "    .dataframe thead th {\n",
       "        text-align: right;\n",
       "    }\n",
       "</style>\n",
       "<table border=\"1\" class=\"dataframe\">\n",
       "  <thead>\n",
       "    <tr style=\"text-align: right;\">\n",
       "      <th></th>\n",
       "      <th>patient_id</th>\n",
       "      <th>gender</th>\n",
       "      <th>weight_kg</th>\n",
       "      <th>height_cm</th>\n",
       "      <th>cx_previous</th>\n",
       "      <th>rachs</th>\n",
       "      <th>stay_days</th>\n",
       "      <th>expired</th>\n",
       "      <th>categories</th>\n",
       "      <th>date_delta</th>\n",
       "    </tr>\n",
       "  </thead>\n",
       "  <tbody>\n",
       "    <tr>\n",
       "      <th>5</th>\n",
       "      <td>5</td>\n",
       "      <td>1</td>\n",
       "      <td>34.4</td>\n",
       "      <td>134.0</td>\n",
       "      <td>0</td>\n",
       "      <td>2</td>\n",
       "      <td>2</td>\n",
       "      <td>0</td>\n",
       "      <td>CIV</td>\n",
       "      <td>2900</td>\n",
       "    </tr>\n",
       "    <tr>\n",
       "      <th>6</th>\n",
       "      <td>5</td>\n",
       "      <td>1</td>\n",
       "      <td>34.4</td>\n",
       "      <td>134.0</td>\n",
       "      <td>0</td>\n",
       "      <td>2</td>\n",
       "      <td>2</td>\n",
       "      <td>0</td>\n",
       "      <td>Estenosis</td>\n",
       "      <td>2900</td>\n",
       "    </tr>\n",
       "    <tr>\n",
       "      <th>7</th>\n",
       "      <td>6</td>\n",
       "      <td>0</td>\n",
       "      <td>37.0</td>\n",
       "      <td>141.0</td>\n",
       "      <td>0</td>\n",
       "      <td>2</td>\n",
       "      <td>2</td>\n",
       "      <td>0</td>\n",
       "      <td>CIV</td>\n",
       "      <td>3826</td>\n",
       "    </tr>\n",
       "    <tr>\n",
       "      <th>8</th>\n",
       "      <td>7</td>\n",
       "      <td>0</td>\n",
       "      <td>13.5</td>\n",
       "      <td>102.0</td>\n",
       "      <td>0</td>\n",
       "      <td>1</td>\n",
       "      <td>2</td>\n",
       "      <td>0</td>\n",
       "      <td>CIA</td>\n",
       "      <td>1577</td>\n",
       "    </tr>\n",
       "    <tr>\n",
       "      <th>9</th>\n",
       "      <td>8</td>\n",
       "      <td>1</td>\n",
       "      <td>37.0</td>\n",
       "      <td>137.0</td>\n",
       "      <td>0</td>\n",
       "      <td>2</td>\n",
       "      <td>5</td>\n",
       "      <td>0</td>\n",
       "      <td>CIV</td>\n",
       "      <td>3837</td>\n",
       "    </tr>\n",
       "  </tbody>\n",
       "</table>\n",
       "</div>"
      ],
      "text/plain": [
       "   patient_id  gender  weight_kg  height_cm  cx_previous  rachs  stay_days  \\\n",
       "5           5       1       34.4      134.0            0      2          2   \n",
       "6           5       1       34.4      134.0            0      2          2   \n",
       "7           6       0       37.0      141.0            0      2          2   \n",
       "8           7       0       13.5      102.0            0      1          2   \n",
       "9           8       1       37.0      137.0            0      2          5   \n",
       "\n",
       "   expired categories  date_delta  \n",
       "5        0        CIV        2900  \n",
       "6        0  Estenosis        2900  \n",
       "7        0        CIV        3826  \n",
       "8        0        CIA        1577  \n",
       "9        0        CIV        3837  "
      ]
     },
     "execution_count": 27,
     "metadata": {},
     "output_type": "execute_result"
    }
   ],
   "source": [
    "# Drop unnecessary dates / ages\n",
    "df = df.drop(columns=[\"date_birth\", \"date_procedure\", 'age_days', \"diagnosis_main\"])\n",
    "df[5:10]"
   ]
  },
  {
   "cell_type": "markdown",
   "metadata": {},
   "source": [
    "#### Step 5: Encode Categorical Data and Merge\n",
    "\n",
    "We are going to encode the categorical data and merge it with the original.\n",
    "\n",
    "**NOTE**:In the case of \"Other\", we get values like 2 or 3 because they may have had multiple procedures that are are low frequency, so patient_id and \"Other\" columns are repeated. \n",
    "\n",
    "This means that we must group our data by patient_id and get the mean value for each column, as all the values are numeric."
   ]
  },
  {
   "cell_type": "code",
   "execution_count": 28,
   "metadata": {},
   "outputs": [
    {
     "data": {
      "text/html": [
       "<div>\n",
       "<style scoped>\n",
       "    .dataframe tbody tr th:only-of-type {\n",
       "        vertical-align: middle;\n",
       "    }\n",
       "\n",
       "    .dataframe tbody tr th {\n",
       "        vertical-align: top;\n",
       "    }\n",
       "\n",
       "    .dataframe thead th {\n",
       "        text-align: right;\n",
       "    }\n",
       "</style>\n",
       "<table border=\"1\" class=\"dataframe\">\n",
       "  <thead>\n",
       "    <tr style=\"text-align: right;\">\n",
       "      <th></th>\n",
       "      <th>patient_id</th>\n",
       "      <th>Other</th>\n",
       "    </tr>\n",
       "  </thead>\n",
       "  <tbody>\n",
       "    <tr>\n",
       "      <th>0</th>\n",
       "      <td>0</td>\n",
       "      <td>0</td>\n",
       "    </tr>\n",
       "    <tr>\n",
       "      <th>1</th>\n",
       "      <td>1</td>\n",
       "      <td>0</td>\n",
       "    </tr>\n",
       "    <tr>\n",
       "      <th>2</th>\n",
       "      <td>2</td>\n",
       "      <td>0</td>\n",
       "    </tr>\n",
       "    <tr>\n",
       "      <th>3</th>\n",
       "      <td>3</td>\n",
       "      <td>0</td>\n",
       "    </tr>\n",
       "    <tr>\n",
       "      <th>4</th>\n",
       "      <td>4</td>\n",
       "      <td>0</td>\n",
       "    </tr>\n",
       "    <tr>\n",
       "      <th>...</th>\n",
       "      <td>...</td>\n",
       "      <td>...</td>\n",
       "    </tr>\n",
       "    <tr>\n",
       "      <th>1992</th>\n",
       "      <td>1035</td>\n",
       "      <td>2</td>\n",
       "    </tr>\n",
       "    <tr>\n",
       "      <th>1993</th>\n",
       "      <td>1037</td>\n",
       "      <td>0</td>\n",
       "    </tr>\n",
       "    <tr>\n",
       "      <th>1994</th>\n",
       "      <td>1037</td>\n",
       "      <td>0</td>\n",
       "    </tr>\n",
       "    <tr>\n",
       "      <th>1995</th>\n",
       "      <td>1037</td>\n",
       "      <td>0</td>\n",
       "    </tr>\n",
       "    <tr>\n",
       "      <th>1996</th>\n",
       "      <td>1037</td>\n",
       "      <td>0</td>\n",
       "    </tr>\n",
       "  </tbody>\n",
       "</table>\n",
       "<p>1997 rows × 2 columns</p>\n",
       "</div>"
      ],
      "text/plain": [
       "      patient_id  Other\n",
       "0              0      0\n",
       "1              1      0\n",
       "2              2      0\n",
       "3              3      0\n",
       "4              4      0\n",
       "...          ...    ...\n",
       "1992        1035      2\n",
       "1993        1037      0\n",
       "1994        1037      0\n",
       "1995        1037      0\n",
       "1996        1037      0\n",
       "\n",
       "[1997 rows x 2 columns]"
      ]
     },
     "execution_count": 28,
     "metadata": {},
     "output_type": "execute_result"
    }
   ],
   "source": [
    "encoded = kardiasclean.perform_matrix_encoding(df['categories'], df['patient_id'], append_name=False)\n",
    "merged_df = pd.merge(df, encoded).drop(\"categories\", axis=1)\n",
    "merged_df[['patient_id', 'Other']]"
   ]
  },
  {
   "cell_type": "markdown",
   "metadata": {},
   "source": [
    "#### Step 6: Group all Duplicated Patients\n",
    "In this case, we want to group by patient_id so one row can have a value in multiple categorical columns (Note that \"Other\" can be higher than 1). This is optional as we could decide to not consider overlapping procedures."
   ]
  },
  {
   "cell_type": "code",
   "execution_count": 29,
   "metadata": {},
   "outputs": [
    {
     "name": "stdout",
     "output_type": "stream",
     "text": [
      "Before merging (1997, 25)\n",
      "After merging (1003, 24)\n"
     ]
    },
    {
     "data": {
      "text/plain": [
       "Index(['gender', 'weight_kg', 'height_cm', 'cx_previous', 'rachs', 'stay_days',\n",
       "       'expired', 'date_delta', 'CIA', 'CIV', 'Estenosis', 'PCA', 'Other',\n",
       "       'Coartacion Aortica', 'CAV', 'Tetralogia de Fallot', 'Atresia',\n",
       "       'Post-Surgical Procedure', 'Conexion Anomala', 'Corazon Univentricular',\n",
       "       'Hipoplasia', 'Doble entrada al ventriculo izquierdo',\n",
       "       'Doble Salida VD', 'Formane oval permeable'],\n",
       "      dtype='object')"
      ]
     },
     "execution_count": 29,
     "metadata": {},
     "output_type": "execute_result"
    }
   ],
   "source": [
    "final_df = merged_df.groupby(\"patient_id\").mean()\n",
    "print(\"Before merging\", merged_df.shape)\n",
    "print(\"After merging\", final_df.shape)\n",
    "final_df.columns\n",
    "\n",
    "# final_df.to_csv(\"../database/clean_diagnosis_main.csv\", index= True)"
   ]
  },
  {
   "cell_type": "markdown",
   "metadata": {},
   "source": [
    "## Part 2: Questions and ML\n",
    "\n",
    "We are going to use questions to pick our ML models."
   ]
  },
  {
   "cell_type": "markdown",
   "metadata": {},
   "source": [
    "#### Step 1: Target and Features\n",
    "\n",
    "##### **Question**: Having patient data, most common and uncommon main diagnosis, what is the probability of having a patient with a Common Diagnosis?\n"
   ]
  },
  {
   "cell_type": "code",
   "execution_count": 30,
   "metadata": {},
   "outputs": [
    {
     "name": "stdout",
     "output_type": "stream",
     "text": [
      "Not expired: 957\n",
      "Expired: 46\n"
     ]
    }
   ],
   "source": [
    "# Drop \"expired\"\n",
    "# final_df = final_df.drop(columns=[\"expired\"])\n",
    "\n",
    "# Target\n",
    "y = final_df[\"expired\"]\n",
    "# y = final_df[\"expired\"].map(lambda x: 1 if x > 5 else 0).values # create binary target\n",
    "# Features\n",
    "X = final_df.drop([\"expired\"], axis=1).values\n",
    "print(\"Not expired:\", y[y==0].shape[0])\n",
    "print(\"Expired:\", y[y==1].shape[0])"
   ]
  },
  {
   "cell_type": "code",
   "execution_count": 31,
   "metadata": {},
   "outputs": [
    {
     "name": "stdout",
     "output_type": "stream",
     "text": [
      "(752, 23) (752,)\n"
     ]
    },
    {
     "data": {
      "text/plain": [
       "array([[-0.99304512, -0.41840355, -0.44624846, ..., -0.10035185,\n",
       "        -0.20905615, -0.10035185],\n",
       "       [-0.99304512,  0.24126807,  0.61904263, ..., -0.10035185,\n",
       "        -0.20905615, -0.10035185],\n",
       "       [-0.99304512,  0.79374306,  1.16887029, ..., -0.10035185,\n",
       "        -0.20905615, -0.10035185],\n",
       "       ...,\n",
       "       [-0.99304512, -0.64928862, -0.89298343, ..., -0.10035185,\n",
       "        -0.20905615, -0.10035185],\n",
       "       [ 1.00700359, -0.47612482, -0.44624846, ..., -0.10035185,\n",
       "        -0.20905615, -0.10035185],\n",
       "       [ 1.00700359, -0.59156736, -0.58370537, ..., -0.10035185,\n",
       "        -0.20905615, -0.10035185]])"
      ]
     },
     "execution_count": 31,
     "metadata": {},
     "output_type": "execute_result"
    }
   ],
   "source": [
    "# Split train and test data\n",
    "X_train, X_test, y_train, y_test = train_test_split(X, y, random_state=1)\n",
    "# X_train.shape, X_test.shape, y_train.shape, y_test.shape\n",
    "\n",
    "# Normalize\n",
    "scaler = StandardScaler()\n",
    "X_scaler = scaler.fit(X)\n",
    "X_train_scaled = X_scaler.transform(X_train)\n",
    "X_test_scaled = X_scaler.transform(X_test)\n",
    "print(X_train_scaled.shape, y_train.shape)\n",
    "X_train_scaled"
   ]
  },
  {
   "cell_type": "markdown",
   "metadata": {},
   "source": [
    "#### Step 2: Neural Network\n",
    "We pick a model depending on our target.\n",
    "\n",
    "https://albertovaldez5.gitlab.io/data-week-19/build/deeplearning.html#work-with-hyperparameters"
   ]
  },
  {
   "cell_type": "code",
   "execution_count": 33,
   "metadata": {},
   "outputs": [
    {
     "name": "stdout",
     "output_type": "stream",
     "text": [
      "Model: \"sequential_2\"\n",
      "_________________________________________________________________\n",
      " Layer (type)                Output Shape              Param #   \n",
      "=================================================================\n",
      " dense_8 (Dense)             (None, 60)                1440      \n",
      "                                                                 \n",
      " dense_9 (Dense)             (None, 60)                3660      \n",
      "                                                                 \n",
      " dense_10 (Dense)            (None, 60)                3660      \n",
      "                                                                 \n",
      " dense_11 (Dense)            (None, 1)                 61        \n",
      "                                                                 \n",
      "=================================================================\n",
      "Total params: 8,821\n",
      "Trainable params: 8,821\n",
      "Non-trainable params: 0\n",
      "_________________________________________________________________\n"
     ]
    }
   ],
   "source": [
    "# Define the model - deep neural net, i.e., the number of input features and hidden nodes for each layer.\n",
    "dim = len(X_train_scaled[0])\n",
    "nn = tf.keras.models.Sequential()\n",
    "\n",
    "# First hidden layer\n",
    "nn.add(tf.keras.layers.Dense(units=60, activation=\"tanh\", input_dim=dim))\n",
    "# Second hidden layer\n",
    "nn.add(tf.keras.layers.Dense(units=60, activation=\"linear\"))\n",
    "# Third hidden layer\n",
    "nn.add(tf.keras.layers.Dense(units=60, activation=\"relu\"))\n",
    "# Output layer\n",
    "nn.add(tf.keras.layers.Dense(units=1, activation=\"sigmoid\"))\n",
    "\n",
    "# Check the structure of the model\n",
    "nn.summary()"
   ]
  },
  {
   "cell_type": "markdown",
   "metadata": {},
   "source": [
    "#### Step 3: Train and Predict\n",
    "\n",
    "We compile and fit the model. Then make a prediction."
   ]
  },
  {
   "cell_type": "code",
   "execution_count": 34,
   "metadata": {},
   "outputs": [
    {
     "name": "stdout",
     "output_type": "stream",
     "text": [
      "Epoch 1/120\n",
      "24/24 [==============================] - 1s 4ms/step - loss: 0.4841 - accuracy: 0.8723\n",
      "Epoch 2/120\n",
      "24/24 [==============================] - 0s 6ms/step - loss: 0.4258 - accuracy: 0.9029\n",
      "Epoch 3/120\n",
      "24/24 [==============================] - 0s 7ms/step - loss: 0.3777 - accuracy: 0.9335\n",
      "Epoch 4/120\n",
      "24/24 [==============================] - 0s 5ms/step - loss: 0.3395 - accuracy: 0.9495\n",
      "Epoch 5/120\n",
      "24/24 [==============================] - 0s 3ms/step - loss: 0.3075 - accuracy: 0.9508\n",
      "Epoch 6/120\n",
      "24/24 [==============================] - 0s 4ms/step - loss: 0.2823 - accuracy: 0.9521\n",
      "Epoch 7/120\n",
      "24/24 [==============================] - 0s 2ms/step - loss: 0.2614 - accuracy: 0.9521\n",
      "Epoch 8/120\n",
      "24/24 [==============================] - 0s 2ms/step - loss: 0.2444 - accuracy: 0.9521\n",
      "Epoch 9/120\n",
      "24/24 [==============================] - 0s 2ms/step - loss: 0.2306 - accuracy: 0.9521\n",
      "Epoch 10/120\n",
      "24/24 [==============================] - 0s 2ms/step - loss: 0.2192 - accuracy: 0.9521\n",
      "Epoch 11/120\n",
      "24/24 [==============================] - 0s 2ms/step - loss: 0.2097 - accuracy: 0.9521\n",
      "Epoch 12/120\n",
      "24/24 [==============================] - 0s 2ms/step - loss: 0.2020 - accuracy: 0.9521\n",
      "Epoch 13/120\n",
      "24/24 [==============================] - 0s 2ms/step - loss: 0.1954 - accuracy: 0.9521\n",
      "Epoch 14/120\n",
      "24/24 [==============================] - 0s 2ms/step - loss: 0.1898 - accuracy: 0.9521\n",
      "Epoch 15/120\n",
      "24/24 [==============================] - 0s 3ms/step - loss: 0.1852 - accuracy: 0.9521\n",
      "Epoch 16/120\n",
      "24/24 [==============================] - 0s 3ms/step - loss: 0.1809 - accuracy: 0.9521\n",
      "Epoch 17/120\n",
      "24/24 [==============================] - 0s 2ms/step - loss: 0.1777 - accuracy: 0.9521\n",
      "Epoch 18/120\n",
      "24/24 [==============================] - 0s 2ms/step - loss: 0.1743 - accuracy: 0.9521\n",
      "Epoch 19/120\n",
      "24/24 [==============================] - 0s 2ms/step - loss: 0.1717 - accuracy: 0.9521\n",
      "Epoch 20/120\n",
      "24/24 [==============================] - 0s 2ms/step - loss: 0.1689 - accuracy: 0.9521\n",
      "Epoch 21/120\n",
      "24/24 [==============================] - 0s 1ms/step - loss: 0.1666 - accuracy: 0.9521\n",
      "Epoch 22/120\n",
      "24/24 [==============================] - 0s 1ms/step - loss: 0.1644 - accuracy: 0.9521\n",
      "Epoch 23/120\n",
      "24/24 [==============================] - 0s 1ms/step - loss: 0.1623 - accuracy: 0.9521\n",
      "Epoch 24/120\n",
      "24/24 [==============================] - 0s 2ms/step - loss: 0.1606 - accuracy: 0.9521\n",
      "Epoch 25/120\n",
      "24/24 [==============================] - 0s 2ms/step - loss: 0.1589 - accuracy: 0.9521\n",
      "Epoch 26/120\n",
      "24/24 [==============================] - 0s 2ms/step - loss: 0.1573 - accuracy: 0.9521\n",
      "Epoch 27/120\n",
      "24/24 [==============================] - 0s 1ms/step - loss: 0.1556 - accuracy: 0.9521\n",
      "Epoch 28/120\n",
      "24/24 [==============================] - 0s 2ms/step - loss: 0.1541 - accuracy: 0.9521\n",
      "Epoch 29/120\n",
      "24/24 [==============================] - 0s 1ms/step - loss: 0.1527 - accuracy: 0.9521\n",
      "Epoch 30/120\n",
      "24/24 [==============================] - 0s 2ms/step - loss: 0.1513 - accuracy: 0.9521\n",
      "Epoch 31/120\n",
      "24/24 [==============================] - 0s 1ms/step - loss: 0.1500 - accuracy: 0.9521\n",
      "Epoch 32/120\n",
      "24/24 [==============================] - 0s 1ms/step - loss: 0.1487 - accuracy: 0.9521\n",
      "Epoch 33/120\n",
      "24/24 [==============================] - 0s 2ms/step - loss: 0.1473 - accuracy: 0.9521\n",
      "Epoch 34/120\n",
      "24/24 [==============================] - 0s 2ms/step - loss: 0.1466 - accuracy: 0.9521\n",
      "Epoch 35/120\n",
      "24/24 [==============================] - 0s 2ms/step - loss: 0.1452 - accuracy: 0.9521\n",
      "Epoch 36/120\n",
      "24/24 [==============================] - 0s 2ms/step - loss: 0.1439 - accuracy: 0.9521\n",
      "Epoch 37/120\n",
      "24/24 [==============================] - 0s 2ms/step - loss: 0.1427 - accuracy: 0.9521\n",
      "Epoch 38/120\n",
      "24/24 [==============================] - 0s 2ms/step - loss: 0.1415 - accuracy: 0.9521\n",
      "Epoch 39/120\n",
      "24/24 [==============================] - 0s 2ms/step - loss: 0.1406 - accuracy: 0.9521\n",
      "Epoch 40/120\n",
      "24/24 [==============================] - 0s 2ms/step - loss: 0.1393 - accuracy: 0.9521\n",
      "Epoch 41/120\n",
      "24/24 [==============================] - 0s 1ms/step - loss: 0.1385 - accuracy: 0.9535\n",
      "Epoch 42/120\n",
      "24/24 [==============================] - 0s 2ms/step - loss: 0.1373 - accuracy: 0.9535\n",
      "Epoch 43/120\n",
      "24/24 [==============================] - 0s 2ms/step - loss: 0.1363 - accuracy: 0.9535\n",
      "Epoch 44/120\n",
      "24/24 [==============================] - 0s 2ms/step - loss: 0.1354 - accuracy: 0.9535\n",
      "Epoch 45/120\n",
      "24/24 [==============================] - 0s 2ms/step - loss: 0.1345 - accuracy: 0.9535\n",
      "Epoch 46/120\n",
      "24/24 [==============================] - 0s 2ms/step - loss: 0.1334 - accuracy: 0.9535\n",
      "Epoch 47/120\n",
      "24/24 [==============================] - 0s 2ms/step - loss: 0.1327 - accuracy: 0.9535\n",
      "Epoch 48/120\n",
      "24/24 [==============================] - 0s 2ms/step - loss: 0.1315 - accuracy: 0.9535\n",
      "Epoch 49/120\n",
      "24/24 [==============================] - 0s 1ms/step - loss: 0.1306 - accuracy: 0.9535\n",
      "Epoch 50/120\n",
      "24/24 [==============================] - 0s 2ms/step - loss: 0.1298 - accuracy: 0.9535\n",
      "Epoch 51/120\n",
      "24/24 [==============================] - 0s 1ms/step - loss: 0.1289 - accuracy: 0.9535\n",
      "Epoch 52/120\n",
      "24/24 [==============================] - 0s 2ms/step - loss: 0.1278 - accuracy: 0.9535\n",
      "Epoch 53/120\n",
      "24/24 [==============================] - 0s 2ms/step - loss: 0.1271 - accuracy: 0.9535\n",
      "Epoch 54/120\n",
      "24/24 [==============================] - 0s 2ms/step - loss: 0.1263 - accuracy: 0.9535\n",
      "Epoch 55/120\n",
      "24/24 [==============================] - 0s 1ms/step - loss: 0.1254 - accuracy: 0.9535\n",
      "Epoch 56/120\n",
      "24/24 [==============================] - 0s 2ms/step - loss: 0.1248 - accuracy: 0.9548\n",
      "Epoch 57/120\n",
      "24/24 [==============================] - 0s 2ms/step - loss: 0.1240 - accuracy: 0.9548\n",
      "Epoch 58/120\n",
      "24/24 [==============================] - 0s 2ms/step - loss: 0.1230 - accuracy: 0.9561\n",
      "Epoch 59/120\n",
      "24/24 [==============================] - 0s 2ms/step - loss: 0.1226 - accuracy: 0.9574\n",
      "Epoch 60/120\n",
      "24/24 [==============================] - 0s 2ms/step - loss: 0.1216 - accuracy: 0.9561\n",
      "Epoch 61/120\n",
      "24/24 [==============================] - 0s 2ms/step - loss: 0.1207 - accuracy: 0.9561\n",
      "Epoch 62/120\n",
      "24/24 [==============================] - 0s 2ms/step - loss: 0.1201 - accuracy: 0.9574\n",
      "Epoch 63/120\n",
      "24/24 [==============================] - 0s 2ms/step - loss: 0.1196 - accuracy: 0.9574\n",
      "Epoch 64/120\n",
      "24/24 [==============================] - 0s 2ms/step - loss: 0.1186 - accuracy: 0.9574\n",
      "Epoch 65/120\n",
      "24/24 [==============================] - 0s 2ms/step - loss: 0.1178 - accuracy: 0.9574\n",
      "Epoch 66/120\n",
      "24/24 [==============================] - 0s 2ms/step - loss: 0.1171 - accuracy: 0.9574\n",
      "Epoch 67/120\n",
      "24/24 [==============================] - 0s 1ms/step - loss: 0.1164 - accuracy: 0.9588\n",
      "Epoch 68/120\n",
      "24/24 [==============================] - 0s 2ms/step - loss: 0.1156 - accuracy: 0.9588\n",
      "Epoch 69/120\n",
      "24/24 [==============================] - 0s 2ms/step - loss: 0.1148 - accuracy: 0.9588\n",
      "Epoch 70/120\n",
      "24/24 [==============================] - 0s 1ms/step - loss: 0.1144 - accuracy: 0.9601\n",
      "Epoch 71/120\n",
      "24/24 [==============================] - 0s 2ms/step - loss: 0.1138 - accuracy: 0.9601\n",
      "Epoch 72/120\n",
      "24/24 [==============================] - 0s 2ms/step - loss: 0.1130 - accuracy: 0.9601\n",
      "Epoch 73/120\n",
      "24/24 [==============================] - 0s 2ms/step - loss: 0.1123 - accuracy: 0.9601\n",
      "Epoch 74/120\n",
      "24/24 [==============================] - 0s 2ms/step - loss: 0.1117 - accuracy: 0.9601\n",
      "Epoch 75/120\n",
      "24/24 [==============================] - 0s 1ms/step - loss: 0.1112 - accuracy: 0.9601\n",
      "Epoch 76/120\n",
      "24/24 [==============================] - 0s 1ms/step - loss: 0.1104 - accuracy: 0.9614\n",
      "Epoch 77/120\n",
      "24/24 [==============================] - 0s 2ms/step - loss: 0.1100 - accuracy: 0.9614\n",
      "Epoch 78/120\n",
      "24/24 [==============================] - 0s 2ms/step - loss: 0.1095 - accuracy: 0.9614\n",
      "Epoch 79/120\n",
      "24/24 [==============================] - 0s 1ms/step - loss: 0.1090 - accuracy: 0.9628\n",
      "Epoch 80/120\n",
      "24/24 [==============================] - 0s 2ms/step - loss: 0.1083 - accuracy: 0.9628\n",
      "Epoch 81/120\n",
      "24/24 [==============================] - 0s 1ms/step - loss: 0.1077 - accuracy: 0.9628\n",
      "Epoch 82/120\n",
      "24/24 [==============================] - 0s 1ms/step - loss: 0.1070 - accuracy: 0.9641\n",
      "Epoch 83/120\n",
      "24/24 [==============================] - 0s 1ms/step - loss: 0.1066 - accuracy: 0.9654\n",
      "Epoch 84/120\n",
      "24/24 [==============================] - 0s 2ms/step - loss: 0.1062 - accuracy: 0.9641\n",
      "Epoch 85/120\n",
      "24/24 [==============================] - 0s 1ms/step - loss: 0.1055 - accuracy: 0.9654\n",
      "Epoch 86/120\n",
      "24/24 [==============================] - 0s 2ms/step - loss: 0.1050 - accuracy: 0.9654\n",
      "Epoch 87/120\n",
      "24/24 [==============================] - 0s 2ms/step - loss: 0.1045 - accuracy: 0.9654\n",
      "Epoch 88/120\n",
      "24/24 [==============================] - 0s 2ms/step - loss: 0.1038 - accuracy: 0.9654\n",
      "Epoch 89/120\n",
      "24/24 [==============================] - 0s 3ms/step - loss: 0.1035 - accuracy: 0.9654\n",
      "Epoch 90/120\n",
      "24/24 [==============================] - 0s 2ms/step - loss: 0.1028 - accuracy: 0.9654\n",
      "Epoch 91/120\n",
      "24/24 [==============================] - 0s 2ms/step - loss: 0.1024 - accuracy: 0.9654\n",
      "Epoch 92/120\n",
      "24/24 [==============================] - 0s 2ms/step - loss: 0.1019 - accuracy: 0.9654\n",
      "Epoch 93/120\n",
      "24/24 [==============================] - 0s 2ms/step - loss: 0.1014 - accuracy: 0.9654\n",
      "Epoch 94/120\n",
      "24/24 [==============================] - 0s 2ms/step - loss: 0.1008 - accuracy: 0.9654\n",
      "Epoch 95/120\n",
      "24/24 [==============================] - 0s 2ms/step - loss: 0.1004 - accuracy: 0.9654\n",
      "Epoch 96/120\n",
      "24/24 [==============================] - 0s 2ms/step - loss: 0.0999 - accuracy: 0.9654\n",
      "Epoch 97/120\n",
      "24/24 [==============================] - 0s 1ms/step - loss: 0.0995 - accuracy: 0.9654\n",
      "Epoch 98/120\n",
      "24/24 [==============================] - 0s 1ms/step - loss: 0.0990 - accuracy: 0.9668\n",
      "Epoch 99/120\n",
      "24/24 [==============================] - 0s 2ms/step - loss: 0.0986 - accuracy: 0.9668\n",
      "Epoch 100/120\n",
      "24/24 [==============================] - 0s 2ms/step - loss: 0.0984 - accuracy: 0.9668\n",
      "Epoch 101/120\n",
      "24/24 [==============================] - 0s 2ms/step - loss: 0.0977 - accuracy: 0.9681\n",
      "Epoch 102/120\n",
      "24/24 [==============================] - 0s 1ms/step - loss: 0.0973 - accuracy: 0.9681\n",
      "Epoch 103/120\n",
      "24/24 [==============================] - 0s 1ms/step - loss: 0.0969 - accuracy: 0.9668\n",
      "Epoch 104/120\n",
      "24/24 [==============================] - 0s 2ms/step - loss: 0.0964 - accuracy: 0.9681\n",
      "Epoch 105/120\n",
      "24/24 [==============================] - 0s 1ms/step - loss: 0.0962 - accuracy: 0.9681\n",
      "Epoch 106/120\n",
      "24/24 [==============================] - 0s 2ms/step - loss: 0.0957 - accuracy: 0.9681\n",
      "Epoch 107/120\n",
      "24/24 [==============================] - 0s 1ms/step - loss: 0.0951 - accuracy: 0.9681\n",
      "Epoch 108/120\n",
      "24/24 [==============================] - 0s 2ms/step - loss: 0.0947 - accuracy: 0.9681\n",
      "Epoch 109/120\n",
      "24/24 [==============================] - 0s 2ms/step - loss: 0.0943 - accuracy: 0.9681\n",
      "Epoch 110/120\n",
      "24/24 [==============================] - 0s 2ms/step - loss: 0.0940 - accuracy: 0.9681\n",
      "Epoch 111/120\n",
      "24/24 [==============================] - 0s 2ms/step - loss: 0.0937 - accuracy: 0.9681\n",
      "Epoch 112/120\n",
      "24/24 [==============================] - 0s 2ms/step - loss: 0.0935 - accuracy: 0.9681\n",
      "Epoch 113/120\n",
      "24/24 [==============================] - 0s 2ms/step - loss: 0.0929 - accuracy: 0.9694\n",
      "Epoch 114/120\n",
      "24/24 [==============================] - 0s 2ms/step - loss: 0.0924 - accuracy: 0.9694\n",
      "Epoch 115/120\n",
      "24/24 [==============================] - 0s 3ms/step - loss: 0.0919 - accuracy: 0.9694\n",
      "Epoch 116/120\n",
      "24/24 [==============================] - 0s 2ms/step - loss: 0.0915 - accuracy: 0.9707\n",
      "Epoch 117/120\n",
      "24/24 [==============================] - 0s 2ms/step - loss: 0.0913 - accuracy: 0.9707\n",
      "Epoch 118/120\n",
      "24/24 [==============================] - 0s 2ms/step - loss: 0.0910 - accuracy: 0.9707\n",
      "Epoch 119/120\n",
      "24/24 [==============================] - 0s 2ms/step - loss: 0.0906 - accuracy: 0.9707\n",
      "Epoch 120/120\n",
      "24/24 [==============================] - 0s 2ms/step - loss: 0.0902 - accuracy: 0.9707\n"
     ]
    }
   ],
   "source": [
    "# Train\n",
    "optimizer = tf.keras.optimizers.Adam(0.0001) # set learning rate\n",
    "# LOSS: binary_crossentropy, mean_squared_error\n",
    "nn.compile(loss=\"binary_crossentropy\", optimizer=optimizer, metrics=[\"accuracy\"])\n",
    "fit_model = nn.fit(X_train_scaled, y_train, epochs=120, verbose=1)"
   ]
  },
  {
   "cell_type": "markdown",
   "metadata": {},
   "source": [
    "#### Step 4: Evaluate\n",
    "\n",
    "https://albertovaldez5.gitlab.io/data-week-19/build/deeplearning.html#visualize-the-results"
   ]
  },
  {
   "cell_type": "code",
   "execution_count": 35,
   "metadata": {},
   "outputs": [
    {
     "name": "stdout",
     "output_type": "stream",
     "text": [
      "8/8 - 0s - loss: 0.1725 - accuracy: 0.9602 - 129ms/epoch - 16ms/step\n",
      "Loss: 0.1724717915058136, Accuracy: 0.9601593613624573\n"
     ]
    }
   ],
   "source": [
    "# Evaluate the model using the test data\n",
    "model_loss, model_accuracy = nn.evaluate(X_test_scaled, y_test, verbose=2)\n",
    "print(f\"Loss: {model_loss}, Accuracy: {model_accuracy}\")"
   ]
  },
  {
   "cell_type": "code",
   "execution_count": 36,
   "metadata": {},
   "outputs": [
    {
     "data": {
      "text/plain": [
       "<AxesSubplot:title={'center':'loss'}>"
      ]
     },
     "execution_count": 36,
     "metadata": {},
     "output_type": "execute_result"
    },
    {
     "data": {
      "image/png": "[encoded data removed]",
      "text/plain": [
       "<Figure size 640x480 with 1 Axes>"
      ]
     },
     "metadata": {},
     "output_type": "display_data"
    }
   ],
   "source": [
    "%matplotlib inline\n",
    "# view loss function\n",
    "history_df = pd.DataFrame(fit_model.history, index=range(1,len(fit_model.history[\"loss\"])+1))\n",
    "history_df['loss'].plot(title=\"loss\")"
   ]
  },
  {
   "cell_type": "code",
   "execution_count": 37,
   "metadata": {},
   "outputs": [
    {
     "name": "stdout",
     "output_type": "stream",
     "text": [
      "8/8 [==============================] - 0s 841us/step\n"
     ]
    },
    {
     "data": {
      "text/plain": [
       "array([[1.7849874e-02],\n",
       "       [1.7233890e-05],\n",
       "       [3.4145910e-02],\n",
       "       [5.6845187e-03],\n",
       "       [5.2891783e-02],\n",
       "       [1.6843524e-03],\n",
       "       [1.1726249e-03],\n",
       "       [6.3546389e-02],\n",
       "       [1.1524965e-02],\n",
       "       [4.6908294e-04]], dtype=float32)"
      ]
     },
     "execution_count": 37,
     "metadata": {},
     "output_type": "execute_result"
    }
   ],
   "source": [
    "# predictions\n",
    "y_pred = nn.predict(X_test_scaled)\n",
    "y_pred[0:10]\n"
   ]
  },
  {
   "cell_type": "code",
   "execution_count": 61,
   "metadata": {},
   "outputs": [],
   "source": [
    "# save model\n",
    "nn.save(\"trained_a.h5\")"
   ]
  },
  {
   "cell_type": "markdown",
   "metadata": {},
   "source": [
    "#### Step 5: Optimize\n",
    "\n",
    "https://albertovaldez5.gitlab.io/data-week-19/build/deeplearning.html#model-optimization-and-keras-tuner"
   ]
  },
  {
   "cell_type": "code",
   "execution_count": null,
   "metadata": {},
   "outputs": [],
   "source": []
  }
 ],
 "metadata": {
  "kernelspec": {
   "display_name": "mlenv",
   "language": "python",
   "name": "mlenv"
  },
  "language_info": {
   "codemirror_mode": {
    "name": "ipython",
    "version": 3
   },
   "file_extension": ".py",
   "mimetype": "text/x-python",
   "name": "python",
   "nbconvert_exporter": "python",
   "pygments_lexer": "ipython3",
   "version": "3.7.13"
  },
  "orig_nbformat": 4,
  "vscode": {
   "interpreter": {
    "hash": "23fb88e34c1ec3c1e958019bb84aff6dc366f349f9c11c1fa2216e8b6fa6a029"
   }
  }
 },
 "nbformat": 4,
 "nbformat_minor": 2
}
