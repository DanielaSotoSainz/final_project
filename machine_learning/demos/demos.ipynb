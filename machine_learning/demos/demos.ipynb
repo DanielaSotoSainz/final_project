{
 "cells": [
  {
   "cell_type": "code",
   "execution_count": 14,
   "metadata": {},
   "outputs": [
    {
     "data": {
      "text/plain": [
       "35"
      ]
     },
     "execution_count": 14,
     "metadata": {},
     "output_type": "execute_result"
    }
   ],
   "source": [
    "import pandas as pd\n",
    "# install xlrd\n",
    "\n",
    "df = pd.read_csv(\"original.csv\").reset_index()\n",
    "df2 = pd.read_csv(\"../../database/data_clean1.csv\")\n",
    "df.index.name = \"patient_id\"\n",
    "i1 = set(df.index)\n",
    "i2 = set(df2['patient_id'])\n",
    "i1 - i2"
   ]
  },
  {
   "cell_type": "code",
   "execution_count": 22,
   "metadata": {},
   "outputs": [
    {
     "data": {
      "text/plain": [
       "array([5], dtype=int32)"
      ]
     },
     "execution_count": 22,
     "metadata": {},
     "output_type": "execute_result"
    }
   ],
   "source": [
    "import pickle\n",
    "import numpy as np\n",
    "\n",
    "with open(\"../models/kmeans_10.pkl\", \"rb\") as f:\n",
    "    model = pickle.load(f)\n",
    "\n",
    "patient = np.asarray([ 1.00700359, -0.78277451, -0.74823937, -0.96171189, -0.36179787,\n",
    "        -0.17446073, -0.56701297, -0.66794165, -0.33560199, -0.55633724,\n",
    "         0.32145456, -0.28016892, -0.33277916, -0.25849096, -0.2774101 ,\n",
    "        -0.24407118, -0.4581391 , -0.47402114,  0.17138782, -0.33462426,\n",
    "        -0.20380595, -0.31396835, -0.25888468, -0.24317506, -0.21164042,\n",
    "        -0.23854141])\n",
    "\n",
    "model.predict(patient.reshape(1, -1))"
   ]
  }
 ],
 "metadata": {
  "kernelspec": {
   "display_name": "Python 3.7.13 64-bit ('3.7.13')",
   "language": "python",
   "name": "python3"
  },
  "language_info": {
   "codemirror_mode": {
    "name": "ipython",
    "version": 3
   },
   "file_extension": ".py",
   "mimetype": "text/x-python",
   "name": "python",
   "nbconvert_exporter": "python",
   "pygments_lexer": "ipython3",
   "version": "3.7.13"
  },
  "orig_nbformat": 4,
  "vscode": {
   "interpreter": {
    "hash": "23fb88e34c1ec3c1e958019bb84aff6dc366f349f9c11c1fa2216e8b6fa6a029"
   }
  }
 },
 "nbformat": 4,
 "nbformat_minor": 2
}
