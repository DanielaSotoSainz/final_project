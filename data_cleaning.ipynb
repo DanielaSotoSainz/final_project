{
 "cells": [
  {
   "cell_type": "code",
   "execution_count": 1,
   "id": "139cd2bd",
   "metadata": {},
   "outputs": [],
   "source": [
    "# Add the Pandas dependency.\n",
    "import pandas as pd"
   ]
  },
  {
   "cell_type": "code",
   "execution_count": null,
   "id": "acde4115",
   "metadata": {},
   "outputs": [],
   "source": [
    "# Files to load\n",
    "file_to_load = \"Resources/.csv\"****\n",
    "\n",
    "# Read the CSV into a DataFrame\n",
    "data_df = pd.read_csv(file_to_load)\n",
    "data_df"
   ]
  },
  {
   "cell_type": "code",
   "execution_count": null,
   "id": "fabb4022",
   "metadata": {},
   "outputs": [],
   "source": [
    "# Drop the NaNs.\n",
    "data_df.dropna()"
   ]
  },
  {
   "cell_type": "code",
   "execution_count": null,
   "id": "9be0d31d",
   "metadata": {},
   "outputs": [],
   "source": [
    "## THE DATA_CLEANING WILL CONTINUE UNTIL THE TEAM HAS THE REAL DATA OF THE PROJECT.\n",
    "# bump"
   ]
  }
 ],
 "metadata": {
  "kernelspec": {
   "display_name": "PythonData",
   "language": "python",
   "name": "pythondata"
  },
  "language_info": {
   "codemirror_mode": {
    "name": "ipython",
    "version": 3
   },
   "file_extension": ".py",
   "mimetype": "text/x-python",
   "name": "python",
   "nbconvert_exporter": "python",
   "pygments_lexer": "ipython3",
   "version": "3.7.13"
  }
 },
 "nbformat": 4,
 "nbformat_minor": 5
}
