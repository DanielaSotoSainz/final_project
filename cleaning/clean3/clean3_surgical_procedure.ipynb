{
 "cells": [
  {
   "cell_type": "code",
   "execution_count": 142,
   "metadata": {},
   "outputs": [
    {
     "data": {
      "text/plain": [
       "patient_id            1663\n",
       "surgical_procedure    1069\n",
       "dtype: int64"
      ]
     },
     "execution_count": 142,
     "metadata": {},
     "output_type": "execute_result"
    }
   ],
   "source": [
    "import pandas as pd\n",
    "\n",
    "df = pd.read_csv(\"../../database/clean3/db_patient_surgical_procedure_cleaned.csv\")\n",
    "df.count()"
   ]
  },
  {
   "cell_type": "code",
   "execution_count": 143,
   "metadata": {},
   "outputs": [],
   "source": [
    "df.fillna(\"Other\", inplace=True)"
   ]
  },
  {
   "cell_type": "code",
   "execution_count": 144,
   "metadata": {},
   "outputs": [],
   "source": [
    "df = df.rename(columns={\"surgical_procedure\": \"category_procedure\"})"
   ]
  },
  {
   "cell_type": "code",
   "execution_count": 145,
   "metadata": {},
   "outputs": [
    {
     "data": {
      "text/html": [
       "<div>\n",
       "<style scoped>\n",
       "    .dataframe tbody tr th:only-of-type {\n",
       "        vertical-align: middle;\n",
       "    }\n",
       "\n",
       "    .dataframe tbody tr th {\n",
       "        vertical-align: top;\n",
       "    }\n",
       "\n",
       "    .dataframe thead th {\n",
       "        text-align: right;\n",
       "    }\n",
       "</style>\n",
       "<table border=\"1\" class=\"dataframe\">\n",
       "  <thead>\n",
       "    <tr style=\"text-align: right;\">\n",
       "      <th></th>\n",
       "      <th>patient_id</th>\n",
       "      <th>surgical_procedure</th>\n",
       "    </tr>\n",
       "  </thead>\n",
       "  <tbody>\n",
       "    <tr>\n",
       "      <th>0</th>\n",
       "      <td>0</td>\n",
       "      <td>Reparacion de CIA parche</td>\n",
       "    </tr>\n",
       "    <tr>\n",
       "      <th>1</th>\n",
       "      <td>1</td>\n",
       "      <td>Reparacion de CIA parche</td>\n",
       "    </tr>\n",
       "    <tr>\n",
       "      <th>2</th>\n",
       "      <td>2</td>\n",
       "      <td>Reparacion de CIA parche</td>\n",
       "    </tr>\n",
       "    <tr>\n",
       "      <th>3</th>\n",
       "      <td>3</td>\n",
       "      <td>Reparacion de CIA parche</td>\n",
       "    </tr>\n",
       "    <tr>\n",
       "      <th>4</th>\n",
       "      <td>4</td>\n",
       "      <td>Reparacion de CIA parche</td>\n",
       "    </tr>\n",
       "    <tr>\n",
       "      <th>...</th>\n",
       "      <td>...</td>\n",
       "      <td>...</td>\n",
       "    </tr>\n",
       "    <tr>\n",
       "      <th>1658</th>\n",
       "      <td>1035</td>\n",
       "      <td>Reparacion de arco aortico con tecnica de avan...</td>\n",
       "    </tr>\n",
       "    <tr>\n",
       "      <th>1659</th>\n",
       "      <td>1035</td>\n",
       "      <td>Exploracion de valvula aortica</td>\n",
       "    </tr>\n",
       "    <tr>\n",
       "      <th>1660</th>\n",
       "      <td>1037</td>\n",
       "      <td>Correccion de tetralogia de Fallot ventriculot...</td>\n",
       "    </tr>\n",
       "    <tr>\n",
       "      <th>1661</th>\n",
       "      <td>1037</td>\n",
       "      <td>Cierre de comunicacion interauricular parche</td>\n",
       "    </tr>\n",
       "    <tr>\n",
       "      <th>1662</th>\n",
       "      <td>1037</td>\n",
       "      <td>Plicatura y pexia de rama derecha de arteria p...</td>\n",
       "    </tr>\n",
       "  </tbody>\n",
       "</table>\n",
       "<p>1663 rows × 2 columns</p>\n",
       "</div>"
      ],
      "text/plain": [
       "      patient_id                                 surgical_procedure\n",
       "0              0                           Reparacion de CIA parche\n",
       "1              1                           Reparacion de CIA parche\n",
       "2              2                           Reparacion de CIA parche\n",
       "3              3                           Reparacion de CIA parche\n",
       "4              4                           Reparacion de CIA parche\n",
       "...          ...                                                ...\n",
       "1658        1035  Reparacion de arco aortico con tecnica de avan...\n",
       "1659        1035                     Exploracion de valvula aortica\n",
       "1660        1037  Correccion de tetralogia de Fallot ventriculot...\n",
       "1661        1037       Cierre de comunicacion interauricular parche\n",
       "1662        1037  Plicatura y pexia de rama derecha de arteria p...\n",
       "\n",
       "[1663 rows x 2 columns]"
      ]
     },
     "execution_count": 145,
     "metadata": {},
     "output_type": "execute_result"
    }
   ],
   "source": [
    "original_df = pd.read_csv(\"../../database/clean2/db_patient_surgical_procedure.csv\")\n",
    "original_df"
   ]
  },
  {
   "cell_type": "code",
   "execution_count": 146,
   "metadata": {},
   "outputs": [
    {
     "data": {
      "text/html": [
       "<div>\n",
       "<style scoped>\n",
       "    .dataframe tbody tr th:only-of-type {\n",
       "        vertical-align: middle;\n",
       "    }\n",
       "\n",
       "    .dataframe tbody tr th {\n",
       "        vertical-align: top;\n",
       "    }\n",
       "\n",
       "    .dataframe thead th {\n",
       "        text-align: right;\n",
       "    }\n",
       "</style>\n",
       "<table border=\"1\" class=\"dataframe\">\n",
       "  <thead>\n",
       "    <tr style=\"text-align: right;\">\n",
       "      <th></th>\n",
       "      <th>patient_id</th>\n",
       "      <th>surgical_procedure</th>\n",
       "      <th>category_procedure</th>\n",
       "    </tr>\n",
       "  </thead>\n",
       "  <tbody>\n",
       "    <tr>\n",
       "      <th>0</th>\n",
       "      <td>0</td>\n",
       "      <td>Reparacion de CIA parche</td>\n",
       "      <td>Parche comunicacion interauricular CIA</td>\n",
       "    </tr>\n",
       "    <tr>\n",
       "      <th>1</th>\n",
       "      <td>1</td>\n",
       "      <td>Reparacion de CIA parche</td>\n",
       "      <td>Parche comunicacion interauricular CIA</td>\n",
       "    </tr>\n",
       "    <tr>\n",
       "      <th>2</th>\n",
       "      <td>2</td>\n",
       "      <td>Reparacion de CIA parche</td>\n",
       "      <td>Parche comunicacion interauricular CIA</td>\n",
       "    </tr>\n",
       "    <tr>\n",
       "      <th>3</th>\n",
       "      <td>3</td>\n",
       "      <td>Reparacion de CIA parche</td>\n",
       "      <td>Parche comunicacion interauricular CIA</td>\n",
       "    </tr>\n",
       "    <tr>\n",
       "      <th>4</th>\n",
       "      <td>4</td>\n",
       "      <td>Reparacion de CIA parche</td>\n",
       "      <td>Parche comunicacion interauricular CIA</td>\n",
       "    </tr>\n",
       "    <tr>\n",
       "      <th>...</th>\n",
       "      <td>...</td>\n",
       "      <td>...</td>\n",
       "      <td>...</td>\n",
       "    </tr>\n",
       "    <tr>\n",
       "      <th>1658</th>\n",
       "      <td>1035</td>\n",
       "      <td>Reparacion de arco aortico con tecnica de avan...</td>\n",
       "      <td>Reparacion de arco aortico</td>\n",
       "    </tr>\n",
       "    <tr>\n",
       "      <th>1659</th>\n",
       "      <td>1035</td>\n",
       "      <td>Exploracion de valvula aortica</td>\n",
       "      <td>Other</td>\n",
       "    </tr>\n",
       "    <tr>\n",
       "      <th>1660</th>\n",
       "      <td>1037</td>\n",
       "      <td>Correccion de tetralogia de Fallot ventriculot...</td>\n",
       "      <td>Reparacion de Tetralogia de Fallot</td>\n",
       "    </tr>\n",
       "    <tr>\n",
       "      <th>1661</th>\n",
       "      <td>1037</td>\n",
       "      <td>Cierre de comunicacion interauricular parche</td>\n",
       "      <td>Other</td>\n",
       "    </tr>\n",
       "    <tr>\n",
       "      <th>1662</th>\n",
       "      <td>1037</td>\n",
       "      <td>Plicatura y pexia de rama derecha de arteria p...</td>\n",
       "      <td>Other</td>\n",
       "    </tr>\n",
       "  </tbody>\n",
       "</table>\n",
       "<p>1663 rows × 3 columns</p>\n",
       "</div>"
      ],
      "text/plain": [
       "      patient_id                                 surgical_procedure  \\\n",
       "0              0                           Reparacion de CIA parche   \n",
       "1              1                           Reparacion de CIA parche   \n",
       "2              2                           Reparacion de CIA parche   \n",
       "3              3                           Reparacion de CIA parche   \n",
       "4              4                           Reparacion de CIA parche   \n",
       "...          ...                                                ...   \n",
       "1658        1035  Reparacion de arco aortico con tecnica de avan...   \n",
       "1659        1035                     Exploracion de valvula aortica   \n",
       "1660        1037  Correccion de tetralogia de Fallot ventriculot...   \n",
       "1661        1037       Cierre de comunicacion interauricular parche   \n",
       "1662        1037  Plicatura y pexia de rama derecha de arteria p...   \n",
       "\n",
       "                          category_procedure  \n",
       "0     Parche comunicacion interauricular CIA  \n",
       "1     Parche comunicacion interauricular CIA  \n",
       "2     Parche comunicacion interauricular CIA  \n",
       "3     Parche comunicacion interauricular CIA  \n",
       "4     Parche comunicacion interauricular CIA  \n",
       "...                                      ...  \n",
       "1658              Reparacion de arco aortico  \n",
       "1659                                   Other  \n",
       "1660      Reparacion de Tetralogia de Fallot  \n",
       "1661                                   Other  \n",
       "1662                                   Other  \n",
       "\n",
       "[1663 rows x 3 columns]"
      ]
     },
     "execution_count": 146,
     "metadata": {},
     "output_type": "execute_result"
    }
   ],
   "source": [
    "final_df = original_df.copy(deep=True)\n",
    "final_df['category_procedure'] = df['category_procedure']\n",
    "final_df"
   ]
  },
  {
   "cell_type": "code",
   "execution_count": 147,
   "metadata": {},
   "outputs": [],
   "source": [
    "final_df.to_csv(\"../../database/clean3/db_patient_surgical_procedure_category.csv\", index=False)"
   ]
  },
  {
   "cell_type": "code",
   "execution_count": 148,
   "metadata": {},
   "outputs": [
    {
     "data": {
      "text/html": [
       "<div>\n",
       "<style scoped>\n",
       "    .dataframe tbody tr th:only-of-type {\n",
       "        vertical-align: middle;\n",
       "    }\n",
       "\n",
       "    .dataframe tbody tr th {\n",
       "        vertical-align: top;\n",
       "    }\n",
       "\n",
       "    .dataframe thead th {\n",
       "        text-align: right;\n",
       "    }\n",
       "</style>\n",
       "<table border=\"1\" class=\"dataframe\">\n",
       "  <thead>\n",
       "    <tr style=\"text-align: right;\">\n",
       "      <th></th>\n",
       "      <th>patient_id</th>\n",
       "      <th>surgical_procedure</th>\n",
       "      <th>category_procedure</th>\n",
       "    </tr>\n",
       "  </thead>\n",
       "  <tbody>\n",
       "    <tr>\n",
       "      <th>unique_count</th>\n",
       "      <td>1003.000000</td>\n",
       "      <td>572.000000</td>\n",
       "      <td>31.000000</td>\n",
       "    </tr>\n",
       "    <tr>\n",
       "      <th>percent_of_total</th>\n",
       "      <td>0.603127</td>\n",
       "      <td>0.343957</td>\n",
       "      <td>0.018641</td>\n",
       "    </tr>\n",
       "    <tr>\n",
       "      <th>avg_per_record</th>\n",
       "      <td>1.658026</td>\n",
       "      <td>2.907343</td>\n",
       "      <td>53.645161</td>\n",
       "    </tr>\n",
       "  </tbody>\n",
       "</table>\n",
       "</div>"
      ],
      "text/plain": [
       "                   patient_id  surgical_procedure  category_procedure\n",
       "unique_count      1003.000000          572.000000           31.000000\n",
       "percent_of_total     0.603127            0.343957            0.018641\n",
       "avg_per_record       1.658026            2.907343           53.645161"
      ]
     },
     "execution_count": 148,
     "metadata": {},
     "output_type": "execute_result"
    }
   ],
   "source": [
    "import kardiasclean\n",
    "\n",
    "kardiasclean.get_unique_stats(final_df)"
   ]
  },
  {
   "cell_type": "code",
   "execution_count": 149,
   "metadata": {},
   "outputs": [
    {
     "data": {
      "text/plain": [
       "Other                                     594\n",
       "Vena cava inferior parche                 186\n",
       "Parche comunicacion interauricular CIA    174\n",
       "Cierre de Conducto Arterioso              101\n",
       "Reparacion de Tetralogia de Fallot         90\n",
       "Procedimiento de Glenn                     63\n",
       "Reparacion de arco aortico                 56\n",
       "Procedimiento de Fontan                    54\n",
       "Fistula sistemico pulmonar                 43\n",
       "Reparacion de Canal AV                     40\n",
       "Name: category_procedure, dtype: int64"
      ]
     },
     "execution_count": 149,
     "metadata": {},
     "output_type": "execute_result"
    }
   ],
   "source": [
    "df['category_procedure'].value_counts()[0:10]"
   ]
  },
  {
   "cell_type": "code",
   "execution_count": 150,
   "metadata": {},
   "outputs": [
    {
     "data": {
      "text/plain": [
       "0       Parche comunicacion interauricular CIA\n",
       "1       Parche comunicacion interauricular CIA\n",
       "2       Parche comunicacion interauricular CIA\n",
       "3       Parche comunicacion interauricular CIA\n",
       "4       Parche comunicacion interauricular CIA\n",
       "                         ...                  \n",
       "1658                Reparacion de arco aortico\n",
       "1659                                     Other\n",
       "1660        Reparacion de Tetralogia de Fallot\n",
       "1661                                     Other\n",
       "1662                                     Other\n",
       "Name: category_procedure, Length: 1663, dtype: object"
      ]
     },
     "execution_count": 150,
     "metadata": {},
     "output_type": "execute_result"
    }
   ],
   "source": [
    "df['category_procedure']"
   ]
  }
 ],
 "metadata": {
  "kernelspec": {
   "display_name": "Python 3.7.13 64-bit ('3.7.13')",
   "language": "python",
   "name": "python3"
  },
  "language_info": {
   "codemirror_mode": {
    "name": "ipython",
    "version": 3
   },
   "file_extension": ".py",
   "mimetype": "text/x-python",
   "name": "python",
   "nbconvert_exporter": "python",
   "pygments_lexer": "ipython3",
   "version": "3.7.13"
  },
  "orig_nbformat": 4,
  "vscode": {
   "interpreter": {
    "hash": "23fb88e34c1ec3c1e958019bb84aff6dc366f349f9c11c1fa2216e8b6fa6a029"
   }
  }
 },
 "nbformat": 4,
 "nbformat_minor": 2
}
