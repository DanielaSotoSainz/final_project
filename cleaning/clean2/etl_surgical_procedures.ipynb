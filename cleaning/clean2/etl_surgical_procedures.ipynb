{
 "cells": [
  {
   "cell_type": "markdown",
   "metadata": {},
   "source": [
    "# ETL Medical Records\n",
    "\n",
    "Tokenize medical records.\n",
    "\n",
    "Template Notebook using kardiasclean."
   ]
  },
  {
   "cell_type": "markdown",
   "metadata": {},
   "source": [
    "## Part 1: Split data\n",
    "\n",
    "1. Load data\n",
    "2. Split long strings into list of strings\n",
    "3. Spread list of strings into multiple rows with repeated ids (new df)"
   ]
  },
  {
   "cell_type": "code",
   "execution_count": 1,
   "metadata": {},
   "outputs": [
    {
     "data": {
      "text/html": [
       "<div>\n",
       "<style scoped>\n",
       "    .dataframe tbody tr th:only-of-type {\n",
       "        vertical-align: middle;\n",
       "    }\n",
       "\n",
       "    .dataframe tbody tr th {\n",
       "        vertical-align: top;\n",
       "    }\n",
       "\n",
       "    .dataframe thead th {\n",
       "        text-align: right;\n",
       "    }\n",
       "</style>\n",
       "<table border=\"1\" class=\"dataframe\">\n",
       "  <thead>\n",
       "    <tr style=\"text-align: right;\">\n",
       "      <th></th>\n",
       "      <th>gender</th>\n",
       "      <th>state</th>\n",
       "      <th>municipality</th>\n",
       "      <th>altitude</th>\n",
       "      <th>age</th>\n",
       "      <th>weight_kg</th>\n",
       "      <th>height_cm</th>\n",
       "      <th>appearance</th>\n",
       "      <th>diagnosis_general</th>\n",
       "      <th>cx_previous</th>\n",
       "      <th>diagnosis_main</th>\n",
       "      <th>date_birth</th>\n",
       "      <th>date_procedure</th>\n",
       "      <th>procedure</th>\n",
       "      <th>rachs</th>\n",
       "      <th>stay_days</th>\n",
       "      <th>expired</th>\n",
       "    </tr>\n",
       "    <tr>\n",
       "      <th>patient_id</th>\n",
       "      <th></th>\n",
       "      <th></th>\n",
       "      <th></th>\n",
       "      <th></th>\n",
       "      <th></th>\n",
       "      <th></th>\n",
       "      <th></th>\n",
       "      <th></th>\n",
       "      <th></th>\n",
       "      <th></th>\n",
       "      <th></th>\n",
       "      <th></th>\n",
       "      <th></th>\n",
       "      <th></th>\n",
       "      <th></th>\n",
       "      <th></th>\n",
       "      <th></th>\n",
       "    </tr>\n",
       "  </thead>\n",
       "  <tbody>\n",
       "    <tr>\n",
       "      <th>0</th>\n",
       "      <td>0</td>\n",
       "      <td>Estado de México</td>\n",
       "      <td>Huixquilucan</td>\n",
       "      <td>2726</td>\n",
       "      <td>3942</td>\n",
       "      <td>35.0</td>\n",
       "      <td>134.0</td>\n",
       "      <td>Normal</td>\n",
       "      <td>Ninguno</td>\n",
       "      <td>0</td>\n",
       "      <td>Comunicación interauricular, secundum</td>\n",
       "      <td>2001-08-22</td>\n",
       "      <td>2012-04-08</td>\n",
       "      <td>Reparación de CIA, parche</td>\n",
       "      <td>1.0</td>\n",
       "      <td>2.0</td>\n",
       "      <td>0</td>\n",
       "    </tr>\n",
       "    <tr>\n",
       "      <th>1</th>\n",
       "      <td>1</td>\n",
       "      <td>Estado de México</td>\n",
       "      <td>Timilpan</td>\n",
       "      <td>2741</td>\n",
       "      <td>3202</td>\n",
       "      <td>18.0</td>\n",
       "      <td>117.0</td>\n",
       "      <td>Desnutrido</td>\n",
       "      <td>Ninguno</td>\n",
       "      <td>0</td>\n",
       "      <td>Comunicación interauricular, secundum</td>\n",
       "      <td>2003-09-19</td>\n",
       "      <td>2012-11-08</td>\n",
       "      <td>Reparación CIA, parche</td>\n",
       "      <td>1.0</td>\n",
       "      <td>2.0</td>\n",
       "      <td>0</td>\n",
       "    </tr>\n",
       "    <tr>\n",
       "      <th>2</th>\n",
       "      <td>0</td>\n",
       "      <td>Ciudad de México</td>\n",
       "      <td>Coyoacán</td>\n",
       "      <td>2240</td>\n",
       "      <td>3147</td>\n",
       "      <td>22.0</td>\n",
       "      <td>120.0</td>\n",
       "      <td>Normal</td>\n",
       "      <td>Ninguno</td>\n",
       "      <td>0</td>\n",
       "      <td>Comunicación interauricular, secundum</td>\n",
       "      <td>2003-11-21</td>\n",
       "      <td>2012-08-18</td>\n",
       "      <td>Reparación CIA, parche</td>\n",
       "      <td>1.0</td>\n",
       "      <td>2.0</td>\n",
       "      <td>0</td>\n",
       "    </tr>\n",
       "    <tr>\n",
       "      <th>3</th>\n",
       "      <td>0</td>\n",
       "      <td>Estado de México</td>\n",
       "      <td>Nezahualcoyotl</td>\n",
       "      <td>2220</td>\n",
       "      <td>4005</td>\n",
       "      <td>42.0</td>\n",
       "      <td>147.0</td>\n",
       "      <td>Normal</td>\n",
       "      <td>Ninguno</td>\n",
       "      <td>0</td>\n",
       "      <td>Comunicación interauricular, secundum</td>\n",
       "      <td>2001-10-07</td>\n",
       "      <td>2012-08-25</td>\n",
       "      <td>Reparación CIA, parche</td>\n",
       "      <td>1.0</td>\n",
       "      <td>2.0</td>\n",
       "      <td>0</td>\n",
       "    </tr>\n",
       "    <tr>\n",
       "      <th>4</th>\n",
       "      <td>0</td>\n",
       "      <td>Ciudad de México</td>\n",
       "      <td>Alvaro Obregón</td>\n",
       "      <td>2373</td>\n",
       "      <td>5289</td>\n",
       "      <td>40.0</td>\n",
       "      <td>157.0</td>\n",
       "      <td>Normal</td>\n",
       "      <td>Ninguno</td>\n",
       "      <td>0</td>\n",
       "      <td>Comunicación Interauricular, Secundum</td>\n",
       "      <td>1997-12-22</td>\n",
       "      <td>2012-01-09</td>\n",
       "      <td>Reparación CIA, parche</td>\n",
       "      <td>1.0</td>\n",
       "      <td>3.0</td>\n",
       "      <td>0</td>\n",
       "    </tr>\n",
       "  </tbody>\n",
       "</table>\n",
       "</div>"
      ],
      "text/plain": [
       "            gender             state    municipality  altitude   age  \\\n",
       "patient_id                                                             \n",
       "0                0  Estado de México    Huixquilucan      2726  3942   \n",
       "1                1  Estado de México        Timilpan      2741  3202   \n",
       "2                0  Ciudad de México        Coyoacán      2240  3147   \n",
       "3                0  Estado de México  Nezahualcoyotl      2220  4005   \n",
       "4                0  Ciudad de México  Alvaro Obregón      2373  5289   \n",
       "\n",
       "            weight_kg  height_cm  appearance diagnosis_general  cx_previous  \\\n",
       "patient_id                                                                    \n",
       "0                35.0      134.0      Normal           Ninguno            0   \n",
       "1                18.0      117.0  Desnutrido           Ninguno            0   \n",
       "2                22.0      120.0      Normal           Ninguno            0   \n",
       "3                42.0      147.0      Normal           Ninguno            0   \n",
       "4                40.0      157.0      Normal           Ninguno            0   \n",
       "\n",
       "                                   diagnosis_main  date_birth date_procedure  \\\n",
       "patient_id                                                                     \n",
       "0           Comunicación interauricular, secundum  2001-08-22     2012-04-08   \n",
       "1           Comunicación interauricular, secundum  2003-09-19     2012-11-08   \n",
       "2           Comunicación interauricular, secundum  2003-11-21     2012-08-18   \n",
       "3           Comunicación interauricular, secundum  2001-10-07     2012-08-25   \n",
       "4           Comunicación Interauricular, Secundum  1997-12-22     2012-01-09   \n",
       "\n",
       "                            procedure  rachs  stay_days  expired  \n",
       "patient_id                                                        \n",
       "0           Reparación de CIA, parche    1.0        2.0        0  \n",
       "1              Reparación CIA, parche    1.0        2.0        0  \n",
       "2              Reparación CIA, parche    1.0        2.0        0  \n",
       "3              Reparación CIA, parche    1.0        2.0        0  \n",
       "4              Reparación CIA, parche    1.0        3.0        0  "
      ]
     },
     "execution_count": 1,
     "metadata": {},
     "output_type": "execute_result"
    }
   ],
   "source": [
    "import pandas as pd\n",
    "from pathlib import Path\n",
    "from getpass import getpass\n",
    "\n",
    "import kardiasclean\n",
    "\n",
    "df = pd.read_csv(Path(\"./resources/data_clean1.csv\")).set_index(\"patient_id\")\n",
    "df.head()"
   ]
  },
  {
   "cell_type": "code",
   "execution_count": 2,
   "metadata": {},
   "outputs": [
    {
     "data": {
      "text/plain": [
       "patient_id\n",
       "0                             [Reparación de CIA, parche]\n",
       "1                                [Reparación CIA, parche]\n",
       "2                                [Reparación CIA, parche]\n",
       "3                                [Reparación CIA, parche]\n",
       "4                                [Reparación CIA, parche]\n",
       "                              ...                        \n",
       "1032    [Procedimiento de Switch arterial, Cierre de c...\n",
       "1033    [Cierre quirurgico de comunicación interauricu...\n",
       "1034    [Colocación de tubo valvuldo del ventrículo de...\n",
       "1035    [Reparación de arco aórtico con técnica de ava...\n",
       "1037    [Corrección de tetralogía de Fallot, ventricul...\n",
       "Name: procedure, Length: 1003, dtype: object"
      ]
     },
     "execution_count": 2,
     "metadata": {},
     "output_type": "execute_result"
    }
   ],
   "source": [
    "df['procedure'] = kardiasclean.split_string(df['procedure'], delimiter=\"+\")\n",
    "df['procedure']"
   ]
  },
  {
   "cell_type": "code",
   "execution_count": 3,
   "metadata": {},
   "outputs": [
    {
     "name": "stdout",
     "output_type": "stream",
     "text": [
      "                   patient_id   procedure\n",
      "unique_count      1003.000000  759.000000\n",
      "percent_of_total     0.603127    0.456404\n",
      "avg_per_record       1.658026    2.191041\n"
     ]
    },
    {
     "data": {
      "text/html": [
       "<div>\n",
       "<style scoped>\n",
       "    .dataframe tbody tr th:only-of-type {\n",
       "        vertical-align: middle;\n",
       "    }\n",
       "\n",
       "    .dataframe tbody tr th {\n",
       "        vertical-align: top;\n",
       "    }\n",
       "\n",
       "    .dataframe thead th {\n",
       "        text-align: right;\n",
       "    }\n",
       "</style>\n",
       "<table border=\"1\" class=\"dataframe\">\n",
       "  <thead>\n",
       "    <tr style=\"text-align: right;\">\n",
       "      <th></th>\n",
       "      <th>patient_id</th>\n",
       "      <th>procedure</th>\n",
       "    </tr>\n",
       "  </thead>\n",
       "  <tbody>\n",
       "    <tr>\n",
       "      <th>5</th>\n",
       "      <td>5</td>\n",
       "      <td>Reparación de CIV, parche</td>\n",
       "    </tr>\n",
       "    <tr>\n",
       "      <th>6</th>\n",
       "      <td>5</td>\n",
       "      <td>Reparación de estenosis aórtica subvalvular</td>\n",
       "    </tr>\n",
       "    <tr>\n",
       "      <th>7</th>\n",
       "      <td>6</td>\n",
       "      <td>Reparación de CIV, parche</td>\n",
       "    </tr>\n",
       "    <tr>\n",
       "      <th>8</th>\n",
       "      <td>7</td>\n",
       "      <td>Reparacion de CIA, parche</td>\n",
       "    </tr>\n",
       "    <tr>\n",
       "      <th>9</th>\n",
       "      <td>8</td>\n",
       "      <td>Reparación de CIV, parche</td>\n",
       "    </tr>\n",
       "  </tbody>\n",
       "</table>\n",
       "</div>"
      ],
      "text/plain": [
       "   patient_id                                    procedure\n",
       "5           5                    Reparación de CIV, parche\n",
       "6           5  Reparación de estenosis aórtica subvalvular\n",
       "7           6                    Reparación de CIV, parche\n",
       "8           7                    Reparacion de CIA, parche\n",
       "9           8                    Reparación de CIV, parche"
      ]
     },
     "execution_count": 3,
     "metadata": {},
     "output_type": "execute_result"
    }
   ],
   "source": [
    "spread_df = kardiasclean.spread_column(df['procedure'])\n",
    "print(kardiasclean.get_unique_stats(spread_df))\n",
    "spread_df[5:10]"
   ]
  },
  {
   "cell_type": "markdown",
   "metadata": {},
   "source": [
    "## Part 2: Clean and Tokenize Strings\n",
    "\n",
    "1. Remove accents\n",
    "2. Remove Symbols with regex\n",
    "3. Remove stopwords\n",
    "4. Tokenize with soundex"
   ]
  },
  {
   "cell_type": "code",
   "execution_count": 4,
   "metadata": {},
   "outputs": [
    {
     "name": "stdout",
     "output_type": "stream",
     "text": [
      "                   patient_id   procedure\n",
      "unique_count      1003.000000  744.000000\n",
      "percent_of_total     0.603127    0.447384\n",
      "avg_per_record       1.658026    2.235215\n"
     ]
    },
    {
     "data": {
      "text/html": [
       "<div>\n",
       "<style scoped>\n",
       "    .dataframe tbody tr th:only-of-type {\n",
       "        vertical-align: middle;\n",
       "    }\n",
       "\n",
       "    .dataframe tbody tr th {\n",
       "        vertical-align: top;\n",
       "    }\n",
       "\n",
       "    .dataframe thead th {\n",
       "        text-align: right;\n",
       "    }\n",
       "</style>\n",
       "<table border=\"1\" class=\"dataframe\">\n",
       "  <thead>\n",
       "    <tr style=\"text-align: right;\">\n",
       "      <th></th>\n",
       "      <th>patient_id</th>\n",
       "      <th>procedure</th>\n",
       "    </tr>\n",
       "  </thead>\n",
       "  <tbody>\n",
       "    <tr>\n",
       "      <th>0</th>\n",
       "      <td>0</td>\n",
       "      <td>Reparacion de CIA, parche</td>\n",
       "    </tr>\n",
       "    <tr>\n",
       "      <th>1</th>\n",
       "      <td>1</td>\n",
       "      <td>Reparacion CIA, parche</td>\n",
       "    </tr>\n",
       "    <tr>\n",
       "      <th>2</th>\n",
       "      <td>2</td>\n",
       "      <td>Reparacion CIA, parche</td>\n",
       "    </tr>\n",
       "    <tr>\n",
       "      <th>3</th>\n",
       "      <td>3</td>\n",
       "      <td>Reparacion CIA, parche</td>\n",
       "    </tr>\n",
       "    <tr>\n",
       "      <th>4</th>\n",
       "      <td>4</td>\n",
       "      <td>Reparacion CIA, parche</td>\n",
       "    </tr>\n",
       "  </tbody>\n",
       "</table>\n",
       "</div>"
      ],
      "text/plain": [
       "   patient_id                  procedure\n",
       "0           0  Reparacion de CIA, parche\n",
       "1           1     Reparacion CIA, parche\n",
       "2           2     Reparacion CIA, parche\n",
       "3           3     Reparacion CIA, parche\n",
       "4           4     Reparacion CIA, parche"
      ]
     },
     "execution_count": 4,
     "metadata": {},
     "output_type": "execute_result"
    }
   ],
   "source": [
    "spread_df['procedure'] = kardiasclean.clean_accents(spread_df['procedure'])\n",
    "print(kardiasclean.get_unique_stats(spread_df))\n",
    "spread_df.head()"
   ]
  },
  {
   "cell_type": "code",
   "execution_count": 5,
   "metadata": {},
   "outputs": [
    {
     "name": "stdout",
     "output_type": "stream",
     "text": [
      "                   patient_id   procedure\n",
      "unique_count      1003.000000  714.000000\n",
      "percent_of_total     0.603127    0.429345\n",
      "avg_per_record       1.658026    2.329132\n"
     ]
    },
    {
     "data": {
      "text/html": [
       "<div>\n",
       "<style scoped>\n",
       "    .dataframe tbody tr th:only-of-type {\n",
       "        vertical-align: middle;\n",
       "    }\n",
       "\n",
       "    .dataframe tbody tr th {\n",
       "        vertical-align: top;\n",
       "    }\n",
       "\n",
       "    .dataframe thead th {\n",
       "        text-align: right;\n",
       "    }\n",
       "</style>\n",
       "<table border=\"1\" class=\"dataframe\">\n",
       "  <thead>\n",
       "    <tr style=\"text-align: right;\">\n",
       "      <th></th>\n",
       "      <th>patient_id</th>\n",
       "      <th>procedure</th>\n",
       "    </tr>\n",
       "  </thead>\n",
       "  <tbody>\n",
       "    <tr>\n",
       "      <th>0</th>\n",
       "      <td>0</td>\n",
       "      <td>Reparacion de CIA parche</td>\n",
       "    </tr>\n",
       "    <tr>\n",
       "      <th>1</th>\n",
       "      <td>1</td>\n",
       "      <td>Reparacion CIA parche</td>\n",
       "    </tr>\n",
       "    <tr>\n",
       "      <th>2</th>\n",
       "      <td>2</td>\n",
       "      <td>Reparacion CIA parche</td>\n",
       "    </tr>\n",
       "    <tr>\n",
       "      <th>3</th>\n",
       "      <td>3</td>\n",
       "      <td>Reparacion CIA parche</td>\n",
       "    </tr>\n",
       "    <tr>\n",
       "      <th>4</th>\n",
       "      <td>4</td>\n",
       "      <td>Reparacion CIA parche</td>\n",
       "    </tr>\n",
       "  </tbody>\n",
       "</table>\n",
       "</div>"
      ],
      "text/plain": [
       "   patient_id                 procedure\n",
       "0           0  Reparacion de CIA parche\n",
       "1           1     Reparacion CIA parche\n",
       "2           2     Reparacion CIA parche\n",
       "3           3     Reparacion CIA parche\n",
       "4           4     Reparacion CIA parche"
      ]
     },
     "execution_count": 5,
     "metadata": {},
     "output_type": "execute_result"
    }
   ],
   "source": [
    "spread_df['procedure'] = kardiasclean.clean_symbols(spread_df['procedure'])\n",
    "print(kardiasclean.get_unique_stats(spread_df))\n",
    "spread_df.head()"
   ]
  },
  {
   "cell_type": "code",
   "execution_count": 6,
   "metadata": {},
   "outputs": [
    {
     "name": "stdout",
     "output_type": "stream",
     "text": [
      "                   patient_id   procedure    keywords\n",
      "unique_count      1003.000000  714.000000  666.000000\n",
      "percent_of_total     0.603127    0.429345    0.400481\n",
      "avg_per_record       1.658026    2.329132    2.496997\n"
     ]
    },
    {
     "data": {
      "text/html": [
       "<div>\n",
       "<style scoped>\n",
       "    .dataframe tbody tr th:only-of-type {\n",
       "        vertical-align: middle;\n",
       "    }\n",
       "\n",
       "    .dataframe tbody tr th {\n",
       "        vertical-align: top;\n",
       "    }\n",
       "\n",
       "    .dataframe thead th {\n",
       "        text-align: right;\n",
       "    }\n",
       "</style>\n",
       "<table border=\"1\" class=\"dataframe\">\n",
       "  <thead>\n",
       "    <tr style=\"text-align: right;\">\n",
       "      <th></th>\n",
       "      <th>patient_id</th>\n",
       "      <th>procedure</th>\n",
       "      <th>keywords</th>\n",
       "    </tr>\n",
       "  </thead>\n",
       "  <tbody>\n",
       "    <tr>\n",
       "      <th>0</th>\n",
       "      <td>0</td>\n",
       "      <td>Reparacion de CIA parche</td>\n",
       "      <td>CIA Reparacion parche</td>\n",
       "    </tr>\n",
       "    <tr>\n",
       "      <th>1</th>\n",
       "      <td>1</td>\n",
       "      <td>Reparacion CIA parche</td>\n",
       "      <td>CIA Reparacion parche</td>\n",
       "    </tr>\n",
       "    <tr>\n",
       "      <th>2</th>\n",
       "      <td>2</td>\n",
       "      <td>Reparacion CIA parche</td>\n",
       "      <td>CIA Reparacion parche</td>\n",
       "    </tr>\n",
       "    <tr>\n",
       "      <th>3</th>\n",
       "      <td>3</td>\n",
       "      <td>Reparacion CIA parche</td>\n",
       "      <td>CIA Reparacion parche</td>\n",
       "    </tr>\n",
       "    <tr>\n",
       "      <th>4</th>\n",
       "      <td>4</td>\n",
       "      <td>Reparacion CIA parche</td>\n",
       "      <td>CIA Reparacion parche</td>\n",
       "    </tr>\n",
       "  </tbody>\n",
       "</table>\n",
       "</div>"
      ],
      "text/plain": [
       "   patient_id                 procedure               keywords\n",
       "0           0  Reparacion de CIA parche  CIA Reparacion parche\n",
       "1           1     Reparacion CIA parche  CIA Reparacion parche\n",
       "2           2     Reparacion CIA parche  CIA Reparacion parche\n",
       "3           3     Reparacion CIA parche  CIA Reparacion parche\n",
       "4           4     Reparacion CIA parche  CIA Reparacion parche"
      ]
     },
     "execution_count": 6,
     "metadata": {},
     "output_type": "execute_result"
    }
   ],
   "source": [
    "spread_df['keywords'] = kardiasclean.clean_stopwords(spread_df['procedure'])\n",
    "print(kardiasclean.get_unique_stats(spread_df))\n",
    "spread_df.head()"
   ]
  },
  {
   "cell_type": "code",
   "execution_count": 7,
   "metadata": {},
   "outputs": [
    {
     "name": "stdout",
     "output_type": "stream",
     "text": [
      "                   patient_id   procedure    keywords       token\n",
      "unique_count      1003.000000  714.000000  666.000000  603.000000\n",
      "percent_of_total     0.603127    0.429345    0.400481    0.362598\n",
      "avg_per_record       1.658026    2.329132    2.496997    2.757877\n"
     ]
    },
    {
     "data": {
      "text/html": [
       "<div>\n",
       "<style scoped>\n",
       "    .dataframe tbody tr th:only-of-type {\n",
       "        vertical-align: middle;\n",
       "    }\n",
       "\n",
       "    .dataframe tbody tr th {\n",
       "        vertical-align: top;\n",
       "    }\n",
       "\n",
       "    .dataframe thead th {\n",
       "        text-align: right;\n",
       "    }\n",
       "</style>\n",
       "<table border=\"1\" class=\"dataframe\">\n",
       "  <thead>\n",
       "    <tr style=\"text-align: right;\">\n",
       "      <th></th>\n",
       "      <th>patient_id</th>\n",
       "      <th>procedure</th>\n",
       "      <th>keywords</th>\n",
       "      <th>token</th>\n",
       "    </tr>\n",
       "  </thead>\n",
       "  <tbody>\n",
       "    <tr>\n",
       "      <th>0</th>\n",
       "      <td>0</td>\n",
       "      <td>Reparacion de CIA parche</td>\n",
       "      <td>CIA Reparacion parche</td>\n",
       "      <td>SRPRSNPRX</td>\n",
       "    </tr>\n",
       "    <tr>\n",
       "      <th>1</th>\n",
       "      <td>1</td>\n",
       "      <td>Reparacion CIA parche</td>\n",
       "      <td>CIA Reparacion parche</td>\n",
       "      <td>SRPRSNPRX</td>\n",
       "    </tr>\n",
       "    <tr>\n",
       "      <th>2</th>\n",
       "      <td>2</td>\n",
       "      <td>Reparacion CIA parche</td>\n",
       "      <td>CIA Reparacion parche</td>\n",
       "      <td>SRPRSNPRX</td>\n",
       "    </tr>\n",
       "    <tr>\n",
       "      <th>3</th>\n",
       "      <td>3</td>\n",
       "      <td>Reparacion CIA parche</td>\n",
       "      <td>CIA Reparacion parche</td>\n",
       "      <td>SRPRSNPRX</td>\n",
       "    </tr>\n",
       "    <tr>\n",
       "      <th>4</th>\n",
       "      <td>4</td>\n",
       "      <td>Reparacion CIA parche</td>\n",
       "      <td>CIA Reparacion parche</td>\n",
       "      <td>SRPRSNPRX</td>\n",
       "    </tr>\n",
       "  </tbody>\n",
       "</table>\n",
       "</div>"
      ],
      "text/plain": [
       "   patient_id                 procedure               keywords      token\n",
       "0           0  Reparacion de CIA parche  CIA Reparacion parche  SRPRSNPRX\n",
       "1           1     Reparacion CIA parche  CIA Reparacion parche  SRPRSNPRX\n",
       "2           2     Reparacion CIA parche  CIA Reparacion parche  SRPRSNPRX\n",
       "3           3     Reparacion CIA parche  CIA Reparacion parche  SRPRSNPRX\n",
       "4           4     Reparacion CIA parche  CIA Reparacion parche  SRPRSNPRX"
      ]
     },
     "execution_count": 7,
     "metadata": {},
     "output_type": "execute_result"
    }
   ],
   "source": [
    "spread_df['token'] = kardiasclean.clean_tokenize(spread_df['keywords'])\n",
    "print(kardiasclean.get_unique_stats(spread_df))\n",
    "spread_df.head()"
   ]
  },
  {
   "cell_type": "markdown",
   "metadata": {},
   "source": [
    "## Part 3: Get Unique List\n",
    "\n",
    "1. Get Unique Values from the spread dataframe\n",
    "2. Normalize the spread dataframe with the new unique list"
   ]
  },
  {
   "cell_type": "code",
   "execution_count": 8,
   "metadata": {},
   "outputs": [
    {
     "data": {
      "text/html": [
       "<div>\n",
       "<style scoped>\n",
       "    .dataframe tbody tr th:only-of-type {\n",
       "        vertical-align: middle;\n",
       "    }\n",
       "\n",
       "    .dataframe tbody tr th {\n",
       "        vertical-align: top;\n",
       "    }\n",
       "\n",
       "    .dataframe thead th {\n",
       "        text-align: right;\n",
       "    }\n",
       "</style>\n",
       "<table border=\"1\" class=\"dataframe\">\n",
       "  <thead>\n",
       "    <tr style=\"text-align: right;\">\n",
       "      <th></th>\n",
       "      <th>procedure</th>\n",
       "      <th>keywords</th>\n",
       "      <th>token</th>\n",
       "    </tr>\n",
       "  </thead>\n",
       "  <tbody>\n",
       "    <tr>\n",
       "      <th>0</th>\n",
       "      <td>Reparacion de CIA parche</td>\n",
       "      <td>CIA Reparacion parche</td>\n",
       "      <td>SRPRSNPRX</td>\n",
       "    </tr>\n",
       "    <tr>\n",
       "      <th>1</th>\n",
       "      <td>Reparacion de CIV parche</td>\n",
       "      <td>CIV Reparacion parche</td>\n",
       "      <td>SFRPRSNPRX</td>\n",
       "    </tr>\n",
       "    <tr>\n",
       "      <th>2</th>\n",
       "      <td>Reparacion de estenosis aortica subvalvular</td>\n",
       "      <td>Reparacion aortica estenosis subvalvular</td>\n",
       "      <td>RPRSNRTKSTNSSSPFLFLR</td>\n",
       "    </tr>\n",
       "    <tr>\n",
       "      <th>3</th>\n",
       "      <td>Cierre quirurgico de PCA</td>\n",
       "      <td>Cierre PCA quirurgico</td>\n",
       "      <td>SRPKKRRJK</td>\n",
       "    </tr>\n",
       "    <tr>\n",
       "      <th>4</th>\n",
       "      <td>Reparacion de CIV cierre primario</td>\n",
       "      <td>CIV Reparacion cierre primario</td>\n",
       "      <td>SFRPRSNSRPRMR</td>\n",
       "    </tr>\n",
       "  </tbody>\n",
       "</table>\n",
       "</div>"
      ],
      "text/plain": [
       "                                     procedure  \\\n",
       "0                     Reparacion de CIA parche   \n",
       "1                     Reparacion de CIV parche   \n",
       "2  Reparacion de estenosis aortica subvalvular   \n",
       "3                     Cierre quirurgico de PCA   \n",
       "4            Reparacion de CIV cierre primario   \n",
       "\n",
       "                                   keywords                 token  \n",
       "0                     CIA Reparacion parche             SRPRSNPRX  \n",
       "1                     CIV Reparacion parche            SFRPRSNPRX  \n",
       "2  Reparacion aortica estenosis subvalvular  RPRSNRTKSTNSSSPFLFLR  \n",
       "3                     Cierre PCA quirurgico             SRPKKRRJK  \n",
       "4            CIV Reparacion cierre primario         SFRPRSNSRPRMR  "
      ]
     },
     "execution_count": 8,
     "metadata": {},
     "output_type": "execute_result"
    }
   ],
   "source": [
    "list_df = kardiasclean.create_unique_list(spread_df, spread_df['token'])\n",
    "list_df = list_df.drop([\"patient_id\", \"index\"], axis=1)\n",
    "list_df.head()"
   ]
  },
  {
   "cell_type": "code",
   "execution_count": 9,
   "metadata": {},
   "outputs": [
    {
     "data": {
      "text/html": [
       "<div>\n",
       "<style scoped>\n",
       "    .dataframe tbody tr th:only-of-type {\n",
       "        vertical-align: middle;\n",
       "    }\n",
       "\n",
       "    .dataframe tbody tr th {\n",
       "        vertical-align: top;\n",
       "    }\n",
       "\n",
       "    .dataframe thead th {\n",
       "        text-align: right;\n",
       "    }\n",
       "</style>\n",
       "<table border=\"1\" class=\"dataframe\">\n",
       "  <thead>\n",
       "    <tr style=\"text-align: right;\">\n",
       "      <th></th>\n",
       "      <th>procedure</th>\n",
       "      <th>keywords</th>\n",
       "      <th>token</th>\n",
       "    </tr>\n",
       "    <tr>\n",
       "      <th>patient_id</th>\n",
       "      <th></th>\n",
       "      <th></th>\n",
       "      <th></th>\n",
       "    </tr>\n",
       "  </thead>\n",
       "  <tbody>\n",
       "    <tr>\n",
       "      <th>0</th>\n",
       "      <td>Reparacion de CIA parche</td>\n",
       "      <td>CIA Reparacion parche</td>\n",
       "      <td>SRPRSNPRX</td>\n",
       "    </tr>\n",
       "    <tr>\n",
       "      <th>1</th>\n",
       "      <td>Reparacion de CIA parche</td>\n",
       "      <td>CIA Reparacion parche</td>\n",
       "      <td>SRPRSNPRX</td>\n",
       "    </tr>\n",
       "    <tr>\n",
       "      <th>2</th>\n",
       "      <td>Reparacion de CIA parche</td>\n",
       "      <td>CIA Reparacion parche</td>\n",
       "      <td>SRPRSNPRX</td>\n",
       "    </tr>\n",
       "    <tr>\n",
       "      <th>3</th>\n",
       "      <td>Reparacion de CIA parche</td>\n",
       "      <td>CIA Reparacion parche</td>\n",
       "      <td>SRPRSNPRX</td>\n",
       "    </tr>\n",
       "    <tr>\n",
       "      <th>4</th>\n",
       "      <td>Reparacion de CIA parche</td>\n",
       "      <td>CIA Reparacion parche</td>\n",
       "      <td>SRPRSNPRX</td>\n",
       "    </tr>\n",
       "  </tbody>\n",
       "</table>\n",
       "</div>"
      ],
      "text/plain": [
       "                           procedure               keywords      token\n",
       "patient_id                                                            \n",
       "0           Reparacion de CIA parche  CIA Reparacion parche  SRPRSNPRX\n",
       "1           Reparacion de CIA parche  CIA Reparacion parche  SRPRSNPRX\n",
       "2           Reparacion de CIA parche  CIA Reparacion parche  SRPRSNPRX\n",
       "3           Reparacion de CIA parche  CIA Reparacion parche  SRPRSNPRX\n",
       "4           Reparacion de CIA parche  CIA Reparacion parche  SRPRSNPRX"
      ]
     },
     "execution_count": 9,
     "metadata": {},
     "output_type": "execute_result"
    }
   ],
   "source": [
    "spread_df['procedure'] = kardiasclean.normalize_from_tokens(spread_df['token'], list_df['token'], list_df['procedure'])\n",
    "spread_df = spread_df.set_index(\"patient_id\")\n",
    "spread_df.head()"
   ]
  },
  {
   "cell_type": "markdown",
   "metadata": {},
   "source": [
    "## Part 4: Store in SQL\n",
    "\n",
    "1. NOTE: Create a database in Postgres first!\n",
    "2. Rename columns if necessary.\n",
    "3. Use pandas and replace, NO NEED FOR SCHEMA (CREATE TABLE ...)."
   ]
  },
  {
   "cell_type": "code",
   "execution_count": 10,
   "metadata": {},
   "outputs": [],
   "source": [
    "password = getpass('Enter database password')\n",
    "host = \"kardias-test.cvj7xeynbmtt.us-east-1.rds.amazonaws.com\"\n",
    "pgm = kardiasclean.PostgresManager(\"kardias\", password, host)"
   ]
  },
  {
   "cell_type": "code",
   "execution_count": 13,
   "metadata": {},
   "outputs": [
    {
     "data": {
      "text/plain": [
       "patient_id        1003\n",
       "gender            1003\n",
       "state             1003\n",
       "municipality      1003\n",
       "altitude          1003\n",
       "age               1003\n",
       "weight_kg         1003\n",
       "height_cm         1003\n",
       "appearance        1003\n",
       "cx_previous       1003\n",
       "date_birth        1003\n",
       "date_procedure    1003\n",
       "rachs             1003\n",
       "stay_days         1003\n",
       "expired           1003\n",
       "dtype: int64"
      ]
     },
     "execution_count": 13,
     "metadata": {},
     "output_type": "execute_result"
    }
   ],
   "source": [
    "# STORE MAIN DATA\n",
    "df = df.drop(columns=[\"procedure\", \"diagnosis_main\", \"diagnosis_general\"])\n",
    "pgm.create_table(\"patients\", df).count()"
   ]
  },
  {
   "cell_type": "code",
   "execution_count": null,
   "metadata": {},
   "outputs": [
    {
     "data": {
      "text/plain": [
       "token        603\n",
       "procedure    603\n",
       "keywords     603\n",
       "dtype: int64"
      ]
     },
     "execution_count": 36,
     "metadata": {},
     "output_type": "execute_result"
    }
   ],
   "source": [
    "# STORE LIST DATA\n",
    "list_df = list_df.set_index(\"token\")\n",
    "pgm.create_table(\"surgical_procedures\", list_df).count()"
   ]
  },
  {
   "cell_type": "code",
   "execution_count": null,
   "metadata": {},
   "outputs": [
    {
     "data": {
      "text/plain": [
       "patient_id    1663\n",
       "token         1663\n",
       "dtype: int64"
      ]
     },
     "execution_count": 37,
     "metadata": {},
     "output_type": "execute_result"
    }
   ],
   "source": [
    "# STORE SPREAD DATA\n",
    "spread_df = spread_df.drop(columns=[\"procedure\", \"keywords\"])\n",
    "pgm.create_table(\"surgical_procedures_map\", spread_df).count()"
   ]
  },
  {
   "cell_type": "markdown",
   "metadata": {},
   "source": [
    "## DONE!"
   ]
  }
 ],
 "metadata": {
  "kernelspec": {
   "display_name": "Python 3.7.13 64-bit ('3.7.13')",
   "language": "python",
   "name": "python3"
  },
  "language_info": {
   "codemirror_mode": {
    "name": "ipython",
    "version": 3
   },
   "file_extension": ".py",
   "mimetype": "text/x-python",
   "name": "python",
   "nbconvert_exporter": "python",
   "pygments_lexer": "ipython3",
   "version": "3.7.13 (default, Jul 13 2022, 20:41:07) \n[Clang 12.0.0 (clang-1200.0.32.29)]"
  },
  "orig_nbformat": 4,
  "vscode": {
   "interpreter": {
    "hash": "23fb88e34c1ec3c1e958019bb84aff6dc366f349f9c11c1fa2216e8b6fa6a029"
   }
  }
 },
 "nbformat": 4,
 "nbformat_minor": 2
}
