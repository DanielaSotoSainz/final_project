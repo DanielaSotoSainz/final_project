{
 "cells": [
  {
   "cell_type": "markdown",
   "metadata": {},
   "source": [
    "# ETL Medical Records\n",
    "\n",
    "Tokenize medical records.\n",
    "\n",
    "Template Notebook using kardiasclean."
   ]
  },
  {
   "cell_type": "markdown",
   "metadata": {},
   "source": [
    "## Part 1: Split data\n",
    "\n",
    "1. Load data\n",
    "2. Split long strings into list of strings\n",
    "3. Spread list of strings into multiple rows with repeated ids (new df)"
   ]
  },
  {
   "cell_type": "code",
   "execution_count": 1,
   "metadata": {},
   "outputs": [
    {
     "data": {
      "text/html": [
       "<div>\n",
       "<style scoped>\n",
       "    .dataframe tbody tr th:only-of-type {\n",
       "        vertical-align: middle;\n",
       "    }\n",
       "\n",
       "    .dataframe tbody tr th {\n",
       "        vertical-align: top;\n",
       "    }\n",
       "\n",
       "    .dataframe thead th {\n",
       "        text-align: right;\n",
       "    }\n",
       "</style>\n",
       "<table border=\"1\" class=\"dataframe\">\n",
       "  <thead>\n",
       "    <tr style=\"text-align: right;\">\n",
       "      <th></th>\n",
       "      <th>gender</th>\n",
       "      <th>state</th>\n",
       "      <th>municipality</th>\n",
       "      <th>altitude</th>\n",
       "      <th>age</th>\n",
       "      <th>weight_kg</th>\n",
       "      <th>height_cm</th>\n",
       "      <th>appearance</th>\n",
       "      <th>diagnosis_general</th>\n",
       "      <th>cx_previous</th>\n",
       "      <th>diagnosis_main</th>\n",
       "      <th>date_birth</th>\n",
       "      <th>date_procedure</th>\n",
       "      <th>procedure</th>\n",
       "      <th>rachs</th>\n",
       "      <th>stay_days</th>\n",
       "      <th>expired</th>\n",
       "    </tr>\n",
       "    <tr>\n",
       "      <th>patient_id</th>\n",
       "      <th></th>\n",
       "      <th></th>\n",
       "      <th></th>\n",
       "      <th></th>\n",
       "      <th></th>\n",
       "      <th></th>\n",
       "      <th></th>\n",
       "      <th></th>\n",
       "      <th></th>\n",
       "      <th></th>\n",
       "      <th></th>\n",
       "      <th></th>\n",
       "      <th></th>\n",
       "      <th></th>\n",
       "      <th></th>\n",
       "      <th></th>\n",
       "      <th></th>\n",
       "    </tr>\n",
       "  </thead>\n",
       "  <tbody>\n",
       "    <tr>\n",
       "      <th>0</th>\n",
       "      <td>0</td>\n",
       "      <td>Estado de México</td>\n",
       "      <td>Huixquilucan</td>\n",
       "      <td>2726</td>\n",
       "      <td>3942</td>\n",
       "      <td>35.0</td>\n",
       "      <td>134.0</td>\n",
       "      <td>Normal</td>\n",
       "      <td>Ninguno</td>\n",
       "      <td>0</td>\n",
       "      <td>Comunicación interauricular, secundum</td>\n",
       "      <td>2001-08-22</td>\n",
       "      <td>2012-04-08</td>\n",
       "      <td>Reparación de CIA, parche</td>\n",
       "      <td>1.0</td>\n",
       "      <td>2.0</td>\n",
       "      <td>0</td>\n",
       "    </tr>\n",
       "    <tr>\n",
       "      <th>1</th>\n",
       "      <td>1</td>\n",
       "      <td>Estado de México</td>\n",
       "      <td>Timilpan</td>\n",
       "      <td>2741</td>\n",
       "      <td>3202</td>\n",
       "      <td>18.0</td>\n",
       "      <td>117.0</td>\n",
       "      <td>Desnutrido</td>\n",
       "      <td>Ninguno</td>\n",
       "      <td>0</td>\n",
       "      <td>Comunicación interauricular, secundum</td>\n",
       "      <td>2003-09-19</td>\n",
       "      <td>2012-11-08</td>\n",
       "      <td>Reparación CIA, parche</td>\n",
       "      <td>1.0</td>\n",
       "      <td>2.0</td>\n",
       "      <td>0</td>\n",
       "    </tr>\n",
       "    <tr>\n",
       "      <th>2</th>\n",
       "      <td>0</td>\n",
       "      <td>Ciudad de México</td>\n",
       "      <td>Coyoacán</td>\n",
       "      <td>2240</td>\n",
       "      <td>3147</td>\n",
       "      <td>22.0</td>\n",
       "      <td>120.0</td>\n",
       "      <td>Normal</td>\n",
       "      <td>Ninguno</td>\n",
       "      <td>0</td>\n",
       "      <td>Comunicación interauricular, secundum</td>\n",
       "      <td>2003-11-21</td>\n",
       "      <td>2012-08-18</td>\n",
       "      <td>Reparación CIA, parche</td>\n",
       "      <td>1.0</td>\n",
       "      <td>2.0</td>\n",
       "      <td>0</td>\n",
       "    </tr>\n",
       "    <tr>\n",
       "      <th>3</th>\n",
       "      <td>0</td>\n",
       "      <td>Estado de México</td>\n",
       "      <td>Nezahualcoyotl</td>\n",
       "      <td>2220</td>\n",
       "      <td>4005</td>\n",
       "      <td>42.0</td>\n",
       "      <td>147.0</td>\n",
       "      <td>Normal</td>\n",
       "      <td>Ninguno</td>\n",
       "      <td>0</td>\n",
       "      <td>Comunicación interauricular, secundum</td>\n",
       "      <td>2001-10-07</td>\n",
       "      <td>2012-08-25</td>\n",
       "      <td>Reparación CIA, parche</td>\n",
       "      <td>1.0</td>\n",
       "      <td>2.0</td>\n",
       "      <td>0</td>\n",
       "    </tr>\n",
       "    <tr>\n",
       "      <th>4</th>\n",
       "      <td>0</td>\n",
       "      <td>Ciudad de México</td>\n",
       "      <td>Alvaro Obregón</td>\n",
       "      <td>2373</td>\n",
       "      <td>5289</td>\n",
       "      <td>40.0</td>\n",
       "      <td>157.0</td>\n",
       "      <td>Normal</td>\n",
       "      <td>Ninguno</td>\n",
       "      <td>0</td>\n",
       "      <td>Comunicación Interauricular, Secundum</td>\n",
       "      <td>1997-12-22</td>\n",
       "      <td>2012-01-09</td>\n",
       "      <td>Reparación CIA, parche</td>\n",
       "      <td>1.0</td>\n",
       "      <td>3.0</td>\n",
       "      <td>0</td>\n",
       "    </tr>\n",
       "  </tbody>\n",
       "</table>\n",
       "</div>"
      ],
      "text/plain": [
       "            gender             state    municipality  altitude   age  \\\n",
       "patient_id                                                             \n",
       "0                0  Estado de México    Huixquilucan      2726  3942   \n",
       "1                1  Estado de México        Timilpan      2741  3202   \n",
       "2                0  Ciudad de México        Coyoacán      2240  3147   \n",
       "3                0  Estado de México  Nezahualcoyotl      2220  4005   \n",
       "4                0  Ciudad de México  Alvaro Obregón      2373  5289   \n",
       "\n",
       "            weight_kg  height_cm  appearance diagnosis_general  cx_previous  \\\n",
       "patient_id                                                                    \n",
       "0                35.0      134.0      Normal           Ninguno            0   \n",
       "1                18.0      117.0  Desnutrido           Ninguno            0   \n",
       "2                22.0      120.0      Normal           Ninguno            0   \n",
       "3                42.0      147.0      Normal           Ninguno            0   \n",
       "4                40.0      157.0      Normal           Ninguno            0   \n",
       "\n",
       "                                   diagnosis_main  date_birth date_procedure  \\\n",
       "patient_id                                                                     \n",
       "0           Comunicación interauricular, secundum  2001-08-22     2012-04-08   \n",
       "1           Comunicación interauricular, secundum  2003-09-19     2012-11-08   \n",
       "2           Comunicación interauricular, secundum  2003-11-21     2012-08-18   \n",
       "3           Comunicación interauricular, secundum  2001-10-07     2012-08-25   \n",
       "4           Comunicación Interauricular, Secundum  1997-12-22     2012-01-09   \n",
       "\n",
       "                            procedure  rachs  stay_days  expired  \n",
       "patient_id                                                        \n",
       "0           Reparación de CIA, parche    1.0        2.0        0  \n",
       "1              Reparación CIA, parche    1.0        2.0        0  \n",
       "2              Reparación CIA, parche    1.0        2.0        0  \n",
       "3              Reparación CIA, parche    1.0        2.0        0  \n",
       "4              Reparación CIA, parche    1.0        3.0        0  "
      ]
     },
     "execution_count": 1,
     "metadata": {},
     "output_type": "execute_result"
    }
   ],
   "source": [
    "import pandas as pd\n",
    "from pathlib import Path\n",
    "from getpass import getpass\n",
    "\n",
    "import kardiasclean\n",
    "\n",
    "df = pd.read_csv(Path(\"../database/data_clean1.csv\")).set_index(\"patient_id\")\n",
    "df.head()"
   ]
  },
  {
   "cell_type": "code",
   "execution_count": 2,
   "metadata": {},
   "outputs": [
    {
     "data": {
      "text/plain": [
       "patient_id\n",
       "0                 [Comunicación interauricular, secundum]\n",
       "1                 [Comunicación interauricular, secundum]\n",
       "2                 [Comunicación interauricular, secundum]\n",
       "3                 [Comunicación interauricular, secundum]\n",
       "4                 [Comunicación Interauricular, Secundum]\n",
       "                              ...                        \n",
       "1032    [Transposición de grandes vasos, Dextrocardia,...\n",
       "1033    [Comunicación interauricular tipo ostium secun...\n",
       "1034    [Tetralogía de Fallot con síndrome de agenesia...\n",
       "1035    [Ventrículo izquierdo borderline, Estenosis su...\n",
       "1037    [Tetralogía de Fallot. (TOF) -Síndrome de válv...\n",
       "Name: diagnosis_main, Length: 1003, dtype: object"
      ]
     },
     "execution_count": 2,
     "metadata": {},
     "output_type": "execute_result"
    }
   ],
   "source": [
    "df['diagnosis_main'] = kardiasclean.split_string(df['diagnosis_main'])\n",
    "df['diagnosis_main']"
   ]
  },
  {
   "cell_type": "code",
   "execution_count": 3,
   "metadata": {},
   "outputs": [
    {
     "name": "stdout",
     "output_type": "stream",
     "text": [
      "                   patient_id  diagnosis_main\n",
      "unique_count      1003.000000     1006.000000\n",
      "percent_of_total     0.501751        0.503252\n",
      "avg_per_record       1.993021        1.987078\n"
     ]
    },
    {
     "data": {
      "text/html": [
       "<div>\n",
       "<style scoped>\n",
       "    .dataframe tbody tr th:only-of-type {\n",
       "        vertical-align: middle;\n",
       "    }\n",
       "\n",
       "    .dataframe tbody tr th {\n",
       "        vertical-align: top;\n",
       "    }\n",
       "\n",
       "    .dataframe thead th {\n",
       "        text-align: right;\n",
       "    }\n",
       "</style>\n",
       "<table border=\"1\" class=\"dataframe\">\n",
       "  <thead>\n",
       "    <tr style=\"text-align: right;\">\n",
       "      <th></th>\n",
       "      <th>patient_id</th>\n",
       "      <th>diagnosis_main</th>\n",
       "    </tr>\n",
       "  </thead>\n",
       "  <tbody>\n",
       "    <tr>\n",
       "      <th>0</th>\n",
       "      <td>0</td>\n",
       "      <td>Comunicación interauricular, secundum</td>\n",
       "    </tr>\n",
       "    <tr>\n",
       "      <th>1</th>\n",
       "      <td>1</td>\n",
       "      <td>Comunicación interauricular, secundum</td>\n",
       "    </tr>\n",
       "    <tr>\n",
       "      <th>2</th>\n",
       "      <td>2</td>\n",
       "      <td>Comunicación interauricular, secundum</td>\n",
       "    </tr>\n",
       "    <tr>\n",
       "      <th>3</th>\n",
       "      <td>3</td>\n",
       "      <td>Comunicación interauricular, secundum</td>\n",
       "    </tr>\n",
       "    <tr>\n",
       "      <th>4</th>\n",
       "      <td>4</td>\n",
       "      <td>Comunicación Interauricular, Secundum</td>\n",
       "    </tr>\n",
       "  </tbody>\n",
       "</table>\n",
       "</div>"
      ],
      "text/plain": [
       "   patient_id                         diagnosis_main\n",
       "0           0  Comunicación interauricular, secundum\n",
       "1           1  Comunicación interauricular, secundum\n",
       "2           2  Comunicación interauricular, secundum\n",
       "3           3  Comunicación interauricular, secundum\n",
       "4           4  Comunicación Interauricular, Secundum"
      ]
     },
     "execution_count": 3,
     "metadata": {},
     "output_type": "execute_result"
    }
   ],
   "source": [
    "spread_df = kardiasclean.spread_column(df['diagnosis_main'])\n",
    "print(kardiasclean.get_unique_stats(spread_df))\n",
    "spread_df.head()"
   ]
  },
  {
   "cell_type": "markdown",
   "metadata": {},
   "source": [
    "## Part 2: Clean and Tokenize Strings\n",
    "\n",
    "1. Remove accents\n",
    "2. Remove Symbols with regex\n",
    "3. Remove stopwords\n",
    "4. Tokenize with soundex"
   ]
  },
  {
   "cell_type": "code",
   "execution_count": 4,
   "metadata": {},
   "outputs": [
    {
     "name": "stdout",
     "output_type": "stream",
     "text": [
      "                   patient_id  diagnosis_main\n",
      "unique_count      1003.000000      984.000000\n",
      "percent_of_total     0.501751        0.492246\n",
      "avg_per_record       1.993021        2.031504\n"
     ]
    },
    {
     "data": {
      "text/html": [
       "<div>\n",
       "<style scoped>\n",
       "    .dataframe tbody tr th:only-of-type {\n",
       "        vertical-align: middle;\n",
       "    }\n",
       "\n",
       "    .dataframe tbody tr th {\n",
       "        vertical-align: top;\n",
       "    }\n",
       "\n",
       "    .dataframe thead th {\n",
       "        text-align: right;\n",
       "    }\n",
       "</style>\n",
       "<table border=\"1\" class=\"dataframe\">\n",
       "  <thead>\n",
       "    <tr style=\"text-align: right;\">\n",
       "      <th></th>\n",
       "      <th>patient_id</th>\n",
       "      <th>diagnosis_main</th>\n",
       "    </tr>\n",
       "  </thead>\n",
       "  <tbody>\n",
       "    <tr>\n",
       "      <th>0</th>\n",
       "      <td>0</td>\n",
       "      <td>Comunicacion interauricular, secundum</td>\n",
       "    </tr>\n",
       "    <tr>\n",
       "      <th>1</th>\n",
       "      <td>1</td>\n",
       "      <td>Comunicacion interauricular, secundum</td>\n",
       "    </tr>\n",
       "    <tr>\n",
       "      <th>2</th>\n",
       "      <td>2</td>\n",
       "      <td>Comunicacion interauricular, secundum</td>\n",
       "    </tr>\n",
       "    <tr>\n",
       "      <th>3</th>\n",
       "      <td>3</td>\n",
       "      <td>Comunicacion interauricular, secundum</td>\n",
       "    </tr>\n",
       "    <tr>\n",
       "      <th>4</th>\n",
       "      <td>4</td>\n",
       "      <td>Comunicacion Interauricular, Secundum</td>\n",
       "    </tr>\n",
       "  </tbody>\n",
       "</table>\n",
       "</div>"
      ],
      "text/plain": [
       "   patient_id                         diagnosis_main\n",
       "0           0  Comunicacion interauricular, secundum\n",
       "1           1  Comunicacion interauricular, secundum\n",
       "2           2  Comunicacion interauricular, secundum\n",
       "3           3  Comunicacion interauricular, secundum\n",
       "4           4  Comunicacion Interauricular, Secundum"
      ]
     },
     "execution_count": 4,
     "metadata": {},
     "output_type": "execute_result"
    }
   ],
   "source": [
    "spread_df['diagnosis_main'] = kardiasclean.clean_accents(spread_df['diagnosis_main'])\n",
    "print(kardiasclean.get_unique_stats(spread_df))\n",
    "spread_df.head()"
   ]
  },
  {
   "cell_type": "code",
   "execution_count": 5,
   "metadata": {},
   "outputs": [
    {
     "name": "stdout",
     "output_type": "stream",
     "text": [
      "                   patient_id  diagnosis_main\n",
      "unique_count      1003.000000      956.000000\n",
      "percent_of_total     0.501751        0.478239\n",
      "avg_per_record       1.993021        2.091004\n"
     ]
    },
    {
     "data": {
      "text/html": [
       "<div>\n",
       "<style scoped>\n",
       "    .dataframe tbody tr th:only-of-type {\n",
       "        vertical-align: middle;\n",
       "    }\n",
       "\n",
       "    .dataframe tbody tr th {\n",
       "        vertical-align: top;\n",
       "    }\n",
       "\n",
       "    .dataframe thead th {\n",
       "        text-align: right;\n",
       "    }\n",
       "</style>\n",
       "<table border=\"1\" class=\"dataframe\">\n",
       "  <thead>\n",
       "    <tr style=\"text-align: right;\">\n",
       "      <th></th>\n",
       "      <th>patient_id</th>\n",
       "      <th>diagnosis_main</th>\n",
       "    </tr>\n",
       "  </thead>\n",
       "  <tbody>\n",
       "    <tr>\n",
       "      <th>0</th>\n",
       "      <td>0</td>\n",
       "      <td>Comunicacion interauricular secundum</td>\n",
       "    </tr>\n",
       "    <tr>\n",
       "      <th>1</th>\n",
       "      <td>1</td>\n",
       "      <td>Comunicacion interauricular secundum</td>\n",
       "    </tr>\n",
       "    <tr>\n",
       "      <th>2</th>\n",
       "      <td>2</td>\n",
       "      <td>Comunicacion interauricular secundum</td>\n",
       "    </tr>\n",
       "    <tr>\n",
       "      <th>3</th>\n",
       "      <td>3</td>\n",
       "      <td>Comunicacion interauricular secundum</td>\n",
       "    </tr>\n",
       "    <tr>\n",
       "      <th>4</th>\n",
       "      <td>4</td>\n",
       "      <td>Comunicacion Interauricular Secundum</td>\n",
       "    </tr>\n",
       "  </tbody>\n",
       "</table>\n",
       "</div>"
      ],
      "text/plain": [
       "   patient_id                        diagnosis_main\n",
       "0           0  Comunicacion interauricular secundum\n",
       "1           1  Comunicacion interauricular secundum\n",
       "2           2  Comunicacion interauricular secundum\n",
       "3           3  Comunicacion interauricular secundum\n",
       "4           4  Comunicacion Interauricular Secundum"
      ]
     },
     "execution_count": 5,
     "metadata": {},
     "output_type": "execute_result"
    }
   ],
   "source": [
    "spread_df['diagnosis_main'] = kardiasclean.clean_symbols(spread_df['diagnosis_main'])\n",
    "print(kardiasclean.get_unique_stats(spread_df))\n",
    "spread_df.head()"
   ]
  },
  {
   "cell_type": "code",
   "execution_count": 6,
   "metadata": {},
   "outputs": [
    {
     "name": "stdout",
     "output_type": "stream",
     "text": [
      "                   patient_id  diagnosis_main    keywords\n",
      "unique_count      1003.000000      956.000000  924.000000\n",
      "percent_of_total     0.501751        0.478239    0.462231\n",
      "avg_per_record       1.993021        2.091004    2.163420\n"
     ]
    },
    {
     "data": {
      "text/html": [
       "<div>\n",
       "<style scoped>\n",
       "    .dataframe tbody tr th:only-of-type {\n",
       "        vertical-align: middle;\n",
       "    }\n",
       "\n",
       "    .dataframe tbody tr th {\n",
       "        vertical-align: top;\n",
       "    }\n",
       "\n",
       "    .dataframe thead th {\n",
       "        text-align: right;\n",
       "    }\n",
       "</style>\n",
       "<table border=\"1\" class=\"dataframe\">\n",
       "  <thead>\n",
       "    <tr style=\"text-align: right;\">\n",
       "      <th></th>\n",
       "      <th>patient_id</th>\n",
       "      <th>diagnosis_main</th>\n",
       "      <th>keywords</th>\n",
       "    </tr>\n",
       "  </thead>\n",
       "  <tbody>\n",
       "    <tr>\n",
       "      <th>0</th>\n",
       "      <td>0</td>\n",
       "      <td>Comunicacion interauricular secundum</td>\n",
       "      <td>Comunicacion interauricular secundum</td>\n",
       "    </tr>\n",
       "    <tr>\n",
       "      <th>1</th>\n",
       "      <td>1</td>\n",
       "      <td>Comunicacion interauricular secundum</td>\n",
       "      <td>Comunicacion interauricular secundum</td>\n",
       "    </tr>\n",
       "    <tr>\n",
       "      <th>2</th>\n",
       "      <td>2</td>\n",
       "      <td>Comunicacion interauricular secundum</td>\n",
       "      <td>Comunicacion interauricular secundum</td>\n",
       "    </tr>\n",
       "    <tr>\n",
       "      <th>3</th>\n",
       "      <td>3</td>\n",
       "      <td>Comunicacion interauricular secundum</td>\n",
       "      <td>Comunicacion interauricular secundum</td>\n",
       "    </tr>\n",
       "    <tr>\n",
       "      <th>4</th>\n",
       "      <td>4</td>\n",
       "      <td>Comunicacion Interauricular Secundum</td>\n",
       "      <td>Comunicacion Interauricular Secundum</td>\n",
       "    </tr>\n",
       "  </tbody>\n",
       "</table>\n",
       "</div>"
      ],
      "text/plain": [
       "   patient_id                        diagnosis_main  \\\n",
       "0           0  Comunicacion interauricular secundum   \n",
       "1           1  Comunicacion interauricular secundum   \n",
       "2           2  Comunicacion interauricular secundum   \n",
       "3           3  Comunicacion interauricular secundum   \n",
       "4           4  Comunicacion Interauricular Secundum   \n",
       "\n",
       "                               keywords  \n",
       "0  Comunicacion interauricular secundum  \n",
       "1  Comunicacion interauricular secundum  \n",
       "2  Comunicacion interauricular secundum  \n",
       "3  Comunicacion interauricular secundum  \n",
       "4  Comunicacion Interauricular Secundum  "
      ]
     },
     "execution_count": 6,
     "metadata": {},
     "output_type": "execute_result"
    }
   ],
   "source": [
    "spread_df['keywords'] = kardiasclean.clean_stopwords(spread_df['diagnosis_main'])\n",
    "print(kardiasclean.get_unique_stats(spread_df))\n",
    "spread_df.head()"
   ]
  },
  {
   "cell_type": "code",
   "execution_count": 7,
   "metadata": {},
   "outputs": [
    {
     "name": "stdout",
     "output_type": "stream",
     "text": [
      "                   patient_id  diagnosis_main    keywords       token\n",
      "unique_count      1003.000000      956.000000  924.000000  867.000000\n",
      "percent_of_total     0.501751        0.478239    0.462231    0.433717\n",
      "avg_per_record       1.993021        2.091004    2.163420    2.305652\n"
     ]
    },
    {
     "data": {
      "text/html": [
       "<div>\n",
       "<style scoped>\n",
       "    .dataframe tbody tr th:only-of-type {\n",
       "        vertical-align: middle;\n",
       "    }\n",
       "\n",
       "    .dataframe tbody tr th {\n",
       "        vertical-align: top;\n",
       "    }\n",
       "\n",
       "    .dataframe thead th {\n",
       "        text-align: right;\n",
       "    }\n",
       "</style>\n",
       "<table border=\"1\" class=\"dataframe\">\n",
       "  <thead>\n",
       "    <tr style=\"text-align: right;\">\n",
       "      <th></th>\n",
       "      <th>patient_id</th>\n",
       "      <th>diagnosis_main</th>\n",
       "      <th>keywords</th>\n",
       "      <th>token</th>\n",
       "    </tr>\n",
       "  </thead>\n",
       "  <tbody>\n",
       "    <tr>\n",
       "      <th>0</th>\n",
       "      <td>0</td>\n",
       "      <td>Comunicacion interauricular secundum</td>\n",
       "      <td>Comunicacion interauricular secundum</td>\n",
       "      <td>KMNKSNNTRRKLRSKNTM</td>\n",
       "    </tr>\n",
       "    <tr>\n",
       "      <th>1</th>\n",
       "      <td>1</td>\n",
       "      <td>Comunicacion interauricular secundum</td>\n",
       "      <td>Comunicacion interauricular secundum</td>\n",
       "      <td>KMNKSNNTRRKLRSKNTM</td>\n",
       "    </tr>\n",
       "    <tr>\n",
       "      <th>2</th>\n",
       "      <td>2</td>\n",
       "      <td>Comunicacion interauricular secundum</td>\n",
       "      <td>Comunicacion interauricular secundum</td>\n",
       "      <td>KMNKSNNTRRKLRSKNTM</td>\n",
       "    </tr>\n",
       "    <tr>\n",
       "      <th>3</th>\n",
       "      <td>3</td>\n",
       "      <td>Comunicacion interauricular secundum</td>\n",
       "      <td>Comunicacion interauricular secundum</td>\n",
       "      <td>KMNKSNNTRRKLRSKNTM</td>\n",
       "    </tr>\n",
       "    <tr>\n",
       "      <th>4</th>\n",
       "      <td>4</td>\n",
       "      <td>Comunicacion Interauricular Secundum</td>\n",
       "      <td>Comunicacion Interauricular Secundum</td>\n",
       "      <td>KMNKSNNTRRKLRSKNTM</td>\n",
       "    </tr>\n",
       "  </tbody>\n",
       "</table>\n",
       "</div>"
      ],
      "text/plain": [
       "   patient_id                        diagnosis_main  \\\n",
       "0           0  Comunicacion interauricular secundum   \n",
       "1           1  Comunicacion interauricular secundum   \n",
       "2           2  Comunicacion interauricular secundum   \n",
       "3           3  Comunicacion interauricular secundum   \n",
       "4           4  Comunicacion Interauricular Secundum   \n",
       "\n",
       "                               keywords               token  \n",
       "0  Comunicacion interauricular secundum  KMNKSNNTRRKLRSKNTM  \n",
       "1  Comunicacion interauricular secundum  KMNKSNNTRRKLRSKNTM  \n",
       "2  Comunicacion interauricular secundum  KMNKSNNTRRKLRSKNTM  \n",
       "3  Comunicacion interauricular secundum  KMNKSNNTRRKLRSKNTM  \n",
       "4  Comunicacion Interauricular Secundum  KMNKSNNTRRKLRSKNTM  "
      ]
     },
     "execution_count": 7,
     "metadata": {},
     "output_type": "execute_result"
    }
   ],
   "source": [
    "spread_df['token'] = kardiasclean.clean_tokenize(spread_df['keywords'])\n",
    "print(kardiasclean.get_unique_stats(spread_df))\n",
    "spread_df.head()"
   ]
  },
  {
   "cell_type": "markdown",
   "metadata": {},
   "source": [
    "## Part 3: Get Unique List\n",
    "\n",
    "1. Get Unique Values from the spread dataframe\n",
    "2. Normalize the spread dataframe with the new unique list"
   ]
  },
  {
   "cell_type": "code",
   "execution_count": 8,
   "metadata": {},
   "outputs": [
    {
     "data": {
      "text/html": [
       "<div>\n",
       "<style scoped>\n",
       "    .dataframe tbody tr th:only-of-type {\n",
       "        vertical-align: middle;\n",
       "    }\n",
       "\n",
       "    .dataframe tbody tr th {\n",
       "        vertical-align: top;\n",
       "    }\n",
       "\n",
       "    .dataframe thead th {\n",
       "        text-align: right;\n",
       "    }\n",
       "</style>\n",
       "<table border=\"1\" class=\"dataframe\">\n",
       "  <thead>\n",
       "    <tr style=\"text-align: right;\">\n",
       "      <th></th>\n",
       "      <th>diagnosis_main</th>\n",
       "      <th>keywords</th>\n",
       "      <th>token</th>\n",
       "    </tr>\n",
       "  </thead>\n",
       "  <tbody>\n",
       "    <tr>\n",
       "      <th>0</th>\n",
       "      <td>Comunicacion interauricular secundum</td>\n",
       "      <td>Comunicacion interauricular secundum</td>\n",
       "      <td>KMNKSNNTRRKLRSKNTM</td>\n",
       "    </tr>\n",
       "    <tr>\n",
       "      <th>1</th>\n",
       "      <td>Comunicacion interventricular Tipo 2 perimembr...</td>\n",
       "      <td>2 Comunicacion Tipo interventricular perimembr...</td>\n",
       "      <td>KMNKSNTPNTRFNTRKLRPRMMPRNS</td>\n",
       "    </tr>\n",
       "    <tr>\n",
       "      <th>2</th>\n",
       "      <td>Estenosis aortica subvalvular</td>\n",
       "      <td>Estenosis aortica subvalvular</td>\n",
       "      <td>ASTNSSRTKSPFLFLR</td>\n",
       "    </tr>\n",
       "    <tr>\n",
       "      <th>3</th>\n",
       "      <td>Comunicacion interventricular Tipo 1 infundibular</td>\n",
       "      <td>1 Comunicacion Tipo infundibular interventricular</td>\n",
       "      <td>KMNKSNTPNFNTPLRNTRFNTRKLR</td>\n",
       "    </tr>\n",
       "    <tr>\n",
       "      <th>4</th>\n",
       "      <td>Comunicacion interauricular Secundum</td>\n",
       "      <td>Comunicacion Secundum interauricular</td>\n",
       "      <td>KMNKSNSKNTMNTRRKLR</td>\n",
       "    </tr>\n",
       "  </tbody>\n",
       "</table>\n",
       "</div>"
      ],
      "text/plain": [
       "                                      diagnosis_main  \\\n",
       "0               Comunicacion interauricular secundum   \n",
       "1  Comunicacion interventricular Tipo 2 perimembr...   \n",
       "2                      Estenosis aortica subvalvular   \n",
       "3  Comunicacion interventricular Tipo 1 infundibular   \n",
       "4               Comunicacion interauricular Secundum   \n",
       "\n",
       "                                            keywords  \\\n",
       "0               Comunicacion interauricular secundum   \n",
       "1  2 Comunicacion Tipo interventricular perimembr...   \n",
       "2                      Estenosis aortica subvalvular   \n",
       "3  1 Comunicacion Tipo infundibular interventricular   \n",
       "4               Comunicacion Secundum interauricular   \n",
       "\n",
       "                        token  \n",
       "0          KMNKSNNTRRKLRSKNTM  \n",
       "1  KMNKSNTPNTRFNTRKLRPRMMPRNS  \n",
       "2            ASTNSSRTKSPFLFLR  \n",
       "3   KMNKSNTPNFNTPLRNTRFNTRKLR  \n",
       "4          KMNKSNSKNTMNTRRKLR  "
      ]
     },
     "execution_count": 8,
     "metadata": {},
     "output_type": "execute_result"
    }
   ],
   "source": [
    "list_df = kardiasclean.create_unique_list(spread_df, spread_df['token'])\n",
    "list_df = list_df.drop([\"patient_id\", \"index\"], axis=1)\n",
    "list_df.head()"
   ]
  },
  {
   "cell_type": "code",
   "execution_count": 9,
   "metadata": {},
   "outputs": [
    {
     "data": {
      "text/html": [
       "<div>\n",
       "<style scoped>\n",
       "    .dataframe tbody tr th:only-of-type {\n",
       "        vertical-align: middle;\n",
       "    }\n",
       "\n",
       "    .dataframe tbody tr th {\n",
       "        vertical-align: top;\n",
       "    }\n",
       "\n",
       "    .dataframe thead th {\n",
       "        text-align: right;\n",
       "    }\n",
       "</style>\n",
       "<table border=\"1\" class=\"dataframe\">\n",
       "  <thead>\n",
       "    <tr style=\"text-align: right;\">\n",
       "      <th></th>\n",
       "      <th>diagnosis_main</th>\n",
       "      <th>keywords</th>\n",
       "      <th>token</th>\n",
       "    </tr>\n",
       "    <tr>\n",
       "      <th>patient_id</th>\n",
       "      <th></th>\n",
       "      <th></th>\n",
       "      <th></th>\n",
       "    </tr>\n",
       "  </thead>\n",
       "  <tbody>\n",
       "    <tr>\n",
       "      <th>0</th>\n",
       "      <td>Comunicacion interauricular secundum</td>\n",
       "      <td>Comunicacion interauricular secundum</td>\n",
       "      <td>KMNKSNNTRRKLRSKNTM</td>\n",
       "    </tr>\n",
       "    <tr>\n",
       "      <th>1</th>\n",
       "      <td>Comunicacion interauricular secundum</td>\n",
       "      <td>Comunicacion interauricular secundum</td>\n",
       "      <td>KMNKSNNTRRKLRSKNTM</td>\n",
       "    </tr>\n",
       "    <tr>\n",
       "      <th>2</th>\n",
       "      <td>Comunicacion interauricular secundum</td>\n",
       "      <td>Comunicacion interauricular secundum</td>\n",
       "      <td>KMNKSNNTRRKLRSKNTM</td>\n",
       "    </tr>\n",
       "    <tr>\n",
       "      <th>3</th>\n",
       "      <td>Comunicacion interauricular secundum</td>\n",
       "      <td>Comunicacion interauricular secundum</td>\n",
       "      <td>KMNKSNNTRRKLRSKNTM</td>\n",
       "    </tr>\n",
       "    <tr>\n",
       "      <th>4</th>\n",
       "      <td>Comunicacion interauricular secundum</td>\n",
       "      <td>Comunicacion Interauricular Secundum</td>\n",
       "      <td>KMNKSNNTRRKLRSKNTM</td>\n",
       "    </tr>\n",
       "  </tbody>\n",
       "</table>\n",
       "</div>"
      ],
      "text/plain": [
       "                                  diagnosis_main  \\\n",
       "patient_id                                         \n",
       "0           Comunicacion interauricular secundum   \n",
       "1           Comunicacion interauricular secundum   \n",
       "2           Comunicacion interauricular secundum   \n",
       "3           Comunicacion interauricular secundum   \n",
       "4           Comunicacion interauricular secundum   \n",
       "\n",
       "                                        keywords               token  \n",
       "patient_id                                                            \n",
       "0           Comunicacion interauricular secundum  KMNKSNNTRRKLRSKNTM  \n",
       "1           Comunicacion interauricular secundum  KMNKSNNTRRKLRSKNTM  \n",
       "2           Comunicacion interauricular secundum  KMNKSNNTRRKLRSKNTM  \n",
       "3           Comunicacion interauricular secundum  KMNKSNNTRRKLRSKNTM  \n",
       "4           Comunicacion Interauricular Secundum  KMNKSNNTRRKLRSKNTM  "
      ]
     },
     "execution_count": 9,
     "metadata": {},
     "output_type": "execute_result"
    }
   ],
   "source": [
    "spread_df['diagnosis_main'] = kardiasclean.normalize_from_tokens(spread_df['token'], list_df['token'], list_df['diagnosis_main'])\n",
    "spread_df = spread_df.set_index(\"patient_id\")\n",
    "spread_df.head()"
   ]
  },
  {
   "cell_type": "markdown",
   "metadata": {},
   "source": [
    "## Part 4: Store in SQL\n",
    "\n",
    "1. NOTE: Create a database in Postgres first!\n",
    "2. Rename columns if necessary.\n",
    "3. Use pandas and replace, NO NEED FOR SCHEMA (CREATE TABLE ...)."
   ]
  },
  {
   "cell_type": "code",
   "execution_count": 10,
   "metadata": {},
   "outputs": [],
   "source": [
    "\n",
    "password = getpass('Enter database password')\n",
    "host = \"kardias-test.cvj7xeynbmtt.us-east-1.rds.amazonaws.com\"\n",
    "pgm = kardiasclean.PostgresManager(\"kardias\", password, host)"
   ]
  },
  {
   "cell_type": "code",
   "execution_count": 11,
   "metadata": {},
   "outputs": [
    {
     "data": {
      "text/plain": [
       "patient_id           1003\n",
       "gender               1003\n",
       "state                1003\n",
       "municipality         1003\n",
       "altitude             1003\n",
       "age                  1003\n",
       "weight_kg            1003\n",
       "height_cm            1003\n",
       "appearance           1003\n",
       "diagnosis_general    1003\n",
       "cx_previous          1003\n",
       "diagnosis_main       1003\n",
       "date_birth           1003\n",
       "date_procedure       1003\n",
       "procedure            1003\n",
       "rachs                1003\n",
       "stay_days            1003\n",
       "expired              1003\n",
       "dtype: int64"
      ]
     },
     "execution_count": 11,
     "metadata": {},
     "output_type": "execute_result"
    }
   ],
   "source": [
    "# STORE MAIN DATA\n",
    "pgm.create_table(\"patients\", df).count()"
   ]
  },
  {
   "cell_type": "code",
   "execution_count": 15,
   "metadata": {},
   "outputs": [
    {
     "data": {
      "text/plain": [
       "token             867\n",
       "diagnosis_main    867\n",
       "keywords          867\n",
       "dtype: int64"
      ]
     },
     "execution_count": 15,
     "metadata": {},
     "output_type": "execute_result"
    }
   ],
   "source": [
    "# STORE LIST DATA\n",
    "#list_df = list_df.set_index(\"token\")\n",
    "pgm.create_table(\"diagnosis_main\", list_df).count()"
   ]
  },
  {
   "cell_type": "code",
   "execution_count": 16,
   "metadata": {},
   "outputs": [
    {
     "data": {
      "text/plain": [
       "patient_id    1999\n",
       "token         1999\n",
       "dtype: int64"
      ]
     },
     "execution_count": 16,
     "metadata": {},
     "output_type": "execute_result"
    }
   ],
   "source": [
    "# STORE SPREAD DATA\n",
    "spread_df = spread_df.drop(columns=[\"diagnosis_main\", \"keywords\"])\n",
    "pgm.create_table(\"diagnosis_main_map\", spread_df).count()"
   ]
  },
  {
   "cell_type": "markdown",
   "metadata": {},
   "source": [
    "## DONE!"
   ]
  }
 ],
 "metadata": {
  "kernelspec": {
   "display_name": "Python 3 (ipykernel)",
   "language": "python",
   "name": "python3"
  },
  "language_info": {
   "codemirror_mode": {
    "name": "ipython",
    "version": 3
   },
   "file_extension": ".py",
   "mimetype": "text/x-python",
   "name": "python",
   "nbconvert_exporter": "python",
   "pygments_lexer": "ipython3",
   "version": "3.7.13"
  },
  "vscode": {
   "interpreter": {
    "hash": "8aa5a1cfddb6d76a13066421ca5af1c5da7c267f005fb570dae0abb7161333d3"
   }
  }
 },
 "nbformat": 4,
 "nbformat_minor": 2
}
